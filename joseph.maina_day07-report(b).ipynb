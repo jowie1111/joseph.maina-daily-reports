{
 "cells": [
  {
   "cell_type": "markdown",
   "id": "b0bf5cfd",
   "metadata": {},
   "source": [
    "---\n",
    "\n",
    "### Exercise 1:\n",
    "Write a Python function `add_numbers(a, b)` that takes two numbers and returns their sum.\n",
    "\n",
    "```python\n",
    "# Exercise 1\n",
    "```"
   ]
  },
  {
   "cell_type": "code",
   "execution_count": 2,
   "id": "abdddc86",
   "metadata": {},
   "outputs": [
    {
     "data": {
      "text/plain": [
       "3"
      ]
     },
     "execution_count": 2,
     "metadata": {},
     "output_type": "execute_result"
    }
   ],
   "source": [
    "def fun(a,b):\n",
    "    return a+b\n",
    "fun(1,2)\n"
   ]
  },
  {
   "cell_type": "code",
   "execution_count": 13,
   "id": "f0f38f6b",
   "metadata": {},
   "outputs": [
    {
     "data": {
      "text/plain": [
       "0"
      ]
     },
     "execution_count": 13,
     "metadata": {},
     "output_type": "execute_result"
    }
   ],
   "source": [
    "def fun1(x,y):\n",
    "    return x-y\n",
    "fun1(7,7)"
   ]
  },
  {
   "cell_type": "markdown",
   "id": "e37fcb88",
   "metadata": {},
   "source": [
    "---\n",
    "\n",
    "### Exercise 2:\n",
    "Create a function `greet(name)` that takes a name and prints \"Hello, <name>!\".\n",
    "\n",
    "```python\n",
    "# Exercise 2\n",
    "```\n",
    "\n",
    "---"
   ]
  },
  {
   "cell_type": "code",
   "execution_count": 22,
   "id": "d7eeff8f",
   "metadata": {
    "scrolled": true
   },
   "outputs": [
    {
     "name": "stdout",
     "output_type": "stream",
     "text": [
      "hello! sjkl\n"
     ]
    }
   ],
   "source": [
    "def my_name_greet(name):\n",
    "    print(f\"hello! {name}\")\n",
    "my_name_greet('sjkl')"
   ]
  },
  {
   "cell_type": "code",
   "execution_count": 29,
   "id": "a0fd1a8d",
   "metadata": {
    "scrolled": true
   },
   "outputs": [
    {
     "name": "stdout",
     "output_type": "stream",
     "text": [
      "Hello,!joseph\n"
     ]
    }
   ],
   "source": [
    "def greet(name):\n",
    "    \"\"\"this function prints out a name using a function\"\"\"\n",
    "    print(f\"Hello,!{name}\")\n",
    "greet('joseph')\n"
   ]
  },
  {
   "cell_type": "markdown",
   "id": "90da76a8",
   "metadata": {},
   "source": [
    "\n",
    "---\n",
    "\n",
    "### Exercise 3:\n",
    "Write a Python function `is_even(n)` that checks whether a number is even.\n",
    "\n",
    "```python\n",
    "# Exercise 3\n",
    "```\n",
    "\n",
    "---"
   ]
  },
  {
   "cell_type": "code",
   "execution_count": 26,
   "id": "69dd4322",
   "metadata": {},
   "outputs": [
    {
     "data": {
      "text/plain": [
       "True"
      ]
     },
     "execution_count": 26,
     "metadata": {},
     "output_type": "execute_result"
    }
   ],
   "source": [
    "def is_odd(i):\n",
    "    return i%2 !=0\n",
    "is_odd(9)"
   ]
  },
  {
   "cell_type": "code",
   "execution_count": 11,
   "id": "b59bf573",
   "metadata": {
    "scrolled": false
   },
   "outputs": [
    {
     "data": {
      "text/plain": [
       "True"
      ]
     },
     "execution_count": 11,
     "metadata": {},
     "output_type": "execute_result"
    }
   ],
   "source": [
    "def is_even(n):\n",
    "    return n %2==0\n",
    "is_even(8)"
   ]
  },
  {
   "cell_type": "markdown",
   "id": "232e67df",
   "metadata": {},
   "source": [
    "---\n",
    "\n",
    "### Exercise 4:\n",
    "Write a function `max_of_three(a, b, c)` that returns the largest of three numbers.\n",
    "\n",
    "```python\n",
    "# Exercise 4\n",
    "```\n",
    "\n",
    "---"
   ]
  },
  {
   "cell_type": "code",
   "execution_count": 33,
   "id": "6813f09e",
   "metadata": {},
   "outputs": [
    {
     "name": "stdout",
     "output_type": "stream",
     "text": [
      "3\n"
     ]
    }
   ],
   "source": [
    "def max_three_numbers(a, b, c):\n",
    "    return max (a,b,c)\n",
    "large=max_three_numbers(1,2,3)\n",
    "print(large)"
   ]
  },
  {
   "cell_type": "code",
   "execution_count": 36,
   "id": "585d2c55",
   "metadata": {},
   "outputs": [
    {
     "name": "stdout",
     "output_type": "stream",
     "text": [
      "1\n"
     ]
    }
   ],
   "source": [
    "def min_four_numbers(a,b,c,d):\n",
    "    return min(a,b,c,d)\n",
    "print(min_four_numbers(1,2,3,4))"
   ]
  },
  {
   "cell_type": "markdown",
   "id": "9589e8e0",
   "metadata": {},
   "source": [
    "---\n",
    "\n",
    "### Exercise 5:\n",
    "Create a Python module `math_utils.py` and define a function `square(x)` that returns the square of a number.\n",
    "\n",
    "```python\n",
    "# Exercise 5\n",
    "```"
   ]
  },
  {
   "cell_type": "code",
   "execution_count": 40,
   "id": "88834890",
   "metadata": {
    "scrolled": false
   },
   "outputs": [],
   "source": [
    "#import math_utilis.py\n",
    "#def square_numbe(x):\n",
    " #   return x*x\n"
   ]
  },
  {
   "cell_type": "markdown",
   "id": "fe965566",
   "metadata": {},
   "source": [
    "---\n",
    "\n",
    "### Exercise 7:\n",
    "Write a function `is_prime(n)` that checks if a number is prime.\n",
    "\n",
    "```python\n",
    "# Exercise 7\n",
    "```"
   ]
  },
  {
   "cell_type": "code",
   "execution_count": 75,
   "id": "a8d3d49c",
   "metadata": {},
   "outputs": [
    {
     "data": {
      "text/plain": [
       "True"
      ]
     },
     "execution_count": 75,
     "metadata": {},
     "output_type": "execute_result"
    }
   ],
   "source": [
    "def is_prime(n):\n",
    "    if n<=1:\n",
    "        return False\n",
    "    for i in range(2,int(n**0.5)+1):\n",
    "        if n%i==0:\n",
    "            return False\n",
    "    else:\n",
    "        return True\n",
    "is_prime(17)"
   ]
  }
 ],
 "metadata": {
  "kernelspec": {
   "display_name": "Python 3",
   "language": "python",
   "name": "python3"
  },
  "language_info": {
   "codemirror_mode": {
    "name": "ipython",
    "version": 3
   },
   "file_extension": ".py",
   "mimetype": "text/x-python",
   "name": "python",
   "nbconvert_exporter": "python",
   "pygments_lexer": "ipython3",
   "version": "3.9.2"
  }
 },
 "nbformat": 4,
 "nbformat_minor": 5
}
