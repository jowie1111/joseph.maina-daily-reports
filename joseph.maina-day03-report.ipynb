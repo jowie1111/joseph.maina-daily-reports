{
 "cells": [
  {
   "cell_type": "markdown",
   "metadata": {
    "id": "vuZYRaBzbIcs"
   },
   "source": [
    "## Practical 1: Version Control with Git: `local` "
   ]
  },
  {
   "cell_type": "markdown",
   "metadata": {},
   "source": [
    "<left> <b> <span style=\"color:red;\"> \n",
    "This notebook is focused on version control with a local repository. You are expected to go through it line by line, step by step. Execute each code cell and follow the instructions to understand how to manage version control locally. Experiment with commands, make changes, and observe how they affect your repository. Your hands-on interaction with the examples will enhance your comprehension of local version control practices.\n",
    "</span> </b></left>\n",
    "\n",
    "\n",
    "## You might find [this reference](https://ndpsoftware.com/git-cheatsheet.html#loc=index;) ,   [this command list](https://git-scm.com/docs) as well as  this [resource](https://git-scm.com/docs/gittutorial) very useful for this practical."
   ]
  },
  {
   "cell_type": "markdown",
   "metadata": {
    "id": "be02507b"
   },
   "source": [
    "### What is Version Control ?\n",
    "\n",
    "\n",
    "In software development, revision control systems (RCS) are essential tools. They are widely used across all development environments and by developers everywhere.\n",
    "\n",
    "RCS are versatile and not limited to just software projects; they are also invaluable for managing various types of digital content, including manuscripts, figures, data, and notebooks.\n",
    "\n",
    "Revision control systems (RCS) serve two primary purposes:\n",
    "\n",
    "1. **Track Changes in Source Code:**\n",
    "   - Enable tracking and managing changes to the source code.\n",
    "   - Allow reverting to previous versions if issues arise.\n",
    "   - Support working on multiple \"branches\" of the software at the same time.\n",
    "   - Use tags to identify and manage different versions, such as \"release-1.0\" or \"paper-A-final.\"\n",
    "\n",
    "2. **Facilitate Collaborative Development:**\n",
    "   - Allow multiple contributors to work on the same codebase simultaneously.\n",
    "   - Enable numerous authors to make and integrate changes.\n",
    "   - Provide clear communication and visualization of changes to all team members.\n",
    "\n",
    "\n",
    "\n",
    "\n",
    "### Basic Principles and Terminology of Revision Control Systems (RCS)\n",
    "\n",
    "In an RCS, source code or digital content is managed within a repository.\n",
    "\n",
    "- **Repository:** Stores not only the latest version of files but also the complete history of all changes made to these files since their initial addition to the repository.\n",
    "\n",
    "- **Checkout:** Users obtain a local working copy of the files from the repository. Changes are made to these local files, allowing for additions, deletions, and updates.\n",
    "\n",
    "- **Commit:** After completing a task, changes made to the local files are saved back to the repository.\n",
    "\n",
    "- **Conflict Resolution:** If changes have been made by others to the same files, conflicts may arise. The system often resolves conflicts automatically, but manual intervention may be necessary to merge conflicting changes.\n",
    "\n",
    "- **Branches and Forks:** For larger experimental developments, it’s common to create a new branch, fork, or clone of the repository. The primary branch is usually called `master` or `trunk`. Once work on a branch or fork is finished, it can be merged back into the main branch or repository.\n",
    "\n",
    "- **Distributed RCS:** Systems like Git or Mercurial allow for pulling and pushing changesets between different repositories. For instance, changes can be pushed from a local repository to a central online repository, such as those hosted on platforms like GitHub.\n",
    "\n",
    "\n",
    "In a few words, **version control** is a way to keep a backup of the changes in your\n",
    "files and to store a history of those changes.  The key charateristic of VC is that and it\n",
    "allows many people in a collaboration to make changes to the same files\n",
    "concurrently. VC is done via a VC system and there are a lot of them. [Wikipedia](https://en.wikipedia.org/wiki/Version_control)\n",
    "provides both a nice vocabulary list and a fairly complete table of some\n",
    "popular version control systems and their equivalent commands.\n",
    "\n",
    "\n",
    "\n",
    "### Popular Revision Control Systems\n",
    "\n",
    "- **Git (git):** [http://git-scm.com/](http://git-scm.com/)\n",
    "- **Mercurial (hg):** [http://mercurial.selenic.com/](http://mercurial.selenic.com/)\n",
    "\n",
    "In the remainder of this lecture, we will focus on Git. However, Mercurial is equally effective and operates in a very similar manner.\n",
    "\n",
    "We'll be using git. `Git` is an example of a distributed version control system, distinct from centralized versing control systems. I'll not discuss the distinction, but for now, the table below will\n",
    "suffice.\n",
    "\n",
    "Version Control System Tool Options\n",
    "\n",
    "- **Distributed** \n",
    "  - Decentralized CVS (dcvs)  \n",
    "  - mercurial (hg)\n",
    "  - git (git) \n",
    "  - bazaar (bzr)\n",
    "  \n",
    "- **Centralized**\n",
    "  - concurrent versions system (cvs)\n",
    "  - subversion (svn)"
   ]
  },
  {
   "cell_type": "markdown",
   "metadata": {},
   "source": [
    "## git --help : Getting Help\n",
    "\n",
    "The first thing you should know about any **tool** is how to get **help**. From the command line type\n",
    "\n",
    "```bash\n",
    "$ man git\n",
    "```\n",
    "\n",
    "If you remember from the **shell class**, **man** tells you more about a command and how to use it. The manual entry for the git version control system will appear before you. You may scroll through it using arrows, or you can search for\n",
    "keywords by typing **/** followed by the search term. I'm interested in help, so I type **/help** and then hit enter. It looks like the syntax for getting help with git is **git --help**."
   ]
  },
  {
   "cell_type": "code",
   "execution_count": 2,
   "metadata": {
    "scrolled": true
   },
   "outputs": [
    {
     "name": "stdout",
     "output_type": "stream",
     "text": [
      "\n",
      "Welcome to Python 3.9's help utility!\n",
      "\n",
      "If this is your first time using Python, you should definitely check out\n",
      "the tutorial on the Internet at https://docs.python.org/3.9/tutorial/.\n",
      "\n",
      "Enter the name of any module, keyword, or topic to get help on writing\n",
      "Python programs and using Python modules.  To quit this help utility and\n",
      "return to the interpreter, just type \"quit\".\n",
      "\n",
      "To get a list of available modules, keywords, symbols, or topics, type\n",
      "\"modules\", \"keywords\", \"symbols\", or \"topics\".  Each module also comes\n",
      "with a one-line summary of what it does; to list the modules whose name\n",
      "or summary contain a given string such as \"spam\", type \"modules spam\".\n",
      "\n",
      "help> spam\n",
      "No Python documentation found for 'spam'.\n",
      "Use help() to get the interactive help utility.\n",
      "Use help(str) for help on the str class.\n",
      "\n",
      "help> q\n",
      "\n",
      "You are now leaving help and returning to the Python interpreter.\n",
      "If you want to ask for help on a particular object directly from the\n",
      "interpreter, you can type \"help(object)\".  Executing \"help('string')\"\n",
      "has the same effect as typing a particular string at the help> prompt.\n"
     ]
    }
   ],
   "source": [
    "/help"
   ]
  },
  {
   "cell_type": "markdown",
   "metadata": {
    "id": "fee39700"
   },
   "source": [
    "To exit the manual page, type `q`.\n",
    "\n",
    "Let's see what happens when we type :\n",
    "\n",
    "```bash\n",
    "$ git --help\n",
    "```\n",
    "\n",
    "Excellent, it gives a list of commands it is able to help with, as well as their descriptions.\n",
    "\n",
    "```bash\n",
    "$  git help <command>' for more information on a specific command.\n",
    "```"
   ]
  },
  {
   "cell_type": "code",
   "execution_count": 3,
   "metadata": {},
   "outputs": [
    {
     "name": "stdout",
     "output_type": "stream",
     "text": [
      "usage: git [-v | --version] [-h | --help] [-C <path>] [-c <name>=<value>]\r\n",
      "           [--exec-path[=<path>]] [--html-path] [--man-path] [--info-path]\r\n",
      "           [-p | --paginate | -P | --no-pager] [--no-replace-objects] [--bare]\r\n",
      "           [--git-dir=<path>] [--work-tree=<path>] [--namespace=<name>]\r\n",
      "           [--super-prefix=<path>] [--config-env=<name>=<envvar>]\r\n",
      "           <command> [<args>]\r\n",
      "\r\n",
      "These are common Git commands used in various situations:\r\n",
      "\r\n",
      "start a working area (see also: git help tutorial)\r\n",
      "   clone     Clone a repository into a new directory\r\n",
      "   init      Create an empty Git repository or reinitialize an existing one\r\n",
      "\r\n",
      "work on the current change (see also: git help everyday)\r\n",
      "   add       Add file contents to the index\r\n",
      "   mv        Move or rename a file, a directory, or a symlink\r\n",
      "   restore   Restore working tree files\r\n",
      "   rm        Remove files from the working tree and from the index\r\n",
      "\r\n",
      "examine the history and state (see also: git help revisions)\r\n",
      "   bisect    Use binary search to find the commit that introduced a bug\r\n",
      "   diff      Show changes between commits, commit and working tree, etc\r\n",
      "   grep      Print lines matching a pattern\r\n",
      "   log       Show commit logs\r\n",
      "   show      Show various types of objects\r\n",
      "   status    Show the working tree status\r\n",
      "\r\n",
      "grow, mark and tweak your common history\r\n",
      "   branch    List, create, or delete branches\r\n",
      "   commit    Record changes to the repository\r\n",
      "   merge     Join two or more development histories together\r\n",
      "   rebase    Reapply commits on top of another base tip\r\n",
      "   reset     Reset current HEAD to the specified state\r\n",
      "   switch    Switch branches\r\n",
      "   tag       Create, list, delete or verify a tag object signed with GPG\r\n",
      "\r\n",
      "collaborate (see also: git help workflows)\r\n",
      "   fetch     Download objects and refs from another repository\r\n",
      "   pull      Fetch from and integrate with another repository or a local branch\r\n",
      "   push      Update remote refs along with associated objects\r\n",
      "\r\n",
      "'git help -a' and 'git help -g' list available subcommands and some\r\n",
      "concept guides. See 'git help <command>' or 'git help <concept>'\r\n",
      "to read about a specific subcommand or concept.\r\n",
      "See 'git help git' for an overview of the system.\r\n"
     ]
    }
   ],
   "source": [
    "! git --help"
   ]
  },
  {
   "cell_type": "markdown",
   "metadata": {
    "id": "da6e3f66"
   },
   "source": [
    "## git config : Controls the behavior of git\n",
    "A few settings are in order. You don't have to do it now but it is recommanded.\n",
    "\n",
    "```bash\n",
    "$ git config --global user.name \"YOUR NAME\"\n",
    "$ git config --global user.email \"YOUR EMAIL\"\n",
    "```     "
   ]
  },
  {
   "cell_type": "code",
   "execution_count": 4,
   "metadata": {},
   "outputs": [],
   "source": [
    "! git config --global user.name \"joseph maina\"\n",
    "!git config --global user.email \"joseph.maina@aims.ac.rw\""
   ]
  },
  {
   "cell_type": "code",
   "execution_count": null,
   "metadata": {},
   "outputs": [],
   "source": []
  },
  {
   "cell_type": "markdown",
   "metadata": {
    "id": "1b56ee4f"
   },
   "source": [
    "## git init : Creating a Local Repository\n",
    "\n",
    "To keep track of numerous versions of your work without saving numerous\n",
    "copies, you can make a local repository for it on your computer. What git\n",
    "does is to save the first version, then for each subsequent version it\n",
    "saves only the changes. This is the trick, git only records the difference between\n",
    "the new version and the one before it. With this compact information,\n",
    "git is able to recreate any version on demand by adding the changes to\n",
    "the original in order up to the version of interest.\n",
    "\n",
    "To create your own local (on your own machine) repository, you must\n",
    "initialize the repository with the infrastructure git needs in order to\n",
    "keep a record of things within the repository that you're concerned\n",
    "about. The command to do this is **git init** ."
   ]
  },
  {
   "cell_type": "code",
   "execution_count": 5,
   "metadata": {},
   "outputs": [
    {
     "name": "stdout",
     "output_type": "stream",
     "text": [
      "\u001b[33mhint: Using 'master' as the name for the initial branch. This default branch name\u001b[m\r\n",
      "\u001b[33mhint: is subject to change. To configure the initial branch name to use in all\u001b[m\r\n",
      "\u001b[33mhint: of your new repositories, which will suppress this warning, call:\u001b[m\r\n",
      "\u001b[33mhint: \u001b[m\r\n",
      "\u001b[33mhint: \tgit config --global init.defaultBranch <name>\u001b[m\r\n",
      "\u001b[33mhint: \u001b[m\r\n",
      "\u001b[33mhint: Names commonly chosen instead of 'master' are 'main', 'trunk' and\u001b[m\r\n",
      "\u001b[33mhint: 'development'. The just-created branch can be renamed via this command:\u001b[m\r\n",
      "\u001b[33mhint: \u001b[m\r\n",
      "\u001b[33mhint: \tgit branch -m <name>\u001b[m\r\n",
      "Initialized empty Git repository in /home/joseph/Downloads/.git/\r\n"
     ]
    }
   ],
   "source": [
    "!git init"
   ]
  },
  {
   "cell_type": "markdown",
   "metadata": {
    "id": "884dc97c"
   },
   "source": [
    "* * * * \n",
    "### Practical : Create a Local Repository\n",
    "\n",
    "Step 1 : Initialize your repository. Navigate to `/home`\n",
    "\n",
    "```bash\n",
    "$ cd\n",
    "$ mkdir simplestats\n",
    "$ cd simplestats\n",
    "$ git init\n",
    "Initialized empty Git repository in /home/me/simplestats/.git/\n",
    "```\n"
   ]
  },
  {
   "cell_type": "code",
   "execution_count": 6,
   "metadata": {},
   "outputs": [],
   "source": [
    "!cd\n"
   ]
  },
  {
   "cell_type": "code",
   "execution_count": 9,
   "metadata": {},
   "outputs": [
    {
     "name": "stdout",
     "output_type": "stream",
     "text": [
      "mkdir: cannot create directory ‘simplestats’: File exists\n",
      "Reinitialized existing Git repository in /home/joseph/Downloads/.git/\n"
     ]
    }
   ],
   "source": [
    "! mkdir simplestats\n",
    "!cd simplestats\n",
    "!git init"
   ]
  },
  {
   "cell_type": "markdown",
   "metadata": {},
   "source": [
    "Step 2 : Browse the directory's hidden files to see what happened here.\n",
    "Open directories, browse file contents. Learn what you can in a minute.\n",
    "\n",
    "```bash\n",
    "$ ls -A .git\n",
    "$ cd .git\n",
    "$ ls -A\n",
    "HEAD        config      description hooks       info        objects     refs      branches\n",
    "```\n",
    "\n"
   ]
  },
  {
   "cell_type": "code",
   "execution_count": null,
   "metadata": {},
   "outputs": [],
   "source": []
  },
  {
   "cell_type": "markdown",
   "metadata": {},
   "source": [
    "Step 3 : Use what you've learned. You may have noticed the file called description. You can describe your repository by opening the description file and replacing the text with a name for the repository.  We will be creating a module with some simple statistical methods, so mine will be called \"Some simple methods for statistical analysis\". You may call yours  anything you like.\n",
    "\n",
    "```bash\n",
    "$ nano description\n",
    "```"
   ]
  },
  {
   "cell_type": "code",
   "execution_count": 56,
   "metadata": {},
   "outputs": [
    {
     "name": "stdout",
     "output_type": "stream",
     "text": [
      "Basic Statistical Analysis Module"
     ]
    }
   ],
   "source": [
    "!gedit description \n",
    "!cat description"
   ]
  },
  {
   "cell_type": "code",
   "execution_count": 16,
   "metadata": {},
   "outputs": [],
   "source": [
    "with open('description', 'w') as file:\n",
    "    file.write('Basic Statistical Analysis Module')\n"
   ]
  },
  {
   "cell_type": "raw",
   "metadata": {},
   "source": [
    "You can use `!tree` or `tree` to display the directory structure in a tree-like format"
   ]
  },
  {
   "cell_type": "code",
   "execution_count": 55,
   "metadata": {
    "scrolled": true
   },
   "outputs": [
    {
     "name": "stdout",
     "output_type": "stream",
     "text": [
      "\u001b[01;34m.\u001b[00m\n",
      "├── 01_Lecture01(1).ipynb\n",
      "├── 01_Lecture01.ipynb\n",
      "├── 02_Lecture02.ipynb\n",
      "├── data.txt\n",
      "├── description\n",
      "├── description.save\n",
      "├── Joseph_maina_ICLRP(1).Rmd\n",
      "├── Joseph_maina_ICLRP.Rmd\n",
      "├── \u001b[01;34mpython_course_colab_notebooks\u001b[00m\n",
      "│   ├── 00_Lecture00.ipynb\n",
      "│   ├── 01_Lecture01.ipynb\n",
      "│   ├── 02_Lecture02.ipynb\n",
      "│   ├── 03_Lecture03.ipynb\n",
      "│   ├── 04_Lecture04.ipynb\n",
      "│   ├── 05_Lecture05.ipynb\n",
      "│   ├── 06_Lecture06.ipynb\n",
      "│   ├── 07_Lecture07.ipynb\n",
      "│   ├── \u001b[01;34mhtmls\u001b[00m\n",
      "│   │   ├── Lecture0.html\n",
      "│   │   ├── Lecture1.html\n",
      "│   │   ├── Lecture2.html\n",
      "│   │   ├── Lecture3.html\n",
      "│   │   ├── Lecture4.html\n",
      "│   │   ├── Lecture5.html\n",
      "│   │   ├── Lecture6.html\n",
      "│   │   ├── Lecture7.html\n",
      "│   │   └── readme.md\n",
      "│   ├── \u001b[01;34mpdfs\u001b[00m\n",
      "│   │   ├── Lecture0.pdf\n",
      "│   │   ├── Lecture1.pdf\n",
      "│   │   ├── Lecture2.pdf\n",
      "│   │   ├── Lecture3.pdf\n",
      "│   │   ├── Lecture4.pdf\n",
      "│   │   ├── Lecture5.pdf\n",
      "│   │   ├── Lecture6.pdf\n",
      "│   │   ├── Lecture7.pdf\n",
      "│   │   └── readme.md\n",
      "│   └── README.md\n",
      "├── Question10.sh\n",
      "├── READ.md\n",
      "├── \u001b[01;34msimplestats\u001b[00m\n",
      "├── \u001b[01;34mtest-aims-rw-2024-25\u001b[00m\n",
      "│   ├── git-and-github.ipynb\n",
      "│   ├── git-and-github.md\n",
      "│   └── README.md\n",
      "└── version_control_local.ipynb\n",
      "\n",
      "5 directories, 41 files\n",
      "/home/joseph/Downloads\n"
     ]
    }
   ],
   "source": [
    "!cd /home/joseph/Downloads/simplestats/\n",
    "!tree\n",
    "!pwd"
   ]
  },
  {
   "cell_type": "markdown",
   "metadata": {
    "id": "8-rwgD5HbIdj"
   },
   "source": [
    "* * *  *\n",
    "An interesting command I would like you to test is `git status`, I will describe it later but let's see what it displays now.\n",
    "```bash\n",
    "$ git status\n",
    "On branch master\n",
    "\n",
    "No commits yet\n",
    "\n",
    "nothing to commit (create/copy files and use \"git add\" to track)\n",
    "```\n",
    "\n",
    "* * *  *\n"
   ]
  },
  {
   "cell_type": "code",
   "execution_count": 18,
   "metadata": {},
   "outputs": [
    {
     "name": "stdout",
     "output_type": "stream",
     "text": [
      "On branch master\r\n",
      "\r\n",
      "No commits yet\r\n",
      "\r\n",
      "Untracked files:\r\n",
      "  (use \"git add <file>...\" to include in what will be committed)\r\n",
      "\t\u001b[31m.ipynb_checkpoints/\u001b[m\r\n",
      "\t\u001b[31m01_Lecture01(1).ipynb\u001b[m\r\n",
      "\t\u001b[31m01_Lecture01.ipynb\u001b[m\r\n",
      "\t\u001b[31m02_Lecture02.ipynb\u001b[m\r\n",
      "\t\u001b[31mJoseph_maina_ICLRP(1).Rmd\u001b[m\r\n",
      "\t\u001b[31mJoseph_maina_ICLRP.Rmd\u001b[m\r\n",
      "\t\u001b[31mQuestion10.sh\u001b[m\r\n",
      "\t\u001b[31mdata.txt\u001b[m\r\n",
      "\t\u001b[31mdescription\u001b[m\r\n",
      "\t\u001b[31mdescription.save\u001b[m\r\n",
      "\t\u001b[31mpython_course_colab_notebooks/\u001b[m\r\n",
      "\t\u001b[31mtest-aims-rw-2024-25/\u001b[m\r\n",
      "\t\u001b[31mversion_control_local.ipynb\u001b[m\r\n",
      "\r\n",
      "nothing added to commit but untracked files present (use \"git add\" to track)\r\n"
     ]
    }
   ],
   "source": [
    "!git status"
   ]
  },
  {
   "cell_type": "markdown",
   "metadata": {
    "id": "bdcfca76"
   },
   "source": [
    "## git add : Adding a File To Version Control\n",
    "\n",
    "For the git repository to know which files within this directory you\n",
    "would like to keep track of, you must add them. First, you'll need to\n",
    "create one, then we'll learn the **git add** command."
   ]
  },
  {
   "cell_type": "markdown",
   "metadata": {
    "id": "a6f520a2"
   },
   "source": [
    "* * * * \n",
    "### Practical : Add a File to Your Local Repository\n",
    "\n",
    "Step 1 : Create a file to add to your repository.\n",
    "\n",
    "```bash\n",
    "$ touch README.md\n",
    "```\n",
    "\n"
   ]
  },
  {
   "cell_type": "code",
   "execution_count": 48,
   "metadata": {},
   "outputs": [
    {
     "name": "stdout",
     "output_type": "stream",
     "text": [
      "/home/joseph/Downloads\r\n"
     ]
    }
   ],
   "source": [
    "!touch READ.md\n",
    "!pwd"
   ]
  },
  {
   "cell_type": "markdown",
   "metadata": {},
   "source": [
    "Step 2: Verify that git has seen the file.\n",
    "\n",
    "```bash\n",
    "$ git status\n",
    "# On branch master\n",
    "\n",
    "# No commits yet\n",
    "\n",
    "# Untracked files:\n",
    "#(use \"git add <file>...\" to include in what will be committed) README.md\n",
    "\n",
    "# nothing added to commit but untracked files present (use \"git add\" to track)\n",
    "```\n"
   ]
  },
  {
   "cell_type": "code",
   "execution_count": 20,
   "metadata": {},
   "outputs": [
    {
     "name": "stdout",
     "output_type": "stream",
     "text": [
      "On branch master\r\n",
      "\r\n",
      "No commits yet\r\n",
      "\r\n",
      "Untracked files:\r\n",
      "  (use \"git add <file>...\" to include in what will be committed)\r\n",
      "\t\u001b[31m.ipynb_checkpoints/\u001b[m\r\n",
      "\t\u001b[31m01_Lecture01(1).ipynb\u001b[m\r\n",
      "\t\u001b[31m01_Lecture01.ipynb\u001b[m\r\n",
      "\t\u001b[31m02_Lecture02.ipynb\u001b[m\r\n",
      "\t\u001b[31mJoseph_maina_ICLRP(1).Rmd\u001b[m\r\n",
      "\t\u001b[31mJoseph_maina_ICLRP.Rmd\u001b[m\r\n",
      "\t\u001b[31mQuestion10.sh\u001b[m\r\n",
      "\t\u001b[31mREAD.md\u001b[m\r\n",
      "\t\u001b[31mdata.txt\u001b[m\r\n",
      "\t\u001b[31mdescription\u001b[m\r\n",
      "\t\u001b[31mdescription.save\u001b[m\r\n",
      "\t\u001b[31mpython_course_colab_notebooks/\u001b[m\r\n",
      "\t\u001b[31mtest-aims-rw-2024-25/\u001b[m\r\n",
      "\t\u001b[31mversion_control_local.ipynb\u001b[m\r\n",
      "\r\n",
      "nothing added to commit but untracked files present (use \"git add\" to track)\r\n"
     ]
    }
   ],
   "source": [
    "! git status"
   ]
  },
  {
   "cell_type": "markdown",
   "metadata": {},
   "source": [
    "\n",
    "Step 3 : Inform git that you would like to keep track of future changes\n",
    "in this file.\n",
    "\n",
    "```bash\n",
    "$ git add README.md\n",
    "```"
   ]
  },
  {
   "cell_type": "code",
   "execution_count": 59,
   "metadata": {},
   "outputs": [
    {
     "name": "stdout",
     "output_type": "stream",
     "text": [
      "/bin/bash: line 1: cd/home/joseph/Downloads/simplestats/: No such file or directory\n",
      "'01_Lecture01(1).ipynb'       Joseph_maina_ICLRP.Rmd\n",
      " 01_Lecture01.ipynb\t      python_course_colab_notebooks\n",
      " 02_Lecture02.ipynb\t      Question10.sh\n",
      " data.txt\t\t      READ.md\n",
      " description\t\t      simplestats\n",
      " description.save\t      test-aims-rw-2024-25\n",
      "'Joseph_maina_ICLRP(1).Rmd'   version_control_local.ipynb\n"
     ]
    }
   ],
   "source": [
    "!cd/home/joseph/Downloads/simplestats/\n",
    "!ls\n",
    "!git add READ.md"
   ]
  },
  {
   "cell_type": "markdown",
   "metadata": {
    "id": "31901d46"
   },
   "source": [
    "## git status : Checking the status of your local copy\n",
    "\n",
    "The files you've created on your machine are your local \"working\" copy.\n",
    "The changes your make in this local copy aren't backed up online\n",
    "automatically. Until you commit them, the changes you make are local\n",
    "changes. When you change anything, your set of files becomes different\n",
    "from the files in the official repository copy. To find out what's\n",
    "different about them in the terminal, try:\n",
    "\n",
    "```bash\n",
    "$ git status\n",
    "# On branch master\n",
    "#\n",
    "# No commits yet\n",
    "#\n",
    "# Changes to be committed:\n",
    "#   (use \"git rm --cached <file>...\" to unstage)\n",
    "#\n",
    "#       new file:   README.md\n",
    "#\n",
    "```\n",
    "\n",
    "The null result means that you're up to date with the current version of\n",
    "the repository online. This result indicates that the current difference\n",
    "between the repository HEAD (which, so far, is empty) and your\n",
    "`simplestats` directory is this new README.md file."
   ]
  },
  {
   "cell_type": "code",
   "execution_count": 62,
   "metadata": {},
   "outputs": [
    {
     "name": "stdout",
     "output_type": "stream",
     "text": [
      "On branch master\r\n",
      "\r\n",
      "No commits yet\r\n",
      "\r\n",
      "Changes to be committed:\r\n",
      "  (use \"git rm --cached <file>...\" to unstage)\r\n",
      "\t\u001b[32mnew file:   READ.md\u001b[m\r\n",
      "\r\n",
      "Untracked files:\r\n",
      "  (use \"git add <file>...\" to include in what will be committed)\r\n",
      "\t\u001b[31m.ipynb_checkpoints/\u001b[m\r\n",
      "\t\u001b[31m01_Lecture01(1).ipynb\u001b[m\r\n",
      "\t\u001b[31m01_Lecture01.ipynb\u001b[m\r\n",
      "\t\u001b[31m02_Lecture02.ipynb\u001b[m\r\n",
      "\t\u001b[31mJoseph_maina_ICLRP(1).Rmd\u001b[m\r\n",
      "\t\u001b[31mJoseph_maina_ICLRP.Rmd\u001b[m\r\n",
      "\t\u001b[31mQuestion10.sh\u001b[m\r\n",
      "\t\u001b[31mdata.txt\u001b[m\r\n",
      "\t\u001b[31mdescription\u001b[m\r\n",
      "\t\u001b[31mdescription.save\u001b[m\r\n",
      "\t\u001b[31mpython_course_colab_notebooks/\u001b[m\r\n",
      "\t\u001b[31mtest-aims-rw-2024-25/\u001b[m\r\n",
      "\t\u001b[31mversion_control_local.ipynb\u001b[m\r\n",
      "\r\n"
     ]
    }
   ],
   "source": [
    "! git status\n",
    "!git add READ.md"
   ]
  },
  {
   "cell_type": "markdown",
   "metadata": {
    "id": "5c0466af"
   },
   "source": [
    "## git commit : Saving a snapshot\n",
    "\n",
    "In order to save a snapshot of the current state (revision) of the\n",
    "repository, we use the commit command. This command is always associated\n",
    "with a message describing the changes since the last commit and\n",
    "indicating their purpose. Informative commit messages will serve you\n",
    "well someday, so make a habit of never committing changes without at\n",
    "least a full sentence description.\n",
    "\n",
    "**ADVICE: Commit often**\n",
    "\n",
    "In the same way that it is wise to often save a document that you are\n",
    "working on, so too is it wise to save numerous revisions of your code.\n",
    "More frequent commits increase the granularity of your **undo** button.\n",
    "\n",
    "**ADVICE: Good commit messages**\n",
    "\n",
    "There are no hard and fast rules, but good commits are atomic: they are the smallest change that remain meaningful. A good commit message usually contains a one-line description followed by a longer explanation if necessary.\n"
   ]
  },
  {
   "cell_type": "markdown",
   "metadata": {
    "id": "ad25127c"
   },
   "source": [
    "* * * \n",
    "### Practical : Commit Your Changes\n",
    "\n",
    "Step 1 : Commit the file you've added to your repository.\n",
    "\n",
    "```bash\n",
    "$ git commit -am \"This is the first commit. It adds a readme file.\"\n",
    "  #[master (root-commit) 664867c] This is the first commit. It adds a readme file.\n",
    "  #1 file changed, 0 insertions(+), 0 deletions(-)\n",
    "  #create mode 100644 readme.md\n",
    "```  "
   ]
  },
  {
   "cell_type": "code",
   "execution_count": 66,
   "metadata": {
    "scrolled": false
   },
   "outputs": [
    {
     "name": "stdout",
     "output_type": "stream",
     "text": [
      "On branch master\r\n",
      "Untracked files:\r\n",
      "  (use \"git add <file>...\" to include in what will be committed)\r\n",
      "\t\u001b[31m.ipynb_checkpoints/\u001b[m\r\n",
      "\t\u001b[31m01_Lecture01(1).ipynb\u001b[m\r\n",
      "\t\u001b[31m01_Lecture01.ipynb\u001b[m\r\n",
      "\t\u001b[31m02_Lecture02.ipynb\u001b[m\r\n",
      "\t\u001b[31mJoseph_maina_ICLRP(1).Rmd\u001b[m\r\n",
      "\t\u001b[31mJoseph_maina_ICLRP.Rmd\u001b[m\r\n",
      "\t\u001b[31mQuestion10.sh\u001b[m\r\n",
      "\t\u001b[31mdata.txt\u001b[m\r\n",
      "\t\u001b[31mdescription\u001b[m\r\n",
      "\t\u001b[31mdescription.save\u001b[m\r\n",
      "\t\u001b[31mpython_course_colab_notebooks/\u001b[m\r\n",
      "\t\u001b[31mtest-aims-rw-2024-25/\u001b[m\r\n",
      "\t\u001b[31mversion_control_local.ipynb\u001b[m\r\n",
      "\r\n",
      "nothing added to commit but untracked files present (use \"git add\" to track)\r\n"
     ]
    }
   ],
   "source": [
    "!git commit -am \"This is the first commit. It adds a readme file.\""
   ]
  },
  {
   "cell_type": "markdown",
   "metadata": {},
   "source": [
    "Step 2 : Admire your work.\n",
    "\n",
    "```bash\n",
    "$ git status\n",
    "# On branch master\n",
    "nothing to commit, working tree clean\n",
    "```"
   ]
  },
  {
   "cell_type": "code",
   "execution_count": 64,
   "metadata": {
    "scrolled": true
   },
   "outputs": [
    {
     "name": "stdout",
     "output_type": "stream",
     "text": [
      "On branch master\r\n",
      "Untracked files:\r\n",
      "  (use \"git add <file>...\" to include in what will be committed)\r\n",
      "\t\u001b[31m.ipynb_checkpoints/\u001b[m\r\n",
      "\t\u001b[31m01_Lecture01(1).ipynb\u001b[m\r\n",
      "\t\u001b[31m01_Lecture01.ipynb\u001b[m\r\n",
      "\t\u001b[31m02_Lecture02.ipynb\u001b[m\r\n",
      "\t\u001b[31mJoseph_maina_ICLRP(1).Rmd\u001b[m\r\n",
      "\t\u001b[31mJoseph_maina_ICLRP.Rmd\u001b[m\r\n",
      "\t\u001b[31mQuestion10.sh\u001b[m\r\n",
      "\t\u001b[31mdata.txt\u001b[m\r\n",
      "\t\u001b[31mdescription\u001b[m\r\n",
      "\t\u001b[31mdescription.save\u001b[m\r\n",
      "\t\u001b[31mpython_course_colab_notebooks/\u001b[m\r\n",
      "\t\u001b[31mtest-aims-rw-2024-25/\u001b[m\r\n",
      "\t\u001b[31mversion_control_local.ipynb\u001b[m\r\n",
      "\r\n",
      "nothing added to commit but untracked files present (use \"git add\" to track)\r\n"
     ]
    }
   ],
   "source": [
    "!git status"
   ]
  },
  {
   "cell_type": "markdown",
   "metadata": {
    "id": "46cbed6f"
   },
   "source": [
    "## git diff : Viewing the Differences\n",
    "\n",
    "There are many diff tools.\n",
    "\n",
    "If you have a favorite you can set your default git diff tool to execute that one. Git, however, comes with its own diff system.\n",
    "\n",
    "Let's recall the behavior of the linux [`diff`](https://www.geeksforgeeks.org/diff-command-linux-examples/) command on the command line. The equivalent command for windows is [fc](https://www.howtogeek.com/206123/how-to-use-fc-file-compare-from-the-windows-command-prompt/). Choosing two files that are similar, the command:\n",
    "\n",
    "```bash\n",
    "$!diff file1 file2\n",
    "```\n",
    "\n",
    "will output the lines that differ between the two files. This information can be saved as what's known as a patch, but we won't go deeply into that just now.\n"
   ]
  },
  {
   "cell_type": "markdown",
   "metadata": {},
   "source": [
    "The only difference between the command line diff tool and git's diff tool is that the git tool is aware of all of the revisions in your repository, allowing each revision of each file to be treated as a full file.\n",
    "\n",
    "\n",
    "Thus, git diff will output the changes in your working directory that are not yet staged for a commit. To see how this works, make a change in your `README.md` file, but don't yet commit it.\n",
    "\n",
    "```bash\n",
    "$ git diff\n",
    "```"
   ]
  },
  {
   "cell_type": "code",
   "execution_count": 74,
   "metadata": {
    "scrolled": true
   },
   "outputs": [
    {
     "name": "stdout",
     "output_type": "stream",
     "text": [
      "^C\r\n"
     ]
    }
   ],
   "source": [
    "! touch READ2.md\n",
    "!gedit READ2.md"
   ]
  },
  {
   "cell_type": "code",
   "execution_count": 76,
   "metadata": {},
   "outputs": [
    {
     "name": "stdout",
     "output_type": "stream",
     "text": [
      "^C\r\n"
     ]
    }
   ],
   "source": [
    "!gedit READ.md"
   ]
  },
  {
   "cell_type": "code",
   "execution_count": 80,
   "metadata": {},
   "outputs": [
    {
     "name": "stdout",
     "output_type": "stream",
     "text": [
      "1c1\n",
      "< this is my first rmd fle\n",
      "---\n",
      "> this is my second file\n",
      "\u001b[1mdiff --git a/READ.md b/READ.md\u001b[m\n",
      "\u001b[1mindex e69de29..8cd66e8 100644\u001b[m\n",
      "\u001b[1m--- a/READ.md\u001b[m\n",
      "\u001b[1m+++ b/READ.md\u001b[m\n",
      "\u001b[36m@@ -0,0 +1 @@\u001b[m\n",
      "\u001b[32m+\u001b[m\u001b[32mthis is my first rmd fle\u001b[m\n"
     ]
    }
   ],
   "source": [
    "!diff READ.md  READ2.md\n",
    "!git diff READ.md  READ2.md\n"
   ]
  },
  {
   "cell_type": "markdown",
   "metadata": {},
   "source": [
    "A summarized version of this output can be output with the `--stat` flag :\n",
    "\n",
    "```bash\n",
    "$ git diff --stat\n",
    "```"
   ]
  },
  {
   "cell_type": "code",
   "execution_count": 81,
   "metadata": {},
   "outputs": [
    {
     "name": "stdout",
     "output_type": "stream",
     "text": [
      " READ.md | 1 \u001b[32m+\u001b[m\r\n",
      " 1 file changed, 1 insertion(+)\r\n"
     ]
    }
   ],
   "source": [
    "! git diff --stat READ.md  READ2.md"
   ]
  },
  {
   "cell_type": "markdown",
   "metadata": {},
   "source": [
    "To see only the differences in a certain path, try:\n",
    "\n",
    "```bash\n",
    "$ git diff HEAD -- [path]\n",
    "```"
   ]
  },
  {
   "cell_type": "code",
   "execution_count": 83,
   "metadata": {},
   "outputs": [
    {
     "name": "stdout",
     "output_type": "stream",
     "text": [
      "\u001b[1mdiff --git a/READ.md b/READ.md\u001b[m\n",
      "\u001b[1mindex e69de29..8cd66e8 100644\u001b[m\n",
      "\u001b[1m--- a/READ.md\u001b[m\n",
      "\u001b[1m+++ b/READ.md\u001b[m\n",
      "\u001b[36m@@ -0,0 +1 @@\u001b[m\n",
      "\u001b[32m+\u001b[m\u001b[32mthis is my first rmd fle\u001b[m\n",
      "/home/joseph/Downloads\n"
     ]
    }
   ],
   "source": [
    "!git diff HEAD -- /home/joseph/Downloads\n",
    "!pwd"
   ]
  },
  {
   "cell_type": "markdown",
   "metadata": {},
   "source": [
    "To see what IS staged for commit (that is, what will be committed if you\n",
    "type git commit without the -a flag), you can try :\n",
    "```bash\n",
    "$ git diff --cached\n",
    "```"
   ]
  },
  {
   "cell_type": "code",
   "execution_count": 84,
   "metadata": {},
   "outputs": [],
   "source": [
    "! git diff --cached"
   ]
  },
  {
   "cell_type": "markdown",
   "metadata": {
    "id": "181eb736"
   },
   "source": [
    "## git log : Viewing the History\n",
    "\n",
    "A log of the commit messages is kept by the repository and can be\n",
    "reviewed with the log command.\n",
    "\n",
    "```bash\n",
    "    $ git log       \n",
    "   commit 664867c42a05461702388310155b785a287d0308 (HEAD -> master)\n",
    "    Author: Techni Preneurs <ai.technipreneurs@gmail.com>\n",
    "    Date:   Wed Sep 11 20:31:07 2024 +0200\n",
    "\n",
    "        This is the first commit. It adds a readme file.    \n",
    "```\n"
   ]
  },
  {
   "cell_type": "code",
   "execution_count": 73,
   "metadata": {},
   "outputs": [
    {
     "name": "stdout",
     "output_type": "stream",
     "text": [
      "\u001b[33mcommit a67f98d0de7141bb29121922bec5b7ad910146b6\u001b[m\u001b[33m (\u001b[m\u001b[1;36mHEAD -> \u001b[m\u001b[1;32mmaster\u001b[m\u001b[33m)\u001b[m\r\n",
      "Author: joseph maina <joseph.maina@aims.ac.rw>\r\n",
      "Date:   Thu Sep 26 17:54:38 2024 +0200\r\n",
      "\r\n",
      "    This is the first commit. It adds a readme file.\r\n"
     ]
    }
   ],
   "source": [
    "! git log "
   ]
  },
  {
   "cell_type": "markdown",
   "metadata": {},
   "source": [
    "There are some useful flags for this command, such as\n",
    "\n",
    "    -p\n",
    "    -3\n",
    "    --stat\n",
    "    --oneline\n",
    "    --graph\n",
    "    --pretty=short/full/fuller/oneline\n",
    "    --since=X.minutes/hours/days/weeks/months/years or YY-MM-DD-HH:MM\n",
    "    --until=X.minutes/hours/days/weeks/months/years or YY-MM-DD-HH:MM\n",
    "    --author=<pattern>"
   ]
  },
  {
   "cell_type": "markdown",
   "metadata": {
    "id": "8f0edce4"
   },
   "source": [
    "## git reset : Unstaging a staged file\n",
    "\n",
    "There are a number of ways that you may accidentally stage a file that\n",
    "you don't want to commit.  Create a file called `temp_notes` that\n",
    "describes what you had for breakfast, and then add that file to your\n",
    "repo.  Check with `status` to see that it is added but not committed.\n",
    "\n",
    "You can now unstage that file with:\n",
    "\n",
    "```bash\n",
    "$ git reset temp_notes\n",
    "```\n",
    "\n",
    "Check with `status`."
   ]
  },
  {
   "cell_type": "code",
   "execution_count": 89,
   "metadata": {},
   "outputs": [
    {
     "name": "stdout",
     "output_type": "stream",
     "text": [
      "On branch master\n",
      "Changes to be committed:\n",
      "  (use \"git restore --staged <file>...\" to unstage)\n",
      "\t\u001b[32mnew file:   temp_notes.txt\u001b[m\n",
      "\n",
      "Changes not staged for commit:\n",
      "  (use \"git add <file>...\" to update what will be committed)\n",
      "  (use \"git restore <file>...\" to discard changes in working directory)\n",
      "\t\u001b[31mmodified:   READ.md\u001b[m\n",
      "\n",
      "Untracked files:\n",
      "  (use \"git add <file>...\" to include in what will be committed)\n",
      "\t\u001b[31m.ipynb_checkpoints/\u001b[m\n",
      "\t\u001b[31m01_Lecture01(1).ipynb\u001b[m\n",
      "\t\u001b[31m01_Lecture01.ipynb\u001b[m\n",
      "\t\u001b[31m02_Lecture02.ipynb\u001b[m\n",
      "\t\u001b[31mJoseph_maina_ICLRP(1).Rmd\u001b[m\n",
      "\t\u001b[31mJoseph_maina_ICLRP.Rmd\u001b[m\n",
      "\t\u001b[31mQuestion10.sh\u001b[m\n",
      "\t\u001b[31mREAD2.md\u001b[m\n",
      "\t\u001b[31mdata.txt\u001b[m\n",
      "\t\u001b[31mdescription\u001b[m\n",
      "\t\u001b[31mdescription.save\u001b[m\n",
      "\t\u001b[31mpython_course_colab_notebooks/\u001b[m\n",
      "\t\u001b[31mtest-aims-rw-2024-25/\u001b[m\n",
      "\t\u001b[31mversion_control_local.ipynb\u001b[m\n",
      "\n",
      "fatal: ambiguous argument 'temp_notes': unknown revision or path not in the working tree.\n",
      "Use '--' to separate paths from revisions, like this:\n",
      "'git <command> [<revision>...] -- [<file>...]'\n",
      "On branch master\n",
      "Changes to be committed:\n",
      "  (use \"git restore --staged <file>...\" to unstage)\n",
      "\t\u001b[32mnew file:   temp_notes.txt\u001b[m\n",
      "\n",
      "Changes not staged for commit:\n",
      "  (use \"git add <file>...\" to update what will be committed)\n",
      "  (use \"git restore <file>...\" to discard changes in working directory)\n",
      "\t\u001b[31mmodified:   READ.md\u001b[m\n",
      "\n",
      "Untracked files:\n",
      "  (use \"git add <file>...\" to include in what will be committed)\n",
      "\t\u001b[31m.ipynb_checkpoints/\u001b[m\n",
      "\t\u001b[31m01_Lecture01(1).ipynb\u001b[m\n",
      "\t\u001b[31m01_Lecture01.ipynb\u001b[m\n",
      "\t\u001b[31m02_Lecture02.ipynb\u001b[m\n",
      "\t\u001b[31mJoseph_maina_ICLRP(1).Rmd\u001b[m\n",
      "\t\u001b[31mJoseph_maina_ICLRP.Rmd\u001b[m\n",
      "\t\u001b[31mQuestion10.sh\u001b[m\n",
      "\t\u001b[31mREAD2.md\u001b[m\n",
      "\t\u001b[31mdata.txt\u001b[m\n",
      "\t\u001b[31mdescription\u001b[m\n",
      "\t\u001b[31mdescription.save\u001b[m\n",
      "\t\u001b[31mpython_course_colab_notebooks/\u001b[m\n",
      "\t\u001b[31mtest-aims-rw-2024-25/\u001b[m\n",
      "\t\u001b[31mversion_control_local.ipynb\u001b[m\n",
      "\n"
     ]
    }
   ],
   "source": [
    "!touch temp_notes.txt\n",
    "#!gedit temp_notes.txt\n",
    "!git add temp_notes.txt\n",
    "!git status\n",
    "!git reset temp_notes\n",
    "!git status"
   ]
  },
  {
   "cell_type": "markdown",
   "metadata": {
    "id": "f949535f"
   },
   "source": [
    "## git checkout : Discarding unstaged modifications (git checkout has other purposes)\n",
    "\n",
    "Perhaps you have made a number of changes that you realize are not\n",
    "going anywhere.  Add a line to `README.md` that describes your dinner\n",
    "last night.  Check with `status` to see that the file is changed and\n",
    "ready to be added.\n",
    "\n",
    "You can now return to previous checked in version with:\n",
    "```bash\n",
    "$ git checkout -- README.md\n",
    "```\n",
    "Check with `status` and take a look at the file."
   ]
  },
  {
   "cell_type": "code",
   "execution_count": 104,
   "metadata": {},
   "outputs": [
    {
     "name": "stdout",
     "output_type": "stream",
     "text": [
      "\u001b[2B;16H\u001b[7m[ line 1/3 (33%), col 1/24 (4%), char 0/25 (0%) ]\u001b[m\u001b[22;16H             \u001b[7m[ Justified paragraph ]\u001b[m\u001b[K\u001b[1;49H\u001b[7m*\u001b[29C\u001b[mno 5.4                        README.md                                 \u001b[1;79H\u001b[merror: unknown option `READ.md'\n",
      "usage: git checkout [<options>] <branch>\n",
      "   or: git checkout [<options>] [<branch>] -- <file>...\n",
      "\n",
      "    -b <branch>           create and checkout a new branch\n",
      "    -B <branch>           create/reset and checkout a branch\n",
      "    -l                    create reflog for new branch\n",
      "    --guess               second guess 'git checkout <no-such-branch>' (default)\n",
      "    --overlay             use overlay mode (default)\n",
      "    -q, --quiet           suppress progress reporting\n",
      "    --recurse-submodules[=<checkout>]\n",
      "                          control recursive updating of submodules\n",
      "    --progress            force progress reporting\n",
      "    -m, --merge           perform a 3-way merge with the new branch\n",
      "    --conflict <style>    conflict style (merge, diff3, or zdiff3)\n",
      "    -d, --detach          detach HEAD at named commit\n",
      "    -t, --track[=(direct|inherit)]\n",
      "                          set branch tracking configuration\n",
      "    -f, --force           force checkout (throw away local modifications)\n",
      "    --orphan <new-branch>\n",
      "                          new unparented branch\n",
      "    --overwrite-ignore    update ignored files (default)\n",
      "    --ignore-other-worktrees\n",
      "                          do not check if another worktree is holding the given ref\n",
      "    -2, --ours            checkout our version for unmerged files\n",
      "    -3, --theirs          checkout their version for unmerged files\n",
      "    -p, --patch           select hunks interactively\n",
      "    --ignore-skip-worktree-bits\n",
      "                          do not limit pathspecs to sparse entries only\n",
      "    --pathspec-from-file <file>\n",
      "                          read pathspec from file\n",
      "    --pathspec-file-nul   with --pathspec-from-file, pathspec elements are separated with NUL character\n",
      "\n",
      "On branch master\n",
      "Changes to be committed:\n",
      "  (use \"git restore --staged <file>...\" to unstage)\n",
      "\t\u001b[32mnew file:   temp_notes.txt\u001b[m\n",
      "\n",
      "Untracked files:\n",
      "  (use \"git add <file>...\" to include in what will be committed)\n",
      "\t\u001b[31m.ipynb_checkpoints/\u001b[m\n",
      "\t\u001b[31m01_Lecture01(1).ipynb\u001b[m\n",
      "\t\u001b[31m01_Lecture01.ipynb\u001b[m\n",
      "\t\u001b[31m02_Lecture02.ipynb\u001b[m\n",
      "\t\u001b[31mJoseph_maina_ICLRP(1).Rmd\u001b[m\n",
      "\t\u001b[31mJoseph_maina_ICLRP.Rmd\u001b[m\n",
      "\t\u001b[31mQuestion10.sh\u001b[m\n",
      "\t\u001b[31mREAD2.md\u001b[m\n",
      "\t\u001b[31mREADME.md\u001b[m\n",
      "\t\u001b[31mREADME.md.save\u001b[m\n",
      "\t\u001b[31mREADME.md.save.1\u001b[m\n",
      "\t\u001b[31mREADME.md.save.10\u001b[m\n",
      "\t\u001b[31mREADME.md.save.11\u001b[m\n",
      "\t\u001b[31mREADME.md.save.12\u001b[m\n",
      "\t\u001b[31mREADME.md.save.13\u001b[m\n",
      "\t\u001b[31mREADME.md.save.2\u001b[m\n",
      "\t\u001b[31mREADME.md.save.3\u001b[m\n",
      "\t\u001b[31mREADME.md.save.4\u001b[m\n",
      "\t\u001b[31mREADME.md.save.5\u001b[m\n",
      "\t\u001b[31mREADME.md.save.6\u001b[m\n",
      "\t\u001b[31mREADME.md.save.7\u001b[m\n",
      "\t\u001b[31mREADME.md.save.8\u001b[m\n",
      "\t\u001b[31mREADME.md.save.9\u001b[m\n",
      "\t\u001b[31mdata.txt\u001b[m\n",
      "\t\u001b[31mdescription\u001b[m\n",
      "\t\u001b[31mdescription.save\u001b[m\n",
      "\t\u001b[31mpython_course_colab_notebooks/\u001b[m\n",
      "\t\u001b[31mtest-aims-rw-2024-25/\u001b[m\n",
      "\t\u001b[31mversion_control_local.ipynb\u001b[m\n",
      "\n"
     ]
    }
   ],
   "source": [
    "!nano README.md\n",
    "#!gedit READ.md\n",
    "!git checkout --READ.md\n",
    "!git status"
   ]
  },
  {
   "cell_type": "markdown",
   "metadata": {
    "id": "7b00e29e"
   },
   "source": [
    "## git rm : Removing files\n",
    "\n",
    "There are a variety of reasons you way want to remove a file from the\n",
    "repository after it has been committed.  Create a file called `READYOU.md` with the first names of all your immediate family members, and add/commit it to the repository.\n",
    "\n",
    "You can now remove the file from the repository with:\n",
    "\n",
    "```bash\n",
    "$ git rm READYOU.md\n",
    "```\n",
    "List the directory to see that you have no file named `READYOU.md`. Use `status` to determine if you need any additional steps."
   ]
  },
  {
   "cell_type": "code",
   "execution_count": 108,
   "metadata": {},
   "outputs": [
    {
     "name": "stdout",
     "output_type": "stream",
     "text": [
      "\u001b[1B\u001b[K\u001b[1B\u001b[K\u001b[1B\u001b[K\u001b[2A5 (20%), col 1/23 (4%), char 0/45 (0%) ]\u001b[m\u001b[22;16H             \u001b[7m[ Justified paragraph ]\u001b[m\u001b[K\u001b[1;49H\u001b[7m*\u001b[29C\u001b[m\u001b[2;24Hmother sister brotherDYOU.md                                 \u001b[1;79H\u001b[mfatal: pathspec 'READYOU.md' did not match any files\n",
      "\u001b[1B\u001b[K\u001b[1B\u001b[K\u001b[1B\u001b[K\u001b[2AerR\u001b[m Read File \u001b[7m^\\\u001b[m Replace   \u001b[7m^U\u001b[m Paste     \u001b[7m^J\u001b[m Justify   \u001b[7m^_\u001b[m Go To Linem\u001b[H\u001b[7m  GNU nano 5.4                       READYOU.md                                 \u001b[1;79H\u001b[m\u001b[22;16H\u001b[7m[ line 1/5 (20%), col 1/23 (4%), char 0/45 (0%) ]\u001b[m\u001b[22;16H             \u001b[7m[ Justified paragraph ]\u001b[m\u001b[K\u001b[1;49H\u001b[7m*\u001b[29C\u001b[m\u001b[2;24Hmother sister brotherfatal: pathspec 'READYOU.md' did not match any files\n",
      "On branch master\n",
      "Changes to be committed:\n",
      "  (use \"git restore --staged <file>...\" to unstage)\n",
      "\t\u001b[32mnew file:   temp_notes.txt\u001b[m\n",
      "\n",
      "Untracked files:\n",
      "  (use \"git add <file>...\" to include in what will be committed)\n",
      "\t\u001b[31m.ipynb_checkpoints/\u001b[m\n",
      "\t\u001b[31m01_Lecture01(1).ipynb\u001b[m\n",
      "\t\u001b[31m01_Lecture01.ipynb\u001b[m\n",
      "\t\u001b[31m02_Lecture02.ipynb\u001b[m\n",
      "\t\u001b[31mJoseph_maina_ICLRP(1).Rmd\u001b[m\n",
      "\t\u001b[31mJoseph_maina_ICLRP.Rmd\u001b[m\n",
      "\t\u001b[31mQuestion10.sh\u001b[m\n",
      "\t\u001b[31mREAD2.md\u001b[m\n",
      "\t\u001b[31mREADME.md\u001b[m\n",
      "\t\u001b[31mREADME.md.save\u001b[m\n",
      "\t\u001b[31mREADME.md.save.1\u001b[m\n",
      "\t\u001b[31mREADME.md.save.10\u001b[m\n",
      "\t\u001b[31mREADME.md.save.11\u001b[m\n",
      "\t\u001b[31mREADME.md.save.12\u001b[m\n",
      "\t\u001b[31mREADME.md.save.13\u001b[m\n",
      "\t\u001b[31mREADME.md.save.2\u001b[m\n",
      "\t\u001b[31mREADME.md.save.3\u001b[m\n",
      "\t\u001b[31mREADME.md.save.4\u001b[m\n",
      "\t\u001b[31mREADME.md.save.5\u001b[m\n",
      "\t\u001b[31mREADME.md.save.6\u001b[m\n",
      "\t\u001b[31mREADME.md.save.7\u001b[m\n",
      "\t\u001b[31mREADME.md.save.8\u001b[m\n",
      "\t\u001b[31mREADME.md.save.9\u001b[m\n",
      "\t\u001b[31mREADYOU.md\u001b[m\n",
      "\t\u001b[31mREADYOU.md.save\u001b[m\n",
      "\t\u001b[31mREADYOU.md.save.1\u001b[m\n",
      "\t\u001b[31mREADYOU.md.save.2\u001b[m\n",
      "\t\u001b[31mREADYOU.md.save.3\u001b[m\n",
      "\t\u001b[31mREADYOU.md.save.4\u001b[m\n",
      "\t\u001b[31mdata.txt\u001b[m\n",
      "\t\u001b[31mdescription\u001b[m\n",
      "\t\u001b[31mdescription.save\u001b[m\n",
      "\t\u001b[31mpython_course_colab_notebooks/\u001b[m\n",
      "\t\u001b[31mtest-aims-rw-2024-25/\u001b[m\n",
      "\t\u001b[31mversion_control_local.ipynb\u001b[m\n",
      "\n"
     ]
    }
   ],
   "source": [
    "!nano READYOU.md\n",
    "#!gedit READYOU.md\n",
    "!git rm READYOU.md\n",
    "!nano READYOU.md\n",
    "#!gedit READYOU.md\n",
    "!git rm READYOU.md\n",
    "!git status\n"
   ]
  },
  {
   "cell_type": "markdown",
   "metadata": {},
   "source": [
    "What if you delete a file in the shell without `git rm`? Try deleting `README.md`\n",
    "```bash\n",
    "$ rm README.md\n",
    "```\n",
    "\n",
    "\n"
   ]
  },
  {
   "cell_type": "code",
   "execution_count": 121,
   "metadata": {},
   "outputs": [
    {
     "name": "stdout",
     "output_type": "stream",
     "text": [
      "rm: cannot remove 'README.md': No such file or directory\r\n"
     ]
    }
   ],
   "source": [
    "! rm README.md"
   ]
  },
  {
   "cell_type": "markdown",
   "metadata": {},
   "source": [
    "What does `git status` say?  Oops! How can you recover this important\n",
    "file?\n",
    "```bash\n",
    "$ git checkout -- README.md\n",
    "```"
   ]
  },
  {
   "cell_type": "code",
   "execution_count": 122,
   "metadata": {},
   "outputs": [
    {
     "name": "stdout",
     "output_type": "stream",
     "text": [
      "error: pathspec 'README.md' did not match any file(s) known to git\r\n"
     ]
    }
   ],
   "source": [
    "!git checkout -- README.md"
   ]
  },
  {
   "cell_type": "markdown",
   "metadata": {
    "id": "1d3ecc05"
   },
   "source": [
    "## git revert : the promised \"undo\" button\n",
    "\n",
    "It is possible that after many commits, you decide that you really want to **rollback** a set of commits and start over.  It is easy to revert your code to a previous version.\n",
    "\n",
    "You can use `git log` and `git diff` to explore your history and determine which version you are interested in.  Choose a version and note the *hash* for that version. (Let's assume `abc456`)\n",
    "\n",
    "```bash\n",
    "$ git revert abc456\n",
    "```\n",
    "\n",
    "**Importantly,** this will not erase the intervening commits.  This will create a new commit that is changed from the previous commit by a change that will recreate the desired version.  This retains a complete provenance of your software, and be compared to the prohibition in removing pages from a lab notebook."
   ]
  },
  {
   "cell_type": "code",
   "execution_count": 133,
   "metadata": {
    "scrolled": true
   },
   "outputs": [
    {
     "name": "stdout",
     "output_type": "stream",
     "text": [
      "Nothing specified, nothing added.\n",
      "\u001b[33mhint: Maybe you wanted to say 'git add .'?\u001b[m\n",
      "\u001b[33mhint: Turn this message off by running\u001b[m\n",
      "\u001b[33mhint: \"git config advice.addEmptyPathspec false\"\u001b[m\n",
      "On branch master\n",
      "Untracked files:\n",
      "  (use \"git add <file>...\" to include in what will be committed)\n",
      "\t\u001b[31m.ipynb_checkpoints/\u001b[m\n",
      "\t\u001b[31m01_Lecture01(1).ipynb\u001b[m\n",
      "\t\u001b[31m01_Lecture01.ipynb\u001b[m\n",
      "\t\u001b[31m02_Lecture02.ipynb\u001b[m\n",
      "\t\u001b[31mJoseph_maina_ICLRP(1).Rmd\u001b[m\n",
      "\t\u001b[31mJoseph_maina_ICLRP.Rmd\u001b[m\n",
      "\t\u001b[31mQuestion10.sh\u001b[m\n",
      "\t\u001b[31mREAD2.md\u001b[m\n",
      "\t\u001b[31mREADME.md.save\u001b[m\n",
      "\t\u001b[31mREADME.md.save.1\u001b[m\n",
      "\t\u001b[31mREADME.md.save.10\u001b[m\n",
      "\t\u001b[31mREADME.md.save.11\u001b[m\n",
      "\t\u001b[31mREADME.md.save.12\u001b[m\n",
      "\t\u001b[31mREADME.md.save.13\u001b[m\n",
      "\t\u001b[31mREADME.md.save.2\u001b[m\n",
      "\t\u001b[31mREADME.md.save.3\u001b[m\n",
      "\t\u001b[31mREADME.md.save.4\u001b[m\n",
      "\t\u001b[31mREADME.md.save.5\u001b[m\n",
      "\t\u001b[31mREADME.md.save.6\u001b[m\n",
      "\t\u001b[31mREADME.md.save.7\u001b[m\n",
      "\t\u001b[31mREADME.md.save.8\u001b[m\n",
      "\t\u001b[31mREADME.md.save.9\u001b[m\n",
      "\t\u001b[31mREADYOU.md\u001b[m\n",
      "\t\u001b[31mREADYOU.md.save\u001b[m\n",
      "\t\u001b[31mREADYOU.md.save.1\u001b[m\n",
      "\t\u001b[31mREADYOU.md.save.2\u001b[m\n",
      "\t\u001b[31mREADYOU.md.save.3\u001b[m\n",
      "\t\u001b[31mREADYOU.md.save.4\u001b[m\n",
      "\t\u001b[31mdata.txt\u001b[m\n",
      "\t\u001b[31mdescription\u001b[m\n",
      "\t\u001b[31mdescription.save\u001b[m\n",
      "\t\u001b[31mpython_course_colab_notebooks/\u001b[m\n",
      "\t\u001b[31mtest-aims-rw-2024-25/\u001b[m\n",
      "\t\u001b[31mversion_control_local.ipynb\u001b[m\n",
      "\n",
      "nothing added to commit but untracked files present (use \"git add\" to track)\n",
      "On branch master\n",
      "Untracked files:\n",
      "  (use \"git add <file>...\" to include in what will be committed)\n",
      "\t\u001b[31m.ipynb_checkpoints/\u001b[m\n",
      "\t\u001b[31m01_Lecture01(1).ipynb\u001b[m\n",
      "\t\u001b[31m01_Lecture01.ipynb\u001b[m\n",
      "\t\u001b[31m02_Lecture02.ipynb\u001b[m\n",
      "\t\u001b[31mJoseph_maina_ICLRP(1).Rmd\u001b[m\n",
      "\t\u001b[31mJoseph_maina_ICLRP.Rmd\u001b[m\n",
      "\t\u001b[31mQuestion10.sh\u001b[m\n",
      "\t\u001b[31mREAD2.md\u001b[m\n",
      "\t\u001b[31mREADME.md.save\u001b[m\n",
      "\t\u001b[31mREADME.md.save.1\u001b[m\n",
      "\t\u001b[31mREADME.md.save.10\u001b[m\n",
      "\t\u001b[31mREADME.md.save.11\u001b[m\n",
      "\t\u001b[31mREADME.md.save.12\u001b[m\n",
      "\t\u001b[31mREADME.md.save.13\u001b[m\n",
      "\t\u001b[31mREADME.md.save.2\u001b[m\n",
      "\t\u001b[31mREADME.md.save.3\u001b[m\n",
      "\t\u001b[31mREADME.md.save.4\u001b[m\n",
      "\t\u001b[31mREADME.md.save.5\u001b[m\n",
      "\t\u001b[31mREADME.md.save.6\u001b[m\n",
      "\t\u001b[31mREADME.md.save.7\u001b[m\n",
      "\t\u001b[31mREADME.md.save.8\u001b[m\n",
      "\t\u001b[31mREADME.md.save.9\u001b[m\n",
      "\t\u001b[31mREADYOU.md\u001b[m\n",
      "\t\u001b[31mREADYOU.md.save\u001b[m\n",
      "\t\u001b[31mREADYOU.md.save.1\u001b[m\n",
      "\t\u001b[31mREADYOU.md.save.2\u001b[m\n",
      "\t\u001b[31mREADYOU.md.save.3\u001b[m\n",
      "\t\u001b[31mREADYOU.md.save.4\u001b[m\n",
      "\t\u001b[31mdata.txt\u001b[m\n",
      "\t\u001b[31mdescription\u001b[m\n",
      "\t\u001b[31mdescription.save\u001b[m\n",
      "\t\u001b[31mpython_course_colab_notebooks/\u001b[m\n",
      "\t\u001b[31mtest-aims-rw-2024-25/\u001b[m\n",
      "\t\u001b[31mversion_control_local.ipynb\u001b[m\n",
      "\n",
      "nothing added to commit but untracked files present (use \"git add\" to track)\n",
      "On branch master\n",
      "Untracked files:\n",
      "  (use \"git add <file>...\" to include in what will be committed)\n",
      "\t\u001b[31m.ipynb_checkpoints/\u001b[m\n",
      "\t\u001b[31m01_Lecture01(1).ipynb\u001b[m\n",
      "\t\u001b[31m01_Lecture01.ipynb\u001b[m\n",
      "\t\u001b[31m02_Lecture02.ipynb\u001b[m\n",
      "\t\u001b[31mJoseph_maina_ICLRP(1).Rmd\u001b[m\n",
      "\t\u001b[31mJoseph_maina_ICLRP.Rmd\u001b[m\n",
      "\t\u001b[31mQuestion10.sh\u001b[m\n",
      "\t\u001b[31mREAD2.md\u001b[m\n",
      "\t\u001b[31mREADME.md.save\u001b[m\n",
      "\t\u001b[31mREADME.md.save.1\u001b[m\n",
      "\t\u001b[31mREADME.md.save.10\u001b[m\n",
      "\t\u001b[31mREADME.md.save.11\u001b[m\n",
      "\t\u001b[31mREADME.md.save.12\u001b[m\n",
      "\t\u001b[31mREADME.md.save.13\u001b[m\n",
      "\t\u001b[31mREADME.md.save.2\u001b[m\n",
      "\t\u001b[31mREADME.md.save.3\u001b[m\n",
      "\t\u001b[31mREADME.md.save.4\u001b[m\n",
      "\t\u001b[31mREADME.md.save.5\u001b[m\n",
      "\t\u001b[31mREADME.md.save.6\u001b[m\n",
      "\t\u001b[31mREADME.md.save.7\u001b[m\n",
      "\t\u001b[31mREADME.md.save.8\u001b[m\n",
      "\t\u001b[31mREADME.md.save.9\u001b[m\n",
      "\t\u001b[31mREADYOU.md\u001b[m\n",
      "\t\u001b[31mREADYOU.md.save\u001b[m\n",
      "\t\u001b[31mREADYOU.md.save.1\u001b[m\n",
      "\t\u001b[31mREADYOU.md.save.2\u001b[m\n",
      "\t\u001b[31mREADYOU.md.save.3\u001b[m\n",
      "\t\u001b[31mREADYOU.md.save.4\u001b[m\n",
      "\t\u001b[31mdata.txt\u001b[m\n",
      "\t\u001b[31mdescription\u001b[m\n",
      "\t\u001b[31mdescription.save\u001b[m\n",
      "\t\u001b[31mpython_course_colab_notebooks/\u001b[m\n",
      "\t\u001b[31mtest-aims-rw-2024-25/\u001b[m\n",
      "\t\u001b[31mversion_control_local.ipynb\u001b[m\n",
      "\n",
      "nothing added to commit but untracked files present (use \"git add\" to track)\n"
     ]
    }
   ],
   "source": [
    "!git add\n",
    "!git commit -m \"Save current changes before reverting\"\n",
    "!git revert a67f98d0de7141bb29121922bec5b7ad910146b6\n",
    "!git revert a67f98d0de7141bb29121922bec5b7ad910146b6"
   ]
  },
  {
   "cell_type": "markdown",
   "metadata": {},
   "source": [
    "## Visualize Git Log Tree\n",
    "For this section, you can read the necessary information [here](https://tech.serhatteker.com/post/2021-02/git-log-tree/). The idea is just to make your commits a bit fancy. To really see the beauty of it, try to play with your files and do quite a number of commits.\n",
    "\n",
    "```bash\n",
    "$ git log\n",
    "```\n",
    "\n",
    "or \n",
    "\n",
    "```bash\n",
    "$ git log --pretty=oneline\n",
    "```\n",
    "\n",
    "or\n",
    "\n",
    "```bash\n",
    "$ git log --graph --pretty='%Cred%h%Creset -%C(auto)%d%Creset %s %Cgreen(%cr) %C(bold blue)<%an>%Creset' --all\n",
    "```"
   ]
  },
  {
   "cell_type": "code",
   "execution_count": 134,
   "metadata": {},
   "outputs": [
    {
     "name": "stdout",
     "output_type": "stream",
     "text": [
      "\u001b[33mcommit a43b9d32fb03b5b0b3706dc015fb6bb749121c65\u001b[m\u001b[33m (\u001b[m\u001b[1;36mHEAD -> \u001b[m\u001b[1;32mmaster\u001b[m\u001b[33m)\u001b[m\r\n",
      "Author: joseph maina <joseph.maina@aims.ac.rw>\r\n",
      "Date:   Thu Sep 26 20:03:51 2024 +0200\r\n",
      "\r\n",
      "    Save current changes before reverting\r\n",
      "\r\n",
      "\u001b[33mcommit 10f6ad61aeac36203202b6afed82d66e99a18906\u001b[m\r\n",
      "Author: joseph maina <joseph.maina@aims.ac.rw>\r\n",
      "Date:   Thu Sep 26 20:03:08 2024 +0200\r\n",
      "\r\n",
      "    Save current changes before reverting\r\n",
      "\r\n",
      "\u001b[33mcommit a67f98d0de7141bb29121922bec5b7ad910146b6\u001b[m\r\n",
      "Author: joseph maina <joseph.maina@aims.ac.rw>\r\n",
      "Date:   Thu Sep 26 17:54:38 2024 +0200\r\n",
      "\r\n",
      "    This is the first commit. It adds a readme file.\r\n"
     ]
    }
   ],
   "source": [
    "!git log"
   ]
  },
  {
   "cell_type": "markdown",
   "metadata": {
    "id": "a60621d6"
   },
   "source": [
    "* * * *\n",
    "### Exercise :\n",
    "\n",
    "1. Create 5 files in your directory with one line of content in each\n",
    "   file.\n",
    "2. Commit the files to the repository.\n",
    "3. Change 2 of the 5 files and commit them.\n",
    "4. Undo the changes in step 3.\n",
    "5. Print out the last entry in the log.\n",
    "    \n",
    "* * * *"
   ]
  },
  {
   "cell_type": "markdown",
   "metadata": {
    "id": "15b9e659"
   },
   "source": [
    "## Resources\n",
    "\n",
    "1. [git book](http://git-scm.com/book) - Free and Open"
   ]
  }
 ],
 "metadata": {
  "colab": {
   "provenance": []
  },
  "kernelspec": {
   "display_name": "Python 3",
   "language": "python",
   "name": "python3"
  },
  "language_info": {
   "codemirror_mode": {
    "name": "ipython",
    "version": 3
   },
   "file_extension": ".py",
   "mimetype": "text/x-python",
   "name": "python",
   "nbconvert_exporter": "python",
   "pygments_lexer": "ipython3",
   "version": "3.9.2"
  }
 },
 "nbformat": 4,
 "nbformat_minor": 1
}
