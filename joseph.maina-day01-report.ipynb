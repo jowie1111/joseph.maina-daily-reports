{
 "cells": [
  {
   "cell_type": "markdown",
   "metadata": {
    "id": "oNbm2sbtLsRD"
   },
   "source": [
    "# Lecture 1: Variables and assignments"
   ]
  },
  {
   "cell_type": "markdown",
   "metadata": {
    "id": "CRqsIHLsLsRJ"
   },
   "source": [
    "### <left> <b> <span style=\"color:brown;\"> Objective: </span> </b></left>\n",
    "As soon as we have *data types*, we need *variables* to store the data. In reality, Python does not offer the concept of a variable, but rather that of an *object reference*. As long as the object is immutable (like integers, floats, etc.), there is no significant difference. In this notebook, we discuss the main points surrounding the use of variables in Python."
   ]
  },
  {
   "cell_type": "markdown",
   "metadata": {
    "id": "miqEaYtqLsRL"
   },
   "source": [
    "## 0. Introduction\n",
    "\n",
    "In Python, a variable is a fundamental programming construct that facilitates the storage and management of information in the computer's memory. It is assigned a symbolic name, which serves as a reference to the data stored at a particular location in memory. This symbolic name enables you to access and modify the stored information throughout your code with ease.\n",
    "\n",
    "Variables in Python are defined using the assignment operator =. You can assign a value to a variable directly or assign the value from another variable, making Python flexible in how it handles data. Rather than containing the data themselves, variables in Python act as references to objects in memory. This reference-based approach allows for efficient memory management and provides the flexibility to interact with and modify the data dynamically.\n",
    "\n",
    "Python's dynamic typing system means that variables can be reassigned to different types of data during program execution. This dynamic nature, combined with the reference model, enhances the language's capability to handle various data types and operations seamlessly. Additionally, Python's garbage collection system manages memory allocation and deallocation, further optimizing performance and resource utilization."
   ]
  },
  {
   "cell_type": "markdown",
   "metadata": {
    "id": "c4-3GkQiLsRM"
   },
   "source": [
    "## 1. Define variable\n",
    "\n",
    "In Python, there are four fundamental ways to define a variable, each suited to different purposes and contexts:\n",
    "\n",
    "1. **Direct Assignment**: This is the most straightforward method where a variable is assigned a specific value directly. This method is used for initializing variables with known values that will be used later in the code.\n",
    "\n",
    "\n",
    "2. **Multiple Assignment**: This technique allows you to assign the same value to multiple variables simultaneously. It is useful for initializing several variables with the same value efficiently.\n",
    "\n",
    "3. **Parallel Assignment**: This method involves defining multiple variables in a single statement with different values. It is effective for initializing several variables at once with distinct values.\n",
    "\n",
    "\n",
    "4. **Assignment from Expressions**: Variables can be defined based on expressions involving other variables. This method allows you to create variables that represent calculations or transformations of existing variables.\n",
    "\n",
    "\n",
    "Each of these methods provides flexibility in how you manage and utilize variables in your code, catering to different scenarios and requirements.\n"
   ]
  },
  {
   "cell_type": "markdown",
   "metadata": {
    "id": "RnegQd7ZLsRN"
   },
   "source": [
    "### 1.0. Through direct assignment"
   ]
  },
  {
   "cell_type": "markdown",
   "metadata": {
    "id": "boMYywrLLsRO"
   },
   "source": [
    "\n",
    "```python\n",
    "y = 4.8134  # Defines a variable named y and assigns it the value 4.8134\n",
    "salutation = \"How are you ?\"  # Defines a variable named salutation and assigns it the value \"How are\"\n",
    "```\n",
    "\n",
    "This code snippet illustrates the process of creating variables in Python by assigning them specific values. The variable `y` is assigned a floating-point number, while the variable `salutation` is assigned a string value. In Python, this assignment operation creates a reference between the variable name and the data, allowing you to reuse and manipulate the data through the variable name in subsequent parts of your code."
   ]
  },
  {
   "cell_type": "code",
   "execution_count": 2,
   "metadata": {
    "id": "jpkyCkJoLsRP"
   },
   "outputs": [],
   "source": [
    "y = 4.8134  # Defines a variable named y and assigns it the value 4.8134\n",
    "salutation = \"How are you?\"  # Defines a variable named salutation and assigns it the value \"How are you?\"\n",
    "x = 56"
   ]
  },
  {
   "cell_type": "markdown",
   "metadata": {
    "id": "fO9kDP0FLsRR"
   },
   "source": [
    "To display the values of the three defined variables, we use the `print()` function—a function that we will discuss in more detail when we cover function objects in Python. The `print()` function is essential in Python for outputting data to the console, allowing you to see the current state of your variables and debug your code effectively. This function can take multiple arguments, meaning you can print several variables at once, and it automatically converts them to their string representation if necessary."
   ]
  },
  {
   "cell_type": "code",
   "execution_count": 4,
   "metadata": {
    "id": "Ji49CSYTLsRS",
    "outputId": "3b74b66b-cecf-4df8-ad76-da0affa3e8e3"
   },
   "outputs": [
    {
     "name": "stdout",
     "output_type": "stream",
     "text": [
      "56\n",
      "4.8134\n",
      "How are you?\n"
     ]
    }
   ],
   "source": [
    "print(x)\n",
    "print(y)\n",
    "print(salutation)"
   ]
  },
  {
   "cell_type": "code",
   "execution_count": 33,
   "metadata": {},
   "outputs": [
    {
     "name": "stdout",
     "output_type": "stream",
     "text": [
      "1 1.0 MY NAME IS JOSEPH\n"
     ]
    }
   ],
   "source": [
    "F=1\n",
    "G=1.0\n",
    "H=\"MY NAME IS JOSEPH\"\n",
    "print(F,G,H)"
   ]
  },
  {
   "cell_type": "markdown",
   "metadata": {
    "id": "DkRS0EACLsRT"
   },
   "source": [
    "To display the three values on the same line, you use a single `print()` function, separating the variables with commas. The commas in the print() function automatically insert spaces between the values, making it easy to format your output in a readable manner. This approach allows you to output multiple pieces of data in a single line without needing to manually concatenate strings or add spaces."
   ]
  },
  {
   "cell_type": "code",
   "execution_count": 5,
   "metadata": {
    "id": "YeKDlR6bLsRU",
    "outputId": "4a1df13c-24f2-4006-a183-585681700293"
   },
   "outputs": [
    {
     "name": "stdout",
     "output_type": "stream",
     "text": [
      "56 4.8134 How are you?\n"
     ]
    }
   ],
   "source": [
    "print(x,y,salutation)"
   ]
  },
  {
   "cell_type": "markdown",
   "metadata": {
    "id": "-0n6cVZGLsRU"
   },
   "source": []
  },
  {
   "cell_type": "markdown",
   "metadata": {
    "id": "0gGglw3lLsRV"
   },
   "source": [
    "### 1.1. Through multiple assignment\n",
    "\n",
    "The examples presented fall under what we call `direct assignment`. A `multiple assignment` is a specific case of `direct assignment` where the same value is assigned to multiple variables in a single line of code. This technique is useful when you need to initialize several variables with the same starting value efficiently, keeping your code concise and readable."
   ]
  },
  {
   "cell_type": "markdown",
   "metadata": {
    "id": "imGju2aHLsRV"
   },
   "source": [
    "\n",
    "```python\n",
    "x = y = 7  # x and y are both assigned the value 7 simultaneously.\n",
    "```\n",
    "\n",
    "In this line of code, the variables `x` and `y` are assigned the same value of $7$ at the same time. This is an example of a `multiple assignment`, where a single value is efficiently assigned to multiple variables in one statement. This technique is particularly useful when initializing variables with the same initial value, ensuring consistency across your code."
   ]
  },
  {
   "cell_type": "code",
   "execution_count": 34,
   "metadata": {
    "id": "xbBBO451LsRV",
    "outputId": "e53ef7ec-a153-4d3b-e58b-d7a109475de2"
   },
   "outputs": [
    {
     "name": "stdout",
     "output_type": "stream",
     "text": [
      "7\n",
      "======\n",
      "7\n"
     ]
    }
   ],
   "source": [
    "x = y = 7  # x and y are both assigned the value 7 simultaneously.\n",
    "print(x)\n",
    "print(\"======\")\n",
    "print(y)"
   ]
  },
  {
   "cell_type": "code",
   "execution_count": 36,
   "metadata": {},
   "outputs": [
    {
     "name": "stdout",
     "output_type": "stream",
     "text": [
      "5\n",
      "5\n"
     ]
    }
   ],
   "source": [
    "x=y=5\n",
    "print(x)\n",
    "print(y)"
   ]
  },
  {
   "cell_type": "markdown",
   "metadata": {
    "id": "8fr0wrYGLsRW"
   },
   "source": [
    "### 1.2. Parallel assignment\n",
    "\n",
    "\n",
    "\n",
    "A `parallel assignment` involves defining multiple variables using a single equals sign. This technique allows you to assign different values to several variables simultaneously in a single line of code. It enhances code readability and efficiency, especially when you need to initialize multiple variables at once. Example:"
   ]
  },
  {
   "cell_type": "markdown",
   "metadata": {
    "id": "xnezQX2zLsRW"
   },
   "source": [
    "\n",
    "```python\n",
    "x, y = 4, 8.33  # Defines two variables, x and y, with values 4 and 8.33 respectively.\n",
    "```\n",
    "\n",
    "In this line of code, `x` is assigned the value 4, and `y` is assigned the value 8.33 simultaneously. This is an example of `parallel assignment`, where multiple variables are defined in a single statement. This approach is particularly useful for initializing or updating several variables in a concise and organized manner."
   ]
  },
  {
   "cell_type": "code",
   "execution_count": 7,
   "metadata": {
    "id": "SZdOot7rLsRW"
   },
   "outputs": [],
   "source": [
    "x, y = 4, 8.33  # Defines two variables, x and y, with values 4 and 8.33 respectively."
   ]
  },
  {
   "cell_type": "code",
   "execution_count": 9,
   "metadata": {},
   "outputs": [
    {
     "name": "stdout",
     "output_type": "stream",
     "text": [
      "4 8.33\n"
     ]
    }
   ],
   "source": [
    "print(x,y)"
   ]
  },
  {
   "cell_type": "markdown",
   "metadata": {
    "id": "aUn9rB5BLsRW"
   },
   "source": [
    "### 1.3. Based on other variables"
   ]
  },
  {
   "cell_type": "code",
   "execution_count": 10,
   "metadata": {
    "id": "wiMdj6NjLsRX",
    "outputId": "dca8d1ff-6e0f-40a9-bb64-f9f88dca4650"
   },
   "outputs": [
    {
     "name": "stdout",
     "output_type": "stream",
     "text": [
      "12.33 9 16.66\n"
     ]
    }
   ],
   "source": [
    "#Define a variable based on other variables\n",
    "z1 = x + y  # Defines the variable named z1 and assigns it the sum of variables x and y\n",
    "z2 = x + 5  # Defines the variable named z2 by adding 5 to the value of x\n",
    "z3 = 2 * y  # Defines the variable named z3 by multiplying the value of y by 2\n",
    "\n",
    "print(z1,z2,z3)"
   ]
  },
  {
   "cell_type": "code",
   "execution_count": null,
   "metadata": {
    "id": "DFiqhfXJLsRX"
   },
   "outputs": [],
   "source": [
    "print(z1)"
   ]
  },
  {
   "cell_type": "markdown",
   "metadata": {
    "id": "9dLTxIHMLsRX"
   },
   "source": [
    "<left> <b> <span style=\"color:red;\">Assignment is not comparison!</span> </b></left>\n",
    "It is important to note that the assignment operator `=` does not have the same meaning as the equality symbol `=` in mathematics. For example, the assignment operator is not symmetric, while the equality symbol is: attempting to swap the order of elements in an assignment statement will inevitably result in an error in the interpreter:\n"
   ]
  },
  {
   "cell_type": "code",
   "execution_count": 11,
   "metadata": {
    "id": "H9SjcZioLsRX",
    "outputId": "00b2b6ba-c5e5-4b01-cdbe-f7d12f96249a"
   },
   "outputs": [
    {
     "ename": "NameError",
     "evalue": "name 'a' is not defined",
     "output_type": "error",
     "traceback": [
      "\u001b[1;31m---------------------------------------------------------------------------\u001b[0m",
      "\u001b[1;31mNameError\u001b[0m                                 Traceback (most recent call last)",
      "\u001b[1;32m~\\AppData\\Local\\Temp\\ipykernel_10648\\3649613249.py\u001b[0m in \u001b[0;36m<module>\u001b[1;34m\u001b[0m\n\u001b[0;32m      1\u001b[0m \u001b[1;31m# Error\u001b[0m\u001b[1;33m\u001b[0m\u001b[1;33m\u001b[0m\u001b[0m\n\u001b[1;32m----> 2\u001b[1;33m \u001b[1;36m128\u001b[0m \u001b[1;33m==\u001b[0m \u001b[0ma\u001b[0m\u001b[1;33m\u001b[0m\u001b[1;33m\u001b[0m\u001b[0m\n\u001b[0m",
      "\u001b[1;31mNameError\u001b[0m: name 'a' is not defined"
     ]
    }
   ],
   "source": [
    "# Error\n",
    "128 = a"
   ]
  },
  {
   "cell_type": "markdown",
   "metadata": {
    "id": "fbJnh5HPLsRY"
   },
   "source": []
  },
  {
   "cell_type": "markdown",
   "metadata": {
    "id": "SR7U15CILsRY"
   },
   "source": [
    "This brings us to briefly discuss permissible variable names in Python."
   ]
  },
  {
   "cell_type": "markdown",
   "metadata": {
    "id": "B51zLIYWLsRY"
   },
   "source": [
    "#### <left> <b> <span style=\"color:brown;\">Naming Conventions</span> </b></left>\n"
   ]
  },
  {
   "cell_type": "markdown",
   "metadata": {
    "id": "VxZDB-sNLsRY"
   },
   "source": [
    "Naming conventions for different elements of code are important because they provide additional information to developers about the nature of certain attributes or variables. The conventions for variable names are as follows:\n",
    "\n",
    "   - Reserved keywords such as `if`, `else`, etc., cannot be used as variable names.\n",
    "   - Variable names can start with `_`, `$`, or a letter.\n",
    "   - Variable names can be in lowercase or uppercase.\n",
    "   - Variable names cannot start with a digit.\n",
    "   - White spaces are not allowed in variable names.\n",
    "\n",
    "<left> <b> <span style=\"color:brown;\"> A good programmer naturally strives to choose the most meaningful variable names possible. </span> </b></left>\n"
   ]
  },
  {
   "cell_type": "markdown",
   "metadata": {
    "id": "MRkfS4OvLsRY"
   },
   "source": [
    "In Python, there are **33** reserved keywords, and the list is provided below:\n"
   ]
  },
  {
   "cell_type": "markdown",
   "metadata": {
    "id": "Hj_gMD68LsRZ"
   },
   "source": [
    "|             |                  |                  |                  |                  |\n",
    "|-------------|------------------|------------------|------------------|------------------|\n",
    "|``and``      | ``elif``         | ``if``           | ``or``           | ``yield``        |\n",
    "|``as``       | ``else``         | ``import``       | ``pass``         |                  |\n",
    "|``assert``   | ``except``       | ``in``           | ``raise``        |                  |  \n",
    "|``break``    | ``False``        | ``is``           | ``return``       |                  |\n",
    "|``class``    | ``finally``      | ``lambda``       | ``True``         |                  |\n",
    "|``continue`` | ``for``          | ``None``         | ``try``          |                  |\n",
    "|``def``      | ``from``         | ``nonlocal``     | ``while``        |                  |\n",
    "|``del``      | ``global``       | ``not``          | ``with``         |                  |"
   ]
  },
  {
   "cell_type": "markdown",
   "metadata": {
    "id": "rB9YOf4aLsRZ"
   },
   "source": [
    "To get the list of reserved keywords in Python, you can use the `keyword` module. Here’s how you can do it:\n",
    "\n",
    "1. **Import the `keyword` module**:\n",
    "   ```python\n",
    "   import keyword\n",
    "   ```\n",
    "\n",
    "2. **Use the `keyword.kwlist` attribute to get the list of keywords**:\n",
    "   ```python\n",
    "   print(keyword.kwlist)\n",
    "   ```\n",
    "\n",
    "3. **To check if a specific word is a keyword**:\n",
    "   ```python\n",
    "   print(keyword.iskeyword('if'))  # Returns True\n",
    "   print(keyword.iskeyword('my_var'))  # Returns False\n",
    "   ```\n",
    "\n",
    "The `keyword.kwlist` attribute returns a list of all reserved keywords in Python, and the `keyword.iskeyword()` function checks if a given string is a keyword."
   ]
  },
  {
   "cell_type": "code",
   "execution_count": 12,
   "metadata": {
    "id": "sN5DP93jLsRZ",
    "outputId": "c6db0a87-34a8-46d6-f591-70cdaba191a9"
   },
   "outputs": [
    {
     "name": "stdout",
     "output_type": "stream",
     "text": [
      "['False', 'None', 'True', '__peg_parser__', 'and', 'as', 'assert', 'async', 'await', 'break', 'class', 'continue', 'def', 'del', 'elif', 'else', 'except', 'finally', 'for', 'from', 'global', 'if', 'import', 'in', 'is', 'lambda', 'nonlocal', 'not', 'or', 'pass', 'raise', 'return', 'try', 'while', 'with', 'yield']\n"
     ]
    }
   ],
   "source": [
    "import keyword\n",
    "print(keyword.kwlist)"
   ]
  },
  {
   "cell_type": "code",
   "execution_count": null,
   "metadata": {
    "id": "oaQLW9w6LsRa",
    "outputId": "931351b7-09ef-466b-92bd-1dddd7c4757b"
   },
   "outputs": [
    {
     "name": "stdout",
     "output_type": "stream",
     "text": [
      "True\n",
      "False\n"
     ]
    }
   ],
   "source": [
    "print(keyword.iskeyword('if'))  # Returns True\n",
    "print(keyword.iskeyword('my_var'))  # Returns False"
   ]
  },
  {
   "cell_type": "code",
   "execution_count": 38,
   "metadata": {},
   "outputs": [
    {
     "name": "stdout",
     "output_type": "stream",
     "text": [
      "False\n"
     ]
    }
   ],
   "source": [
    "print(keyword.iskeyword(\"my_char\"))"
   ]
  },
  {
   "cell_type": "markdown",
   "metadata": {
    "id": "JHjfKatTLsRa"
   },
   "source": [
    "**Note**: Python is case-sensitive, so variable names `Age` and `age` are considered distinct. Depending on the language, there is a [naming convention](https://en.wikipedia.org/wiki/Naming_convention_(programming)#Python_and_Ruby) that is recommended:\n",
    "\n",
    "- `UpperCamelCase` for class names;\n",
    "\n",
    "- `CAPITALIZED_WITH_UNDERSCORES` for constants;\n",
    "\n",
    "- `lowercase_separated_by_underscores` or `snake_case` for other variables.\n"
   ]
  },
  {
   "cell_type": "markdown",
   "metadata": {
    "id": "3thQc30rLsRa"
   },
   "source": [
    "****\n",
    "**A Fundamental Exercise: Swapping the Contents of Two Variables**\n",
    "\n",
    "> Let's assume that the variables `x` and `y` have the values of integers $\\alpha$ and $\\beta$ respectively. The goal is to swap the contents of these two variables.\n",
    "\n",
    ">   - a. First Method: Propose a method that uses an auxiliary variable `tmp`.\n",
    "       ```python\n",
    "          tmp = x\n",
    "          x = y\n",
    "          y = tmp\n",
    "       ```\n",
    ">   - b. Second Method: Execute the following sequence of instructions:\n",
    "       ```python\n",
    "          x = x + y; y = x - y; x = x - y  \n",
    "       ```\n",
    "       \n",
    ">   - c. Third Method (the most \"Pythonic\"): Use parallel assignment.\n",
    "      ```python\n",
    "         x, y = y, x\n",
    "      ```   \n",
    "****\n",
    "\n",
    "Example:\n"
   ]
  },
  {
   "cell_type": "code",
   "execution_count": 13,
   "metadata": {
    "id": "4hXuPnxOLsRb",
    "outputId": "a604e149-7a06-4854-d390-8c83aad2b003"
   },
   "outputs": [
    {
     "name": "stdout",
     "output_type": "stream",
     "text": [
      "5 4\n",
      "================================================\n",
      "\t\n",
      "4 5\n",
      "7 9\n",
      "================================================\n",
      "\t\n",
      "9 7\n",
      "90 15\n",
      "================================================\n",
      "\t\n",
      "15 90\n"
     ]
    }
   ],
   "source": [
    "# First Method\n",
    "\n",
    "x = 5\n",
    "y = 4\n",
    "print(x, y)\n",
    "print(\"================================================\")\n",
    "print('\\t')\n",
    "\n",
    "tmp = x\n",
    "x = y\n",
    "y = tmp\n",
    "print(x, y)\n",
    "\n",
    "# Second Method\n",
    "\n",
    "x = 7\n",
    "y = 9\n",
    "print(x, y)\n",
    "print(\"================================================\")\n",
    "print('\\t')\n",
    "\n",
    "x = x + y; y = x - y; x = x - y\n",
    "print(x, y)\n",
    "\n",
    "# Third Method\n",
    "\n",
    "x = 90\n",
    "y = 15\n",
    "print(x, y)\n",
    "print(\"================================================\")\n",
    "print('\\t')\n",
    "\n",
    "x, y = y, x\n",
    "print(x, y)\n"
   ]
  },
  {
   "cell_type": "code",
   "execution_count": null,
   "metadata": {},
   "outputs": [],
   "source": []
  },
  {
   "cell_type": "code",
   "execution_count": 40,
   "metadata": {},
   "outputs": [
    {
     "name": "stdout",
     "output_type": "stream",
     "text": [
      "34\n",
      "50\n"
     ]
    }
   ],
   "source": [
    "age,AGE=34,50\n",
    "print(age)\n",
    "print(AGE)"
   ]
  },
  {
   "cell_type": "markdown",
   "metadata": {
    "id": "P42FYYhCLsRb"
   },
   "source": [
    "It's worth noting that to delete a variable in Python, you can use the `del` function. This function removes the variable from the current namespace, effectively deleting it and freeing up any resources it was using. For example:\n",
    "\n",
    "```python\n",
    "x = 10  # Define a variable x\n",
    "del x   # Delete the variable x\n",
    "```\n",
    "\n",
    "After executing `del x`, the variable `x` will no longer exist in the current scope, and attempting to access it will result in a `NameError`."
   ]
  },
  {
   "cell_type": "code",
   "execution_count": 14,
   "metadata": {
    "id": "mvVngoitLsRb",
    "outputId": "0148a880-7058-4b6d-e1e0-d38352b2050d"
   },
   "outputs": [
    {
     "name": "stdout",
     "output_type": "stream",
     "text": [
      "10\n"
     ]
    },
    {
     "ename": "NameError",
     "evalue": "name 'x' is not defined",
     "output_type": "error",
     "traceback": [
      "\u001b[1;31m---------------------------------------------------------------------------\u001b[0m",
      "\u001b[1;31mNameError\u001b[0m                                 Traceback (most recent call last)",
      "\u001b[1;32m~\\AppData\\Local\\Temp\\ipykernel_10648\\858911024.py\u001b[0m in \u001b[0;36m<module>\u001b[1;34m\u001b[0m\n\u001b[0;32m      3\u001b[0m \u001b[1;33m\u001b[0m\u001b[0m\n\u001b[0;32m      4\u001b[0m \u001b[1;32mdel\u001b[0m \u001b[0mx\u001b[0m   \u001b[1;31m# Delete the variable x\u001b[0m\u001b[1;33m\u001b[0m\u001b[1;33m\u001b[0m\u001b[0m\n\u001b[1;32m----> 5\u001b[1;33m \u001b[0mprint\u001b[0m\u001b[1;33m(\u001b[0m\u001b[0mx\u001b[0m\u001b[1;33m)\u001b[0m\u001b[1;33m\u001b[0m\u001b[1;33m\u001b[0m\u001b[0m\n\u001b[0m",
      "\u001b[1;31mNameError\u001b[0m: name 'x' is not defined"
     ]
    }
   ],
   "source": [
    "x = 10  # Define a variable x\n",
    "print(x)\n",
    "\n",
    "del x   # Delete the variable x\n",
    "print(x)"
   ]
  },
  {
   "cell_type": "code",
   "execution_count": 42,
   "metadata": {},
   "outputs": [
    {
     "name": "stdout",
     "output_type": "stream",
     "text": [
      "0748653194\n"
     ]
    },
    {
     "data": {
      "text/plain": [
       "str"
      ]
     },
     "execution_count": 42,
     "metadata": {},
     "output_type": "execute_result"
    }
   ],
   "source": [
    "MY_NUMBER= \"0748653194\"\n",
    "print(MY_NUMBER)\n",
    "type(MY_NUMBER)\n"
   ]
  },
  {
   "cell_type": "code",
   "execution_count": 43,
   "metadata": {},
   "outputs": [
    {
     "ename": "NameError",
     "evalue": "name 'MY_NUMBER' is not defined",
     "output_type": "error",
     "traceback": [
      "\u001b[1;31m---------------------------------------------------------------------------\u001b[0m",
      "\u001b[1;31mNameError\u001b[0m                                 Traceback (most recent call last)",
      "\u001b[1;32m~\\AppData\\Local\\Temp\\ipykernel_10648\\1728701278.py\u001b[0m in \u001b[0;36m<module>\u001b[1;34m\u001b[0m\n\u001b[0;32m      1\u001b[0m \u001b[1;32mdel\u001b[0m\u001b[1;33m(\u001b[0m\u001b[0mMY_NUMBER\u001b[0m\u001b[1;33m)\u001b[0m\u001b[1;33m\u001b[0m\u001b[1;33m\u001b[0m\u001b[0m\n\u001b[1;32m----> 2\u001b[1;33m \u001b[0mprint\u001b[0m\u001b[1;33m(\u001b[0m\u001b[0mMY_NUMBER\u001b[0m\u001b[1;33m)\u001b[0m\u001b[1;33m\u001b[0m\u001b[1;33m\u001b[0m\u001b[0m\n\u001b[0m",
      "\u001b[1;31mNameError\u001b[0m: name 'MY_NUMBER' is not defined"
     ]
    }
   ],
   "source": [
    "del(MY_NUMBER)\n",
    "print(MY_NUMBER)"
   ]
  },
  {
   "cell_type": "code",
   "execution_count": 15,
   "metadata": {},
   "outputs": [
    {
     "name": "stdout",
     "output_type": "stream",
     "text": [
      "1\n"
     ]
    },
    {
     "ename": "NameError",
     "evalue": "name 'y' is not defined",
     "output_type": "error",
     "traceback": [
      "\u001b[1;31m---------------------------------------------------------------------------\u001b[0m",
      "\u001b[1;31mNameError\u001b[0m                                 Traceback (most recent call last)",
      "\u001b[1;32m~\\AppData\\Local\\Temp\\ipykernel_10648\\3083944059.py\u001b[0m in \u001b[0;36m<module>\u001b[1;34m\u001b[0m\n\u001b[0;32m      2\u001b[0m \u001b[0mprint\u001b[0m\u001b[1;33m(\u001b[0m\u001b[0my\u001b[0m\u001b[1;33m)\u001b[0m\u001b[1;33m\u001b[0m\u001b[1;33m\u001b[0m\u001b[0m\n\u001b[0;32m      3\u001b[0m \u001b[1;32mdel\u001b[0m\u001b[1;33m(\u001b[0m\u001b[0my\u001b[0m\u001b[1;33m)\u001b[0m\u001b[1;33m\u001b[0m\u001b[1;33m\u001b[0m\u001b[0m\n\u001b[1;32m----> 4\u001b[1;33m \u001b[0mprint\u001b[0m\u001b[1;33m(\u001b[0m\u001b[0my\u001b[0m\u001b[1;33m)\u001b[0m\u001b[1;33m\u001b[0m\u001b[1;33m\u001b[0m\u001b[0m\n\u001b[0m",
      "\u001b[1;31mNameError\u001b[0m: name 'y' is not defined"
     ]
    }
   ],
   "source": [
    "y=1\n",
    "print(y)\n",
    "del(y)\n",
    "print(y)"
   ]
  },
  {
   "cell_type": "markdown",
   "metadata": {
    "id": "cVvlXpTdLsRc"
   },
   "source": [
    "## 2. Type of a Variable\n",
    "\n",
    "In Python, the type of a variable refers to the kind of data it holds, such as integers, floating-point numbers, strings, or more complex data structures. Python dynamically assigns the type based on the value assigned to the variable. This type can be determined at any point in the code using the `type()` function.\n",
    "\n",
    "The type of a variable corresponds to its nature. There are many types of variables (integer, real number, strings, etc.). The most commonly encountered types of variables are integers (`int`), real numbers (`float`), and strings (`str`).\n",
    "\n",
    "**The basic types include:**\n",
    "\n",
    "- **None** (nothing)\n",
    "- **String types:** `str`\n",
    "   - Enclosed in (single, double, or triple) quotes `'` or `\"`: `'Calvin'`, `\"Calvin'n'Hobbes\"`, `'''Two\\nlines'''`, `\"\"\"'Why?' he asked.\"\"\"`\n",
    "   - Conversion: `str(3.2)`\n",
    "- **Numeric types:**\n",
    "   - **Booleans** `bool` (true/false): `True`, `False`\n",
    "   - **Integers** `int` (no explicit limit value, corresponds to at least C's long type): `-2`, `int(2.1)`, `int(\"4\")`\n",
    "   - **Reals** `float`\n",
    "   - **Complex** `complex`: `1+2j`, `5.1j`, `complex(-3.14)`, `complex('j')`\n",
    "- **Iterable objects:**\n",
    "   - **Lists** `list`: `['a', 3, [1, 2], 'a']`\n",
    "   - **Immutable lists** `tuple`: `(2, 3.1, 'a', [])` (depending on the usage, parentheses are not always required)\n",
    "   - **Keyed lists** `dict`: `{'a':1, 'b':[1, 2], 3:'c'}`\n",
    "   - **Unordered sets of unique elements** `set`: `{1, 2, 3, 2}`"
   ]
  },
  {
   "cell_type": "markdown",
   "metadata": {
    "id": "l_8zarHVLsRc"
   },
   "source": [
    "### 2.0. None (nothing)\n",
    "The `None` type represents the absence of a value or a null value in Python. It is often used to signify that a variable has no value assigned to it or to indicate the end of a list, function, or loop.\n",
    "\n",
    "**Example:**\n",
    "```python\n",
    "x = None\n",
    "```"
   ]
  },
  {
   "cell_type": "code",
   "execution_count": null,
   "metadata": {
    "id": "-5lT6xU5LsRj",
    "outputId": "0321fa07-e650-455f-9381-a7650572fb3c"
   },
   "outputs": [
    {
     "name": "stdout",
     "output_type": "stream",
     "text": [
      "None <class 'NoneType'>\n"
     ]
    }
   ],
   "source": [
    "x = None\n",
    "print(x, type(x))"
   ]
  },
  {
   "cell_type": "markdown",
   "metadata": {},
   "source": []
  },
  {
   "cell_type": "code",
   "execution_count": 44,
   "metadata": {},
   "outputs": [
    {
     "name": "stdout",
     "output_type": "stream",
     "text": [
      "7.0 <class 'float'>\n"
     ]
    }
   ],
   "source": [
    "number= 7.\n",
    "print(number,type(number))"
   ]
  },
  {
   "cell_type": "markdown",
   "metadata": {
    "id": "oCB1WM7xLsRj"
   },
   "source": [
    "### 2.1. String Types (`str`)\n",
    "Strings in Python are sequences of characters enclosed in quotes. They can be defined using single (`'`), double (`\"`), or triple quotes (`'''` or `\"\"\"`). Triple quotes allow for multi-line strings.\n",
    "\n",
    "**Examples:**\n",
    "```python\n",
    "name = 'Calvin'\n",
    "quote = \"Calvin'n'Hobbes\"\n",
    "multi_line = '''Two\n",
    "lines'''\n",
    "```"
   ]
  },
  {
   "cell_type": "code",
   "execution_count": 18,
   "metadata": {},
   "outputs": [
    {
     "name": "stdout",
     "output_type": "stream",
     "text": [
      "joseph's table\n"
     ]
    }
   ],
   "source": [
    "name1=\"joseph's table\"\n",
    "print(name1)"
   ]
  },
  {
   "cell_type": "code",
   "execution_count": null,
   "metadata": {
    "id": "Kvl8XjIpLsRk",
    "outputId": "29d478fc-cca7-46bb-d26e-e188cc00ca68"
   },
   "outputs": [
    {
     "name": "stdout",
     "output_type": "stream",
     "text": [
      "Calvin <class 'str'> \n",
      "\n",
      "====================================\n",
      "Calvin'n'Hobbes <class 'str'> \n",
      "\n",
      "====================================\n",
      "Two\n",
      "lines <class 'str'>\n",
      "====================================\n"
     ]
    }
   ],
   "source": [
    "name = 'Calvin'\n",
    "quote = \"Calvin'bn'Hobbes\"\n",
    "multi_line = '''Two\n",
    "lines'''\n",
    "\n",
    "print(name, type(name), '\\n')\n",
    "print('====================================')\n",
    "\n",
    "print(quote, type(quote),'\\n')\n",
    "print('====================================')\n",
    "\n",
    "\n",
    "print(multi_line, type(multi_line))\n",
    "print('====================================')"
   ]
  },
  {
   "cell_type": "markdown",
   "metadata": {
    "id": "BioqZ48tLsRk"
   },
   "source": [
    "### 2.2. Numeric Types"
   ]
  },
  {
   "cell_type": "markdown",
   "metadata": {
    "id": "dMhETnMNLsRl"
   },
   "source": [
    "#### 2.2.0. Booleans (`bool`)\n",
    "Booleans represent one of two values: `True` or `False`. They are often used in conditional statements to determine the flow of a program.\n",
    "\n",
    "**Examples:**\n",
    "```python\n",
    "is_active = True\n",
    "has_permission = False\n",
    "```"
   ]
  },
  {
   "cell_type": "code",
   "execution_count": null,
   "metadata": {
    "id": "wNqn9X7kLsRl",
    "outputId": "c25c7437-df4e-4de6-a6a3-75ec34336e0c"
   },
   "outputs": [
    {
     "name": "stdout",
     "output_type": "stream",
     "text": [
      "True <class 'bool'> \n",
      "\n",
      "====================================\n",
      "False <class 'bool'> \n",
      "\n"
     ]
    }
   ],
   "source": [
    "is_active = True\n",
    "has_permission = False\n",
    "\n",
    "\n",
    "print(is_active, type(is_active), '\\n')\n",
    "print('====================================')\n",
    "\n",
    "print(has_permission, type(has_permission), '\\n')\n"
   ]
  },
  {
   "cell_type": "code",
   "execution_count": 16,
   "metadata": {},
   "outputs": [
    {
     "ename": "SyntaxError",
     "evalue": "invalid syntax (2403211518.py, line 1)",
     "output_type": "error",
     "traceback": [
      "\u001b[1;36m  File \u001b[1;32m\"C:\\Users\\User\\AppData\\Local\\Temp\\ipykernel_10648\\2403211518.py\"\u001b[1;36m, line \u001b[1;32m1\u001b[0m\n\u001b[1;33m    name1='joseph's table'\u001b[0m\n\u001b[1;37m                  ^\u001b[0m\n\u001b[1;31mSyntaxError\u001b[0m\u001b[1;31m:\u001b[0m invalid syntax\n"
     ]
    }
   ],
   "source": [
    "name1='joseph's table'\n",
    "print(name1)"
   ]
  },
  {
   "cell_type": "code",
   "execution_count": 45,
   "metadata": {},
   "outputs": [
    {
     "name": "stdout",
     "output_type": "stream",
     "text": [
      "True <class 'bool'>\n",
      "False <class 'bool'>\n"
     ]
    }
   ],
   "source": [
    "his_friend=True\n",
    "my_name=False\n",
    "print(his_friend,type(his_friend))\n",
    "print(my_name,type(my_name))"
   ]
  },
  {
   "cell_type": "markdown",
   "metadata": {
    "id": "z7um5O_hLsRl"
   },
   "source": [
    "####  2.2.1. Integers (`int`)\n",
    "Integers are whole numbers without a fractional component. In Python, integers can be of arbitrary precision, meaning they can be as large as the memory allows.\n",
    "\n",
    "**Examples:**\n",
    "```python\n",
    "age = 25\n",
    "negative_number = -42\n",
    "```"
   ]
  },
  {
   "cell_type": "code",
   "execution_count": null,
   "metadata": {
    "id": "TsCaXwxJLsRl",
    "outputId": "26afa7a8-79e4-4987-9210-d415814f5883"
   },
   "outputs": [
    {
     "name": "stdout",
     "output_type": "stream",
     "text": [
      "25 <class 'int'> \n",
      "\n",
      "====================================\n",
      "-42 <class 'int'>\n"
     ]
    }
   ],
   "source": [
    "age = 25\n",
    "negative_number = -42\n",
    "\n",
    "print(age, type(age), '\\n')\n",
    "print('====================================')\n",
    "print(negative_number, type(negative_number))"
   ]
  },
  {
   "cell_type": "markdown",
   "metadata": {
    "id": "aoLcvxaiLsRl"
   },
   "source": [
    "####  2.2.2. Reals (`float`)\n",
    "Floating-point numbers (floats) are numbers with a decimal point. They are used to represent real numbers in Python.\n",
    "\n",
    "**Examples:**\n",
    "```python\n",
    "pi = 3.14159\n",
    "temperature = -2.5\n",
    "```"
   ]
  },
  {
   "cell_type": "code",
   "execution_count": null,
   "metadata": {
    "id": "Dlef3Dm7LsRm",
    "outputId": "19ed0924-4280-4cb6-bd6a-f05e73816a4b"
   },
   "outputs": [
    {
     "name": "stdout",
     "output_type": "stream",
     "text": [
      "3.14159 <class 'float'> \n",
      "\n",
      "====================================\n",
      "-2.5 <class 'float'>\n"
     ]
    }
   ],
   "source": [
    "pi = 3.14159\n",
    "temperature = -2.5\n",
    "\n",
    "\n",
    "print(pi, type(pi), '\\n')\n",
    "print('====================================')\n",
    "print(temperature, type(temperature))"
   ]
  },
  {
   "cell_type": "markdown",
   "metadata": {
    "id": "HOFkXy8cLsRm"
   },
   "source": [
    "#### 2.2.3. Complex (`complex`)\n",
    "Complex numbers in Python consist of a real part and an imaginary part. They are represented by `a + bj`, where `a` is the real part and `b` is the imaginary part.\n",
    "\n",
    "**Examples:**\n",
    "```python\n",
    "z = 1 + 2j\n",
    "w = complex(3, -4)\n",
    "```"
   ]
  },
  {
   "cell_type": "code",
   "execution_count": null,
   "metadata": {
    "id": "0fMshGWWLsRm",
    "outputId": "45a9a93c-e4c8-4916-ebc0-54f0b7fdff2d"
   },
   "outputs": [
    {
     "name": "stdout",
     "output_type": "stream",
     "text": [
      "(1+2j) <class 'complex'>\n",
      "====================================\n",
      "(3-4j) <class 'complex'>\n"
     ]
    }
   ],
   "source": [
    "z = 1 + 2j\n",
    "w = complex(3, -4)\n",
    "\n",
    "print(z, type(z))\n",
    "print('====================================')\n",
    "print(w, type(w))"
   ]
  },
  {
   "cell_type": "markdown",
   "metadata": {
    "id": "U65A4o2ILsRn"
   },
   "source": [
    "### 2.3. Iterable Objects\n",
    "\n",
    "#### 2.3.0. Lists (`list`)\n",
    "A list is an ordered collection of items that can be of different types. Lists are mutable, meaning their contents can be changed after creation.\n",
    "\n",
    "**Examples:**\n",
    "```python\n",
    "fruits = ['apple', 'banana', 'cherry']\n",
    "mixed = [1, 'two', 3.0, [4, 5]]\n",
    "```"
   ]
  },
  {
   "cell_type": "code",
   "execution_count": 50,
   "metadata": {},
   "outputs": [],
   "source": [
    "fruits = ['apple', 'banana', 'cherry']\n",
    "mixed = [1, 'two', 3.0, [4, 5]]"
   ]
  },
  {
   "cell_type": "code",
   "execution_count": null,
   "metadata": {
    "id": "PkujxoZMLsRr",
    "outputId": "720ad60f-7a2e-46aa-b20d-c14bd9538c35"
   },
   "outputs": [
    {
     "name": "stdout",
     "output_type": "stream",
     "text": [
      "['apple', 'banana', 'cherry'] <class 'list'>\n",
      "====================================\n",
      "[1, 'two', 3.0, [4, 5]] <class 'list'>\n"
     ]
    }
   ],
   "source": [
    "fruits = ['apple', 'banana', 'cherry']\n",
    "mixed = [1, 'two', 3.0, [4, 5]]\n",
    "\n",
    "\n",
    "print(fruits, type(fruits))\n",
    "print('====================================')\n",
    "print(mixed, type(mixed))"
   ]
  },
  {
   "cell_type": "markdown",
   "metadata": {
    "id": "4GESOyjXLsRs"
   },
   "source": [
    "#### 2.3.1. Immutable Lists (`tuple`)\n",
    "A tuple is similar to a list but is immutable, meaning its contents cannot be changed after creation. Tuples are often used to store collections of related data.\n",
    "\n",
    "**Examples:**\n",
    "```python\n",
    "coordinates = (10.5, 20.8)\n",
    "colors = ('red', 'green', 'blue')\n",
    "```"
   ]
  },
  {
   "cell_type": "code",
   "execution_count": null,
   "metadata": {
    "id": "Zlps9p7XLsRs",
    "outputId": "6d11c5cc-3056-45b3-cc95-3d261671dd24"
   },
   "outputs": [
    {
     "name": "stdout",
     "output_type": "stream",
     "text": [
      "(10.5, 20.8) <class 'tuple'>\n",
      "====================================\n",
      "('red', 'green', 'blue') <class 'tuple'>\n"
     ]
    }
   ],
   "source": [
    "coordinates = (10.5, 20.8)\n",
    "colors = ('red', 'green', 'blue')\n",
    "\n",
    "print(coordinates, type(coordinates))\n",
    "print('====================================')\n",
    "print(colors, type(colors))"
   ]
  },
  {
   "cell_type": "markdown",
   "metadata": {
    "id": "8AFScfUFLsRt"
   },
   "source": [
    "#### 2.3.2. Keyed Lists (`dict`)\n",
    "A dictionary is a collection of key-value pairs, where each key is associated with a value. Dictionaries are mutable and allow for fast lookup of values based on their keys.\n",
    "\n",
    "**Examples:**\n",
    "```python\n",
    "person = {'name': 'Alice', 'age': 30}\n",
    "inventory = {'apples': 10, 'bananas': 20}\n",
    "```"
   ]
  },
  {
   "cell_type": "code",
   "execution_count": null,
   "metadata": {
    "id": "lD8pwMKsLsRt",
    "outputId": "c3ec9680-d1d5-4ab3-e9ac-f69f2d8a401f"
   },
   "outputs": [
    {
     "name": "stdout",
     "output_type": "stream",
     "text": [
      "{'name': 'Alice', 'age': 30} <class 'dict'>\n",
      "====================================\n",
      "{'apples': 10, 'bananas': 20} <class 'dict'>\n"
     ]
    }
   ],
   "source": [
    "person = {'name': 'Alice', 'age': 30}\n",
    "inventory = {'apples': 10, 'bananas': 20}\n",
    "\n",
    "\n",
    "print(person, type(person))\n",
    "print('====================================')\n",
    "print(inventory, type(inventory))"
   ]
  },
  {
   "cell_type": "code",
   "execution_count": null,
   "metadata": {
    "id": "Zx0AVRaqLsRt"
   },
   "outputs": [],
   "source": [
    "#### 2.3.3. Unordered Sets of Unique Elements (`set`)\n",
    "A set is an unordered collection of unique elements. Sets are useful for membership tests and eliminating duplicate entries.\n",
    "\n",
    "**Examples:**\n",
    "```python\n",
    "unique_numbers = {1, 2, 3, 2}\n",
    "letters = {'a', 'b', 'c', 'a'}\n",
    "```"
   ]
  },
  {
   "cell_type": "code",
   "execution_count": 57,
   "metadata": {},
   "outputs": [
    {
     "name": "stdout",
     "output_type": "stream",
     "text": [
      "{'unique_numbers': [1, 2, 3, 2], 'letters': ['a', 'b', 'c', 'd']}\n",
      "   unique_numbers letters\n",
      "0               1       a\n",
      "1               2       b\n",
      "2               3       c\n",
      "3               2       d\n"
     ]
    }
   ],
   "source": [
    "import pandas as pd\n",
    "array = { \n",
    "    'unique_numbers': [1, 2, 3, 2],\n",
    "    'letters': ['a', 'b', 'c', 'd']  # Use strings instead of undefined variables\n",
    "}\n",
    "\n",
    "print(array)\n",
    "\n",
    "df=pd.DataFrame(array)\n",
    "print(df)\n"
   ]
  },
  {
   "cell_type": "code",
   "execution_count": null,
   "metadata": {
    "id": "YglDMjMeLsRu",
    "outputId": "50825b87-d0ba-44fd-e1ba-581b1cb7506e"
   },
   "outputs": [
    {
     "name": "stdout",
     "output_type": "stream",
     "text": [
      "{1, 2, 3} <class 'set'>\n",
      "====================================\n",
      "{'c', 'b', 'a'} <class 'set'>\n"
     ]
    }
   ],
   "source": [
    "unique_numbers = {1, 2, 3, 2}\n",
    "letters = {'a', 'b', 'c', 'a'}\n",
    "\n",
    "print(unique_numbers, type(unique_numbers))\n",
    "print('====================================')\n",
    "print(letters , type(letters ))\n"
   ]
  },
  {
   "cell_type": "code",
   "execution_count": 23,
   "metadata": {},
   "outputs": [
    {
     "name": "stdout",
     "output_type": "stream",
     "text": [
      "5.0 5\n"
     ]
    }
   ],
   "source": [
    "my_variable=5.\n",
    "my_variable1=5\n",
    "type(my_variable)\n",
    "type(my_variable1)\n",
    "print(my_variable,my_variable1)"
   ]
  },
  {
   "cell_type": "markdown",
   "metadata": {
    "id": "BRgrLzz5LsRu"
   },
   "source": [
    "### 2.4. Dynamic Typing in Python\n",
    "\n",
    "Python is a dynamically typed language, meaning that the type of a variable is determined at runtime rather than at compile time. In Python, you don't need to declare the type of a variable when you create it. Instead, the type is inferred based on the value assigned to the variable. This allows for more flexibility but also requires careful handling to avoid type-related errors.\n",
    "\n",
    "#### Key Characteristics of Dynamic Typing:\n",
    "\n",
    "- **No Type Declaration**: You simply assign a value to a variable, and Python automatically knows what type it is.\n",
    "    ```python\n",
    "    x = 10        # x is an integer\n",
    "    x = \"hello\"   # Now, x is a string\n",
    "    ```\n",
    "- **Type Flexibility**: The type of a variable can change over its lifetime. You can reassign a variable to a value of a different type without any issues.\n",
    "    ```python\n",
    "    y = 3.14      # y is initially a float\n",
    "    y = True      # Now, y is a boolean\n",
    "    ```\n",
    "- **Memory Management**: Python handles memory management automatically. When you reassign a variable to a new value, the previous value is discarded if it’s no longer referenced elsewhere in the code.\n",
    "\n",
    "#### Pros and Cons of Dynamic Typing:\n",
    "\n",
    "- **Pros**:\n",
    "  - **Flexibility**: You can write more general-purpose code since the type is not fixed.\n",
    "  - **Ease of Use**: Less boilerplate code, as there is no need for explicit type declarations.\n",
    "  \n",
    "- **Cons**:\n",
    "  - **Type-Related Errors**: Since types are determined at runtime, it’s possible to encounter errors if the wrong type is used in an operation.\n",
    "  - **Performance**: Dynamic typing can be slower than static typing because type checks are done at runtime.\n",
    "\n",
    "#### Example:\n",
    "```python\n",
    "# Initially, 'data' is an integer\n",
    "data = 100\n",
    "\n",
    "# Now, 'data' is a string\n",
    "data = \"Dynamic Typing\"\n",
    "\n",
    "# And now 'data' is a list\n",
    "data = [1, 2, 3]\n",
    "\n",
    "# Python handles these changes without any issues\n",
    "```"
   ]
  },
  {
   "cell_type": "markdown",
   "metadata": {
    "id": "1NZPASoTLsRu"
   },
   "source": [
    "### 2.5.  Coercion in Python\n",
    "\n",
    "**Coercion** in Python refers to the automatic conversion of one data type to another during operations that involve different types. Python is designed to handle these type conversions in a way that makes the language easier to use and reduces the need for manual type casting.\n",
    "\n",
    "#### Key Points About Coercion:\n",
    "\n",
    "- **Implicit Coercion**: Python automatically converts one data type to another when necessary to perform an operation. This usually happens in arithmetic operations involving different types, like an integer and a float.\n",
    "  - For example, if you add an integer to a float, Python will convert the integer to a float before performing the addition.\n",
    "  \n",
    "- **Explicit Coercion**: While Python handles many conversions automatically, you can also manually convert types using built-in functions like `int()`, `float()`, `str()`, etc. This is known as explicit type casting."
   ]
  },
  {
   "cell_type": "markdown",
   "metadata": {
    "id": "9EO50H8TLsRv"
   },
   "source": [
    "#### 2.5. 0. Implicit Coercion Example:\n",
    "\n",
    "```python\n",
    "# Adding an integer and a float\n",
    "x = 5        # int\n",
    "y = 3.2      # float\n",
    "\n",
    "# Python automatically converts 'x' to a float before performing the addition\n",
    "result = x + y\n",
    "\n",
    "print(result)  # Output: 8.2 (float)\n",
    "```\n",
    "\n",
    "In the example above, Python automatically converts the integer `5` to a float `5.0` to perform the addition with the float `3.2`, resulting in a float `8.2`."
   ]
  },
  {
   "cell_type": "code",
   "execution_count": null,
   "metadata": {
    "id": "HABjg1jkLsRv",
    "outputId": "9a82624b-53df-4c32-f25f-9ebc77268f44"
   },
   "outputs": [],
   "source": [
    "# Adding an integer and a float\n",
    "x = 5        # int\n",
    "y = 3.2      # float\n",
    "\n",
    "# Python automatically converts 'x' to a float before performing the addition\n",
    "result = x + y\n",
    "\n",
    "\n",
    "\n",
    "\n",
    "print(x, type(x), '\\n')\n",
    "print('====================================')\n",
    "print(y, type(y),'\\n')\n",
    "print('====================================')\n",
    "print(result, type(result))  # Output: 8.2 (float)"
   ]
  },
  {
   "cell_type": "code",
   "execution_count": null,
   "metadata": {},
   "outputs": [],
   "source": []
  },
  {
   "cell_type": "markdown",
   "metadata": {
    "id": "MD_QUU4fLsRv"
   },
   "source": [
    "#### 2.5.1. Explicit Coercion Example:\n",
    "\n",
    "```python\n",
    "# Converting a float to an integer\n",
    "a = 7.9\n",
    "b = int(a)  # Explicit coercion using the int() function\n",
    "\n",
    "print(b)  # Output: 7 (integer, with the decimal part truncated)\n",
    "```\n",
    "\n",
    "Here, the float `7.9` is explicitly converted to the integer `7` using the `int()` function, which removes the fractional part."
   ]
  },
  {
   "cell_type": "code",
   "execution_count": null,
   "metadata": {
    "id": "aKMX4dSnLsRv",
    "outputId": "f6d064a9-188f-417d-ba03-78a05f59ad1e"
   },
   "outputs": [
    {
     "name": "stdout",
     "output_type": "stream",
     "text": [
      "7\n"
     ]
    }
   ],
   "source": [
    "a = 7.9\n",
    "b = int(a)  # Explicit coercion using the int() function\n",
    "\n",
    "print(b)  # Output: 7 (integer, with the decimal part truncated)"
   ]
  },
  {
   "cell_type": "markdown",
   "metadata": {
    "id": "JecgDw9WLsRw"
   },
   "source": [
    "\n",
    "#### 2.5.2. Common Coercion Scenarios:\n",
    "\n",
    "- **String to Integer/Float**: When you need to convert a string containing numeric characters to an integer or float.\n",
    "  ```python\n",
    "  num_str = \"123\"\n",
    "  num_int = int(num_str)   # Converts to integer 123\n",
    "  num_float = float(num_str)  # Converts to float 123.0\n",
    "  ```\n",
    "\n",
    "- **Integer/Float to String**: When you need to concatenate a number with a string.\n",
    "  ```python\n",
    "  age = 25\n",
    "  message = \"I am \" + str(age) + \" years old.\"\n",
    "  ```\n",
    "\n",
    "- **Boolean to Integer**: `True` is coerced to `1` and `False` to `0` in numeric operations.\n",
    "  ```python\n",
    "  result = True + 2   # Output: 3 (1 + 2)\n",
    "  ```\n",
    "\n",
    "#### 2.5.3. Pros and Cons of Coercion:\n",
    "\n",
    "- **Pros**:\n",
    "  - Simplifies code by reducing the need for explicit type conversions.\n",
    "  - Makes the language more intuitive and user-friendly.\n",
    "\n",
    "- **Cons**:\n",
    "  - Can lead to unexpected results if the automatic type conversion doesn't align with the programmer's intent.\n",
    "  - Potentially hides bugs related to incorrect data types.\n",
    "\n",
    "Coercion in Python allows for smoother and more intuitive operations involving different data types. While it adds convenience, it's important to understand how and when Python performs these conversions to avoid unexpected behaviors."
   ]
  },
  {
   "cell_type": "markdown",
   "metadata": {
    "id": "Ut23dZtvLsRy"
   },
   "source": [
    "## 3. Methods associated with variables\n",
    "\n",
    "In Python, every variable is linked to a variety of attributes and methods that define its behavior and interactions. These methods are functions that are built into the variable's type and allow you to perform various operations on the variable. For example, methods can help you manipulate strings, perform mathematical operations, or interact with lists and dictionaries.\n",
    "\n",
    "The `dir()` function is useful for exploring these methods and understanding what operations are available for a given variable. By calling `dir()` on a variable, you get a list of all its attributes and methods, including those inherited from its type. This can be particularly helpful for discovering how to use a variable's methods or for debugging.\n",
    "\n",
    "Here's how you might use `dir()`:\n",
    "\n",
    "```python\n",
    "# Example with a string variable\n",
    "text = \"Hello, world!\"\n",
    "print(dir(text))\n",
    "\n",
    "# Example with a list variable\n",
    "numbers = [1, 2, 3, 4, 5]\n",
    "print(dir(numbers))\n",
    "```\n",
    "\n",
    "In the examples above, `dir(text)` will list methods related to string operations such as `upper()`, `lower()`, and `split()`, while `dir(numbers)` will show methods related to list operations like `append()`, `remove()`, and `sort()`. This feature of Python makes it easier to explore and utilize the functionalities associated with different data types."
   ]
  },
  {
   "cell_type": "code",
   "execution_count": 25,
   "metadata": {
    "id": "BE0ohE33LsRy"
   },
   "outputs": [],
   "source": [
    "x = 2.5 # Définit une variable numérique x\n",
    "y = 'my text' # Définit une variable en chaîne de caractères y."
   ]
  },
  {
   "cell_type": "markdown",
   "metadata": {
    "id": "m4EuZV5ELsRy"
   },
   "source": [
    "Pour afficher l’ensemble des méthodes associées à chacune de ces variables, on fait :\n"
   ]
  },
  {
   "cell_type": "code",
   "execution_count": 26,
   "metadata": {
    "id": "qmGvhDhFLsRz",
    "outputId": "162123ff-7fe4-4c43-94e9-261711ace3b6"
   },
   "outputs": [
    {
     "name": "stdout",
     "output_type": "stream",
     "text": [
      "['__abs__', '__add__', '__bool__', '__ceil__', '__class__', '__delattr__', '__dir__', '__divmod__', '__doc__', '__eq__', '__float__', '__floor__', '__floordiv__', '__format__', '__ge__', '__getattribute__', '__getformat__', '__getnewargs__', '__gt__', '__hash__', '__init__', '__init_subclass__', '__int__', '__le__', '__lt__', '__mod__', '__mul__', '__ne__', '__neg__', '__new__', '__pos__', '__pow__', '__radd__', '__rdivmod__', '__reduce__', '__reduce_ex__', '__repr__', '__rfloordiv__', '__rmod__', '__rmul__', '__round__', '__rpow__', '__rsub__', '__rtruediv__', '__setattr__', '__setformat__', '__sizeof__', '__str__', '__sub__', '__subclasshook__', '__truediv__', '__trunc__', 'as_integer_ratio', 'conjugate', 'fromhex', 'hex', 'imag', 'is_integer', 'real']\n"
     ]
    }
   ],
   "source": [
    "print(dir(x))"
   ]
  },
  {
   "cell_type": "code",
   "execution_count": 27,
   "metadata": {
    "id": "yjDIQaD8LsRz",
    "outputId": "1537a37c-a376-4b92-e216-62f240bf34f3"
   },
   "outputs": [
    {
     "name": "stdout",
     "output_type": "stream",
     "text": [
      "['__add__', '__class__', '__contains__', '__delattr__', '__dir__', '__doc__', '__eq__', '__format__', '__ge__', '__getattribute__', '__getitem__', '__getnewargs__', '__gt__', '__hash__', '__init__', '__init_subclass__', '__iter__', '__le__', '__len__', '__lt__', '__mod__', '__mul__', '__ne__', '__new__', '__reduce__', '__reduce_ex__', '__repr__', '__rmod__', '__rmul__', '__setattr__', '__sizeof__', '__str__', '__subclasshook__', 'capitalize', 'casefold', 'center', 'count', 'encode', 'endswith', 'expandtabs', 'find', 'format', 'format_map', 'index', 'isalnum', 'isalpha', 'isascii', 'isdecimal', 'isdigit', 'isidentifier', 'islower', 'isnumeric', 'isprintable', 'isspace', 'istitle', 'isupper', 'join', 'ljust', 'lower', 'lstrip', 'maketrans', 'partition', 'removeprefix', 'removesuffix', 'replace', 'rfind', 'rindex', 'rjust', 'rpartition', 'rsplit', 'rstrip', 'split', 'splitlines', 'startswith', 'strip', 'swapcase', 'title', 'translate', 'upper', 'zfill']\n"
     ]
    }
   ],
   "source": [
    "print(dir(y))"
   ]
  },
  {
   "cell_type": "markdown",
   "metadata": {
    "id": "Z76vpWnKLsRz"
   },
   "source": [
    "You can also type `variable_name.` followed by `TAB` in many interactive Python environments or integrated development environments (IDEs). This action triggers autocompletion, which helps you see and select available methods and attributes associated with that variable. For example:\n",
    "\n",
    "1. Type `variable_name.` and press `TAB`.\n",
    "2. A list of methods and attributes that can be used with `variable_name` will appear.\n",
    "\n",
    "This feature is especially useful for exploring what operations you can perform on a variable and for quickly finding the right method without needing to remember exact method names."
   ]
  },
  {
   "cell_type": "code",
   "execution_count": 28,
   "metadata": {
    "id": "FMP5GXdbLsRz"
   },
   "outputs": [
    {
     "data": {
      "text/plain": [
       "<function float.conjugate()>"
      ]
     },
     "execution_count": 28,
     "metadata": {},
     "output_type": "execute_result"
    }
   ],
   "source": [
    "x.conjugate# Type x. followed by `TAB`"
   ]
  },
  {
   "cell_type": "code",
   "execution_count": 29,
   "metadata": {},
   "outputs": [
    {
     "name": "stdout",
     "output_type": "stream",
     "text": [
      "Help on built-in function conjugate:\n",
      "\n",
      "conjugate() method of builtins.float instance\n",
      "    Return self, the complex conjugate of any float.\n",
      "\n",
      "None\n"
     ]
    }
   ],
   "source": [
    "print(help(x.conjugate))"
   ]
  },
  {
   "cell_type": "markdown",
   "metadata": {
    "id": "2-Uw_jvcLsRz"
   },
   "source": [
    "To get help on a specific method in Python, you can use the `help()` function. The syntax is `help(variable_name.method_name)`, where `method_name` is the name of the method you are interested in. For example, if you have a numeric variable of type `float`, which includes a method named `conjugate`, you can obtain information about this method by running:\n",
    "\n",
    "```python\n",
    "print(help(x.conjugate))\n",
    "```\n",
    "\n",
    "This will display documentation about the `conjugate` method, including its purpose and usage, in the console or terminal."
   ]
  },
  {
   "cell_type": "code",
   "execution_count": null,
   "metadata": {
    "id": "UbhkpHhVLsR0",
    "outputId": "2fedb8d6-6c2b-46de-c549-15d2e0e83eb4"
   },
   "outputs": [
    {
     "name": "stdout",
     "output_type": "stream",
     "text": [
      "Help on built-in function conjugate:\n",
      "\n",
      "conjugate() method of builtins.float instance\n",
      "    Return self, the complex conjugate of any float.\n",
      "\n",
      "None\n"
     ]
    }
   ],
   "source": [
    "print(help(x.conjugate))"
   ]
  },
  {
   "cell_type": "markdown",
   "metadata": {
    "id": "PZ4Uip_0LsR0"
   },
   "source": [
    "To display help on all the functions associated with a variable `x`, you simply use:\n",
    "\n",
    "```python\n",
    "help(x)\n",
    "```\n",
    "\n",
    "This command will show the documentation for the type of the variable `x`, including all the methods and attributes available for that type."
   ]
  },
  {
   "cell_type": "code",
   "execution_count": null,
   "metadata": {
    "collapsed": true,
    "id": "E4vNDcBOLsR0",
    "outputId": "40e457ca-5954-4502-f1d2-fcdc9afec53c"
   },
   "outputs": [
    {
     "name": "stdout",
     "output_type": "stream",
     "text": [
      "Help on float object:\n",
      "\n",
      "class float(object)\n",
      " |  float(x=0, /)\n",
      " |  \n",
      " |  Convert a string or number to a floating point number, if possible.\n",
      " |  \n",
      " |  Methods defined here:\n",
      " |  \n",
      " |  __abs__(self, /)\n",
      " |      abs(self)\n",
      " |  \n",
      " |  __add__(self, value, /)\n",
      " |      Return self+value.\n",
      " |  \n",
      " |  __bool__(self, /)\n",
      " |      True if self else False\n",
      " |  \n",
      " |  __ceil__(self, /)\n",
      " |      Return the ceiling as an Integral.\n",
      " |  \n",
      " |  __divmod__(self, value, /)\n",
      " |      Return divmod(self, value).\n",
      " |  \n",
      " |  __eq__(self, value, /)\n",
      " |      Return self==value.\n",
      " |  \n",
      " |  __float__(self, /)\n",
      " |      float(self)\n",
      " |  \n",
      " |  __floor__(self, /)\n",
      " |      Return the floor as an Integral.\n",
      " |  \n",
      " |  __floordiv__(self, value, /)\n",
      " |      Return self//value.\n",
      " |  \n",
      " |  __format__(self, format_spec, /)\n",
      " |      Formats the float according to format_spec.\n",
      " |  \n",
      " |  __ge__(self, value, /)\n",
      " |      Return self>=value.\n",
      " |  \n",
      " |  __getattribute__(self, name, /)\n",
      " |      Return getattr(self, name).\n",
      " |  \n",
      " |  __getnewargs__(self, /)\n",
      " |  \n",
      " |  __gt__(self, value, /)\n",
      " |      Return self>value.\n",
      " |  \n",
      " |  __hash__(self, /)\n",
      " |      Return hash(self).\n",
      " |  \n",
      " |  __int__(self, /)\n",
      " |      int(self)\n",
      " |  \n",
      " |  __le__(self, value, /)\n",
      " |      Return self<=value.\n",
      " |  \n",
      " |  __lt__(self, value, /)\n",
      " |      Return self<value.\n",
      " |  \n",
      " |  __mod__(self, value, /)\n",
      " |      Return self%value.\n",
      " |  \n",
      " |  __mul__(self, value, /)\n",
      " |      Return self*value.\n",
      " |  \n",
      " |  __ne__(self, value, /)\n",
      " |      Return self!=value.\n",
      " |  \n",
      " |  __neg__(self, /)\n",
      " |      -self\n",
      " |  \n",
      " |  __pos__(self, /)\n",
      " |      +self\n",
      " |  \n",
      " |  __pow__(self, value, mod=None, /)\n",
      " |      Return pow(self, value, mod).\n",
      " |  \n",
      " |  __radd__(self, value, /)\n",
      " |      Return value+self.\n",
      " |  \n",
      " |  __rdivmod__(self, value, /)\n",
      " |      Return divmod(value, self).\n",
      " |  \n",
      " |  __repr__(self, /)\n",
      " |      Return repr(self).\n",
      " |  \n",
      " |  __rfloordiv__(self, value, /)\n",
      " |      Return value//self.\n",
      " |  \n",
      " |  __rmod__(self, value, /)\n",
      " |      Return value%self.\n",
      " |  \n",
      " |  __rmul__(self, value, /)\n",
      " |      Return value*self.\n",
      " |  \n",
      " |  __round__(self, ndigits=None, /)\n",
      " |      Return the Integral closest to x, rounding half toward even.\n",
      " |      \n",
      " |      When an argument is passed, work like built-in round(x, ndigits).\n",
      " |  \n",
      " |  __rpow__(self, value, mod=None, /)\n",
      " |      Return pow(value, self, mod).\n",
      " |  \n",
      " |  __rsub__(self, value, /)\n",
      " |      Return value-self.\n",
      " |  \n",
      " |  __rtruediv__(self, value, /)\n",
      " |      Return value/self.\n",
      " |  \n",
      " |  __sub__(self, value, /)\n",
      " |      Return self-value.\n",
      " |  \n",
      " |  __truediv__(self, value, /)\n",
      " |      Return self/value.\n",
      " |  \n",
      " |  __trunc__(self, /)\n",
      " |      Return the Integral closest to x between 0 and x.\n",
      " |  \n",
      " |  as_integer_ratio(self, /)\n",
      " |      Return integer ratio.\n",
      " |      \n",
      " |      Return a pair of integers, whose ratio is exactly equal to the original float\n",
      " |      and with a positive denominator.\n",
      " |      \n",
      " |      Raise OverflowError on infinities and a ValueError on NaNs.\n",
      " |      \n",
      " |      >>> (10.0).as_integer_ratio()\n",
      " |      (10, 1)\n",
      " |      >>> (0.0).as_integer_ratio()\n",
      " |      (0, 1)\n",
      " |      >>> (-.25).as_integer_ratio()\n",
      " |      (-1, 4)\n",
      " |  \n",
      " |  conjugate(self, /)\n",
      " |      Return self, the complex conjugate of any float.\n",
      " |  \n",
      " |  hex(self, /)\n",
      " |      Return a hexadecimal representation of a floating-point number.\n",
      " |      \n",
      " |      >>> (-0.1).hex()\n",
      " |      '-0x1.999999999999ap-4'\n",
      " |      >>> 3.14159.hex()\n",
      " |      '0x1.921f9f01b866ep+1'\n",
      " |  \n",
      " |  is_integer(self, /)\n",
      " |      Return True if the float is an integer.\n",
      " |  \n",
      " |  ----------------------------------------------------------------------\n",
      " |  Class methods defined here:\n",
      " |  \n",
      " |  __getformat__(typestr, /) from builtins.type\n",
      " |      You probably don't want to use this function.\n",
      " |      \n",
      " |        typestr\n",
      " |          Must be 'double' or 'float'.\n",
      " |      \n",
      " |      It exists mainly to be used in Python's test suite.\n",
      " |      \n",
      " |      This function returns whichever of 'unknown', 'IEEE, big-endian' or 'IEEE,\n",
      " |      little-endian' best describes the format of floating point numbers used by the\n",
      " |      C type named by typestr.\n",
      " |  \n",
      " |  fromhex(string, /) from builtins.type\n",
      " |      Create a floating-point number from a hexadecimal string.\n",
      " |      \n",
      " |      >>> float.fromhex('0x1.ffffp10')\n",
      " |      2047.984375\n",
      " |      >>> float.fromhex('-0x1p-1074')\n",
      " |      -5e-324\n",
      " |  \n",
      " |  ----------------------------------------------------------------------\n",
      " |  Static methods defined here:\n",
      " |  \n",
      " |  __new__(*args, **kwargs) from builtins.type\n",
      " |      Create and return a new object.  See help(type) for accurate signature.\n",
      " |  \n",
      " |  ----------------------------------------------------------------------\n",
      " |  Data descriptors defined here:\n",
      " |  \n",
      " |  imag\n",
      " |      the imaginary part of a complex number\n",
      " |  \n",
      " |  real\n",
      " |      the real part of a complex number\n",
      "\n",
      "None\n"
     ]
    }
   ],
   "source": [
    "print(help(x))"
   ]
  },
  {
   "cell_type": "markdown",
   "metadata": {
    "id": "lnpmCHAqLsR2"
   },
   "source": [
    "### 4. Arithmetic and Logical (Boolean) Operators\n",
    "\n",
    "In Python, two major categories of operators are used to define variables and instructions: arithmetic operators and logical (boolean) operators.\n",
    "\n",
    "- **Arithmetic Operators**: These operators perform common mathematical operations. They include addition, subtraction, multiplication, division, and others that are essential for numerical computations.\n",
    "\n",
    "- **Logical (Boolean) Operators**: These operators are used for comparing values and evaluating logical expressions. A boolean value represents one of two possibilities: true or false. Boolean values result from evaluating logical expressions and are used to make decisions within a program, such as executing certain actions when specific conditions are met.\n",
    "\n",
    "**Boolean values** are crucial for control flow in programming, allowing for conditional execution based on whether a condition evaluates to true or false."
   ]
  },
  {
   "cell_type": "markdown",
   "metadata": {
    "id": "GEvzmevCLsR2"
   },
   "source": [
    "\n",
    "\n",
    "\n",
    "#### 4.0. Arithmetic Operators\n",
    "\n",
    "| **Operation**            | **Symbol**  | **Example**       |\n",
    "|:-------------------------:|:-----------:|:-----------------:|\n",
    "| Addition                  | `+`         | `x = 2 + 3`       |\n",
    "| Subtraction               | `-`         | `z = x - y`       |\n",
    "| Multiplication            | `*`         | `y = 3 * x`       |\n",
    "| Real Division             | `/`         | `5 / 2 = 2.5`    |\n",
    "| Integer Division          | `//`        | `5 // 2 = 2`     |\n",
    "| Exponentiation            | `**`        | `x ** 2 = x * x` |\n",
    "| Modulo (Remainder)        | `%`         | `17 % 3 = 2`     |\n",
    "| Increment Addition        | `+=`        | `x += 4` (i.e., `x = x + 4`) |\n",
    "| Increment Subtraction     | `-=`        | `x -= 4` (i.e., `x = x - 4`) |\n",
    "\n",
    "---\n",
    "\n"
   ]
  },
  {
   "cell_type": "markdown",
   "metadata": {
    "id": "qFJCTachLsR3"
   },
   "source": [
    "\n",
    "\n",
    "#### 4.1. Logical Operators<\n",
    "\n",
    "| **Operation**                | **Symbol** | **Description**                                | **Example**               |\n",
    "|:----------------------------:|:----------:|:---------------------------------------------:|:--------------------------:|\n",
    "| Logical AND                  | `and`      | Returns `True` if both operands are true     | `True and False` yields `False` |\n",
    "| Logical OR                   | `or`       | Returns `True` if at least one operand is true| `True or False` yields `True`  |\n",
    "| Logical NOT                  | `not`      | Returns `True` if the operand is false       | `not True` yields `False`      |\n",
    "| Logical XOR (Exclusive OR)   | `^`        | Returns `True` if operands are different     | `True ^ False` yields `True`   |\n",
    "| Logical equality             | `==`       | Returns `True` if both operands are equal    | `x == y`                    |\n",
    "| Logical inequality           | `!=`       | Returns `True` if operands are not equal    | `x != y`                    |\n",
    "| Less than                    | `<`        | Returns `True` if left operand is less than right operand | `x < y`                  |\n",
    "| Greater than                 | `>`        | Returns `True` if left operand is greater than right operand | `x > y`                  |\n",
    "| Less than or equal to        | `<=`       | Returns `True` if left operand is less than or equal to right operand | `x <= y`                 |\n",
    "| Greater than or equal to     | `>=`       | Returns `True` if left operand is greater than or equal to right operand | `x >= y`                 |\n",
    "\n",
    "---\n"
   ]
  },
  {
   "cell_type": "markdown",
   "metadata": {
    "id": "I3F22ITbLsR3"
   },
   "source": [
    "\n",
    "To access the complete list of standard Python operators and their equivalent functions, see [this page](https://docs.python.org/3/library/operator.html). You can also refer to [this page](https://www.tutorialspoint.com/python/python_operators.htm) for some examples of standard operator usage.\n",
    "\n"
   ]
  },
  {
   "cell_type": "markdown",
   "metadata": {
    "id": "lvluIjATLsR3"
   },
   "source": [
    "### 5. User input ( the `input()` function)\n",
    "\n",
    "In Python, the `input()` function is used to capture user input from the console. It pauses the program's execution and waits for the user to type something, which is then returned as a string. This input can be stored in a variable, allowing you to use the entered data later in your code.\n",
    "\n",
    "#### 5.0. Basic Usage\n",
    "\n",
    "The basic syntax for the `input()` function is:\n",
    "\n",
    "```python\n",
    "variable_name = input(prompt)\n",
    "```\n",
    "\n",
    "- **`prompt`**: This is an optional argument. It is a string that is displayed to the user, providing instructions or asking for specific input.\n",
    "- **`variable_name`**: This is the variable that will store the value entered by the user.\n",
    "\n",
    "#### Example\n",
    "\n",
    "Here’s a simple example of using the `input()` function:\n",
    "\n",
    "```python\n",
    "name = input(\"Enter your name: \")\n",
    "print(\"Hello, \" + name + \"!\")\n",
    "```\n",
    "\n",
    "In this example:\n",
    "- The program prompts the user to enter their name.\n",
    "- The entered name is stored in the variable `name`.\n",
    "- The program then greets the user using the name provided."
   ]
  },
  {
   "cell_type": "code",
   "execution_count": 30,
   "metadata": {
    "id": "cEzhjzjmLsR3",
    "outputId": "ee7999d8-51a1-468b-dd07-18839c246cb4"
   },
   "outputs": [
    {
     "name": "stdout",
     "output_type": "stream",
     "text": [
      "Enter your name: JOSEP\n",
      "Hello, JOSEP!\n"
     ]
    }
   ],
   "source": [
    "name = input(\"Enter your name: \")\n",
    "print(\"Hello, \" + name + \"!\")"
   ]
  },
  {
   "cell_type": "markdown",
   "metadata": {
    "id": "WUvSKQGJLsR4"
   },
   "source": [
    "#### 5.1. Important Notes\n",
    "\n",
    "- **Type Conversion**: Since `input()` always returns the input as a string, you may need to convert it to the appropriate type (e.g., `int`, `float`) depending on the context.\n",
    "\n",
    "  ```python\n",
    "  age = int(input(\"Enter your age: \"))\n",
    "  ```\n",
    "\n",
    "- **Handling Errors**: When converting input, it’s important to handle potential errors, such as the user entering a non-numeric value when an integer is expected.\n",
    "\n",
    "- **Security Considerations**: Be cautious when using `input()` in sensitive applications, as it can introduce security risks if the input is not properly validated or sanitized.\n",
    "\n",
    "Using the `input()` function is a common way to make your Python programs interactive, enabling users to provide data that can be processed and utilized by the program."
   ]
  },
  {
   "cell_type": "markdown",
   "metadata": {
    "id": "QPRitB6MLsR4"
   },
   "source": [
    "#### 5.2.  Accepting User Inputs (as both integer and string)\n",
    "\n",
    "**`input(prompt)`** prompts for and returns input as a string. Hence, if the user inputs a integer, the code should convert the string to an integer and then proceed."
   ]
  },
  {
   "cell_type": "code",
   "execution_count": null,
   "metadata": {
    "id": "lfaJDm1eLsR4",
    "outputId": "79bc776d-e41a-476c-974f-6045b0db774b"
   },
   "outputs": [
    {
     "name": "stdout",
     "output_type": "stream",
     "text": [
      "Hello, \n",
      "How are you?  Fine\n",
      "================================== \n",
      "\n",
      "<class 'str'>\n"
     ]
    }
   ],
   "source": [
    "a = input(\"Hello, \\nHow are you?  \") # \\n means new line\n",
    "\n",
    "\n",
    "print(\"================================== \\n\")\n",
    "print(type(a))"
   ]
  },
  {
   "cell_type": "code",
   "execution_count": null,
   "metadata": {
    "id": "KNelliD1LsR4",
    "outputId": "2fc54d0a-93f1-4b16-c6a9-bc32b5c3b746"
   },
   "outputs": [
    {
     "name": "stdout",
     "output_type": "stream",
     "text": [
      "Type something here and it will be stored in variable try_something \tGababa\n",
      "================================== \n",
      "\n",
      "<class 'str'>\n"
     ]
    }
   ],
   "source": [
    "try_something = input(\"Type something here and it will be stored in variable try_something \\t\")\n",
    "\n",
    "print(\"================================== \\n\")\n",
    "print(type(try_something))"
   ]
  },
  {
   "cell_type": "code",
   "execution_count": null,
   "metadata": {
    "id": "04Qq5hPCLsR5"
   },
   "outputs": [],
   "source": [
    "number = input(\"Enter number: \")\n",
    "name = input(\"Enter name: \")\n",
    "\n",
    "print(\"\\n\")\n",
    "print(\"Printing type of a input value\")\n",
    "print(\"type of number\", type(number))\n",
    "print(\"type of name\", type(name))"
   ]
  },
  {
   "cell_type": "markdown",
   "metadata": {
    "id": "7Rec7V7uLsR5"
   },
   "source": [
    "#### 5.3. `eval()` (accepting user inputs; only as integer)\n",
    "\n",
    "The `eval()` function in Python can be used in conjunction with `input()` to evaluate a string as a Python expression. This can be particularly useful when you want to allow the user to input a mathematical expression or Python code directly and have it evaluated at runtime.\n",
    "\n",
    "#### Basic Usage of `eval()`\n",
    "\n",
    "The basic syntax for using `eval()` with `input()` is:\n",
    "\n",
    "```python\n",
    "result = eval(input(prompt))\n",
    "```\n",
    "\n",
    "- **`prompt`**: This is the text displayed to the user to guide them on what to input.\n",
    "- **`result`**: This variable stores the output after evaluating the user input as a Python expression.\n",
    "\n",
    "#### Example\n",
    "\n",
    "Here’s an example where the user is allowed to input a mathematical expression, and `eval()` evaluates it:\n",
    "\n",
    "```python\n",
    "expression = input(\"Enter a mathematical expression: \")\n",
    "result = eval(expression)\n",
    "print(\"The result is:\", result)\n",
    "```"
   ]
  },
  {
   "cell_type": "code",
   "execution_count": null,
   "metadata": {},
   "outputs": [],
   "source": [
    "import nump"
   ]
  },
  {
   "cell_type": "code",
   "execution_count": null,
   "metadata": {
    "id": "z7rX7fSiLsR5",
    "outputId": "3cedd552-40c6-4f0d-ca22-73aa76bb00cf"
   },
   "outputs": [
    {
     "name": "stdout",
     "output_type": "stream",
     "text": [
      "Enter a mathematical expression: 63.8\n",
      "The result is: 63.8\n"
     ]
    }
   ],
   "source": [
    "expression = input(\"Enter a mathematical expression: \")\n",
    "result = eval(expression)\n",
    "print(\"The result is:\", result)"
   ]
  },
  {
   "cell_type": "markdown",
   "metadata": {
    "id": "N-OPE8IjLsR6"
   },
   "source": [
    "In this example:\n",
    "- The program prompts the user to enter a mathematical expression.\n",
    "- The input is passed to `eval()`, which evaluates the expression.\n",
    "- The result is then printed out.\n",
    "\n",
    "#### Important Notes\n",
    "\n",
    "- **Use with Caution**: The `eval()` function can be dangerous if used with untrusted input, as it will execute any code passed to it. This could potentially lead to security vulnerabilities, such as code injection attacks. It should only be used in safe, controlled environments where the input is trusted.\n",
    "  \n",
    "- **Valid Python Expressions**: The string passed to `eval()` must be a valid Python expression. If the string contains syntax errors or invalid operations, Python will raise an exception.\n",
    "\n",
    "- **Alternative**: In many cases, using `int()` or `float()` for type conversion, or safely parsing and evaluating input without `eval()`, may be preferable for security reasons.\n",
    "\n",
    "Using `eval()` with `input()` can be powerful for dynamic code evaluation, but it should be used responsibly to avoid unintended consequences.\n"
   ]
  },
  {
   "cell_type": "markdown",
   "metadata": {
    "id": "wEPQfe1HLsR6"
   },
   "source": [
    "## Further reading\n",
    "\n",
    "0. [Programming with Python](python.aims.ac.za); [Section 4](https://python.aims.ac.za/pages/basic_ops_types.html)\n",
    "1. [Programming with Python](python.aims.ac.za); [Section 5](https://python.aims.ac.za/pages/assignment_var.html)"
   ]
  },
  {
   "cell_type": "markdown",
   "metadata": {
    "id": "9gkyfEZDLsR7"
   },
   "source": [
    "<!--NAVIGATION-->\n",
    "< [0. Introduction](00.introduction_to_python.ipynb) | [ToC](Index.ipynb) | [2. Strings](02-Strings.ipynb) >\n"
   ]
  }
 ],
 "metadata": {
  "colab": {
   "provenance": []
  },
  "kernelspec": {
   "display_name": "Python 3 (ipykernel)",
   "language": "python",
   "name": "python3"
  },
  "language_info": {
   "codemirror_mode": {
    "name": "ipython",
    "version": 3
   },
   "file_extension": ".py",
   "mimetype": "text/x-python",
   "name": "python",
   "nbconvert_exporter": "python",
   "pygments_lexer": "ipython3",
   "version": "3.9.13"
  }
 },
 "nbformat": 4,
 "nbformat_minor": 1
}
