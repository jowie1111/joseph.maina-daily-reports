{
 "cells": [
  {
   "cell_type": "code",
   "execution_count": 109,
   "id": "efa76eba",
   "metadata": {
    "scrolled": true
   },
   "outputs": [
    {
     "name": "stdout",
     "output_type": "stream",
     "text": [
      "enter number:6\n",
      "product=945,sum=10\n"
     ]
    }
   ],
   "source": [
    "number=int(input(\"enter number:\"))\n",
    "even_num=1\n",
    "odd_num=0\n",
    "for i in range(n):\n",
    "    if i%2 == 0:\n",
    "        even_num*=(i+3)\n",
    "    else:\n",
    "        odd_num+=(1+3)\n",
    "print(f'product={even_num},sum={odd_sum}')"
   ]
  },
  {
   "cell_type": "markdown",
   "id": "872f7306",
   "metadata": {},
   "source": [
    "#question 2"
   ]
  },
  {
   "cell_type": "code",
   "execution_count": 116,
   "id": "12042a72",
   "metadata": {},
   "outputs": [
    {
     "name": "stdout",
     "output_type": "stream",
     "text": [
      "Enter the number of the day of the week (0-6): 4\n",
      "Friday\n"
     ]
    }
   ],
   "source": [
    "day_number = int(input(\"Enter the number of the day of the week (0-6): \"))\n",
    "if day_number == 0:\n",
    "    print(\"Monday\")\n",
    "elif day_number == 1:\n",
    "    print(\"Tuesday\")\n",
    "elif day_number == 2:\n",
    "    print(\"Wednesday\")\n",
    "elif day_number == 3:\n",
    "    print(\"Thursday\")\n",
    "elif day_number == 4:\n",
    "    print(\"Friday\")\n",
    "elif day_number == 5 or day_number == 6:\n",
    "    print(\"Weekend\")\n",
    "else:\n",
    "    print(\"Invalid input! Please enter a number between 0 and 6.\")\n",
    "\n",
    "                        \n",
    "            \n",
    "    \n",
    "        \n",
    "  \n",
    "    \n",
    "   \n",
    "    \n",
    "    \n",
    "    \n",
    "    \n",
    "    "
   ]
  },
  {
   "cell_type": "markdown",
   "id": "cd7bd053",
   "metadata": {},
   "source": [
    "#question3"
   ]
  },
  {
   "cell_type": "code",
   "execution_count": 124,
   "id": "ddfe62ee",
   "metadata": {
    "scrolled": true
   },
   "outputs": [
    {
     "name": "stdout",
     "output_type": "stream",
     "text": [
      "joseph\n",
      "joseph\n",
      "joseph\n",
      "......................../t\n",
      "maina\n",
      "maina\n",
      "maina\n"
     ]
    }
   ],
   "source": [
    "name=\"joseph\"\n",
    "for i in range(3):\n",
    "    print(name)\n",
    "print(\"......................../t\")\n",
    "\n",
    "Name=\"maina\"\n",
    "i=0\n",
    "while i<3:\n",
    "    i+=1\n",
    "    print(Name)"
   ]
  },
  {
   "cell_type": "markdown",
   "id": "dbbd4ecc",
   "metadata": {},
   "source": [
    "##question5"
   ]
  },
  {
   "cell_type": "code",
   "execution_count": 125,
   "id": "89b3b687",
   "metadata": {},
   "outputs": [
    {
     "name": "stdout",
     "output_type": "stream",
     "text": [
      "Enter a_0: 1\n",
      "Enter a_1: 1\n",
      "1\n",
      "1\n",
      "2\n",
      "3\n",
      "5\n",
      "8\n",
      "13\n",
      "21\n",
      "34\n",
      "55\n",
      "89\n",
      "144\n",
      "233\n",
      "377\n",
      "610\n"
     ]
    }
   ],
   "source": [
    "a_0 = int(input('Enter a_0: '))\n",
    "a_1 = int(input('Enter a_1: '))\n",
    "\n",
    "for i in range(15):\n",
    "    if i==0:\n",
    "        print(a_0)\n",
    "    elif i==1:\n",
    "        print(a_1)\n",
    "    else:\n",
    "        a_0, a_1 = a_1, a_0 + a_1\n",
    "        print(a_1)"
   ]
  },
  {
   "cell_type": "code",
   "execution_count": 137,
   "id": "2770b24b",
   "metadata": {
    "scrolled": true
   },
   "outputs": [
    {
     "name": "stdout",
     "output_type": "stream",
     "text": [
      "enter initial number:1\n",
      "enter second number:1\n",
      "1\n",
      "1\n",
      "2\n",
      "3\n",
      "5\n",
      "8\n",
      "13\n",
      "21\n",
      "34\n",
      "55\n",
      "89\n",
      "144\n",
      "233\n",
      "377\n",
      "610\n"
     ]
    }
   ],
   "source": [
    "f_0 = int(input(\"enter initial number:\"))\n",
    "f_1 = int(input(\"enter second number:\"))\n",
    "\n",
    "for i in range(15):\n",
    "    if i==0:\n",
    "        print(f_0) \n",
    "    elif i==1:\n",
    "        print(f_1)\n",
    "    else:\n",
    "        f_0, f_1 = f_1, f_0 + f_1\n",
    "        print(f_1) \n"
   ]
  },
  {
   "cell_type": "markdown",
   "id": "fb7e76c0",
   "metadata": {},
   "source": [
    "#question 6"
   ]
  },
  {
   "cell_type": "code",
   "execution_count": 139,
   "id": "f554a31a",
   "metadata": {
    "scrolled": true
   },
   "outputs": [
    {
     "name": "stdout",
     "output_type": "stream",
     "text": [
      "Enter a_0: 1\n",
      "Enter a_1: 2\n",
      "1\n",
      "2\n",
      "4.0\n",
      "8.0\n",
      "16.0\n",
      "32.0\n",
      "64.0\n",
      "128.0\n",
      "256.0\n",
      "512.0\n",
      "1024.0\n",
      "2048.0\n",
      "4096.0\n",
      "8192.0\n",
      "16384.0\n",
      "32768.0\n",
      "65536.0\n",
      "131072.0\n",
      "262144.0\n",
      "524288.0\n",
      "1048576.0\n",
      "2097152.0\n",
      "4194304.0\n",
      "8388608.0\n",
      "16777216.0\n",
      "33554432.0\n",
      "67108864.0\n",
      "134217728.0\n",
      "268435456.0\n",
      "536870912.0\n"
     ]
    }
   ],
   "source": [
    "a_0 = int(input('Enter a_0: '))\n",
    "a_1 = int(input('Enter a_1: '))\n",
    "\n",
    "\n",
    "for i in range(30):\n",
    "    if i==0:\n",
    "        print(a_0)\n",
    "    elif i==1:\n",
    "        print(a_1)\n",
    "    else:\n",
    "        a_0, a_1 = a_1, (6*a_0 + a_1)/2\n",
    "        print(a_1)"
   ]
  },
  {
   "cell_type": "markdown",
   "id": "32a983a7",
   "metadata": {},
   "source": [
    "#question7"
   ]
  },
  {
   "cell_type": "code",
   "execution_count": 152,
   "id": "38b1caa4",
   "metadata": {
    "scrolled": false
   },
   "outputs": [
    {
     "name": "stdout",
     "output_type": "stream",
     "text": [
      "enter the year:1600\n",
      "year 1600 is a leap year\n",
      "year 1600 is a leap year\n",
      "year 1600 is a leap year\n"
     ]
    }
   ],
   "source": [
    "year=int(input(\"enter the year:\"))\n",
    "if year % 4 == 0:\n",
    "    print(f\"year {year} is a leap year\")\n",
    "else:\n",
    "    print(f\"this is not a leap  year\")\n",
    "if year % 100 == 0:\n",
    "    print(f\"year {year} is a leap year\")\n",
    "else:\n",
    "    print(f\"year {year} is not leap yeart\")\n",
    "if year % 400 == 0:\n",
    "    print(f\"year {year} is a leap year\")\n",
    "else:\n",
    "    print(f\"year {year} is not leap yeart\")\n",
    "    \n",
    "        \n"
   ]
  },
  {
   "cell_type": "markdown",
   "id": "8d20e2c4",
   "metadata": {},
   "source": [
    "#part 7(b)"
   ]
  },
  {
   "cell_type": "code",
   "execution_count": 153,
   "id": "3893fe3c",
   "metadata": {},
   "outputs": [
    {
     "name": "stdout",
     "output_type": "stream",
     "text": [
      "1600 is a leap year.\n"
     ]
    }
   ],
   "source": [
    "if year%4!=0 or (year%4==0 and year%100==0 and year%400!=0):\n",
    "    print(f'{year} is not a leap year.')\n",
    "else:\n",
    "    print(f'{year} is a leap year.')"
   ]
  },
  {
   "cell_type": "markdown",
   "id": "06c19efd",
   "metadata": {},
   "source": [
    "#question 8"
   ]
  },
  {
   "cell_type": "code",
   "execution_count": 155,
   "id": "73eebe6b",
   "metadata": {},
   "outputs": [
    {
     "name": "stdout",
     "output_type": "stream",
     "text": [
      "Enter a natural numbers: 3\n",
      "5 5\n"
     ]
    }
   ],
   "source": [
    "n = int(input('Enter a natural numbers: '))\n",
    "sum_square_for = 0\n",
    "sum_square_while = 0\n",
    "for i in range(n):\n",
    "    sum_square_for += i**2\n",
    "    \n",
    "i=0\n",
    "while i<n:\n",
    "    sum_square_while += i**2\n",
    "    i += 1\n",
    "    \n",
    "print(sum_square_for, sum_square_while)"
   ]
  },
  {
   "cell_type": "code",
   "execution_count": 156,
   "id": "a91075f4",
   "metadata": {},
   "outputs": [
    {
     "name": "stdout",
     "output_type": "stream",
     "text": [
      "Give a number P: 1\n",
      "The smallest natural n is 1\n"
     ]
    }
   ],
   "source": [
    "# for loop version\n",
    "P = int(input('Give a number P: '))\n",
    "sum_number = 0\n",
    "for i in range(P):\n",
    "    sum_number += i**2\n",
    "    if sum_number>=P:\n",
    "        print(f'The smallest natural n is {i}')\n",
    "        break\n",
    "        \n",
    "# while loop\n",
    "sum_number = 0\n",
    "i = 0\n",
    "while sum_number < P:\n",
    "    i += 1\n",
    "    sum_number += i**2\n",
    "    \n",
    "    \n",
    "print(f'The smallest natural n is {i}')"
   ]
  },
  {
   "cell_type": "markdown",
   "id": "9b48f91d",
   "metadata": {},
   "source": [
    "#Question 9"
   ]
  },
  {
   "cell_type": "code",
   "execution_count": 158,
   "id": "4abfcd5a",
   "metadata": {},
   "outputs": [
    {
     "name": "stdout",
     "output_type": "stream",
     "text": [
      "Give a natural number: 10\n",
      "[1, 10, 2, 5]\n"
     ]
    }
   ],
   "source": [
    "n = int(input('Give a natural number: '))\n",
    "def divisors(number):\n",
    "    list_divisors = [1, n]\n",
    "    for i in range(2, int(n/2)+1):\n",
    "        if n%i==0:\n",
    "            list_divisors.append(i)\n",
    "    return list_divisors\n",
    "        \n",
    "print(divisors(n))"
   ]
  },
  {
   "cell_type": "markdown",
   "id": "7c8d5c26",
   "metadata": {},
   "source": [
    "#question 10"
   ]
  },
  {
   "cell_type": "code",
   "execution_count": 161,
   "id": "eb235112",
   "metadata": {},
   "outputs": [
    {
     "name": "stdout",
     "output_type": "stream",
     "text": [
      "Give a natural number: 7\n",
      "{7}\n"
     ]
    }
   ],
   "source": [
    "def check_prime(number):\n",
    "    if number <= 1:  \n",
    "        return False\n",
    "    for i in range(2, number):\n",
    "        if number % i == 0:\n",
    "            return False\n",
    "    return True\n",
    "n = int(input('Give a natural number: '))\n",
    "set_of_factors = set()\n",
    "for i in range(2, n + 1):\n",
    "    if n % i == 0 and check_prime(i):\n",
    "        set_of_factors.add(i)\n",
    "print(set_of_factors)\n"
   ]
  },
  {
   "cell_type": "markdown",
   "id": "aebe3300",
   "metadata": {},
   "source": [
    "#question 11"
   ]
  },
  {
   "cell_type": "code",
   "execution_count": 165,
   "id": "bdf6e1c9",
   "metadata": {
    "scrolled": true
   },
   "outputs": [
    {
     "name": "stdout",
     "output_type": "stream",
     "text": [
      "enter an integer btwn 0 and 91\n",
      "enter an integer btwn 0 and 90\n",
      "0 mutiplies 0 equals 0\n",
      "0 mutiplies 1 equals 0\n",
      "0 mutiplies 2 equals 0\n",
      "0 mutiplies 3 equals 0\n",
      "0 mutiplies 4 equals 0\n",
      "0 mutiplies 5 equals 0\n",
      "0 mutiplies 6 equals 0\n",
      "0 mutiplies 7 equals 0\n",
      "0 mutiplies 8 equals 0\n",
      "1 mutiplies 0 equals 0\n",
      "1 mutiplies 1 equals 1\n",
      "1 mutiplies 2 equals 2\n",
      "1 mutiplies 3 equals 3\n",
      "1 mutiplies 4 equals 4\n",
      "1 mutiplies 5 equals 5\n",
      "1 mutiplies 6 equals 6\n",
      "1 mutiplies 7 equals 7\n",
      "1 mutiplies 8 equals 8\n",
      "2 mutiplies 0 equals 0\n",
      "2 mutiplies 1 equals 2\n",
      "2 mutiplies 2 equals 4\n",
      "2 mutiplies 3 equals 6\n",
      "2 mutiplies 4 equals 8\n",
      "2 mutiplies 5 equals 10\n",
      "2 mutiplies 6 equals 12\n",
      "2 mutiplies 7 equals 14\n",
      "2 mutiplies 8 equals 16\n",
      "3 mutiplies 0 equals 0\n",
      "3 mutiplies 1 equals 3\n",
      "3 mutiplies 2 equals 6\n",
      "3 mutiplies 3 equals 9\n",
      "3 mutiplies 4 equals 12\n",
      "3 mutiplies 5 equals 15\n",
      "3 mutiplies 6 equals 18\n",
      "3 mutiplies 7 equals 21\n",
      "3 mutiplies 8 equals 24\n",
      "4 mutiplies 0 equals 0\n",
      "4 mutiplies 1 equals 4\n",
      "4 mutiplies 2 equals 8\n",
      "4 mutiplies 3 equals 12\n",
      "4 mutiplies 4 equals 16\n",
      "4 mutiplies 5 equals 20\n",
      "4 mutiplies 6 equals 24\n",
      "4 mutiplies 7 equals 28\n",
      "4 mutiplies 8 equals 32\n",
      "5 mutiplies 0 equals 0\n",
      "5 mutiplies 1 equals 5\n",
      "5 mutiplies 2 equals 10\n",
      "5 mutiplies 3 equals 15\n",
      "5 mutiplies 4 equals 20\n",
      "5 mutiplies 5 equals 25\n",
      "5 mutiplies 6 equals 30\n",
      "5 mutiplies 7 equals 35\n",
      "5 mutiplies 8 equals 40\n",
      "6 mutiplies 0 equals 0\n",
      "6 mutiplies 1 equals 6\n",
      "6 mutiplies 2 equals 12\n",
      "6 mutiplies 3 equals 18\n",
      "6 mutiplies 4 equals 24\n",
      "6 mutiplies 5 equals 30\n",
      "6 mutiplies 6 equals 36\n",
      "6 mutiplies 7 equals 42\n",
      "6 mutiplies 8 equals 48\n",
      "7 mutiplies 0 equals 0\n",
      "7 mutiplies 1 equals 7\n",
      "7 mutiplies 2 equals 14\n",
      "7 mutiplies 3 equals 21\n",
      "7 mutiplies 4 equals 28\n",
      "7 mutiplies 5 equals 35\n",
      "7 mutiplies 6 equals 42\n",
      "7 mutiplies 7 equals 49\n",
      "7 mutiplies 8 equals 56\n",
      "8 mutiplies 0 equals 0\n",
      "8 mutiplies 1 equals 8\n",
      "8 mutiplies 2 equals 16\n",
      "8 mutiplies 3 equals 24\n",
      "8 mutiplies 4 equals 32\n",
      "8 mutiplies 5 equals 40\n",
      "8 mutiplies 6 equals 48\n",
      "8 mutiplies 7 equals 56\n",
      "8 mutiplies 8 equals 64\n"
     ]
    }
   ],
   "source": [
    "n=9\n",
    "j=int(input(\"enter an integer btwn 0 and 9\"))\n",
    "i=int(input(\"enter an integer btwn 0 and 9\"))\n",
    "for i in range (n):\n",
    "    for j in range(n):\n",
    "        print(\"{0} mutiplies {1} equals {2}\".format(i,j,i*j))"
   ]
  }
 ],
 "metadata": {
  "kernelspec": {
   "display_name": "Python 3",
   "language": "python",
   "name": "python3"
  },
  "language_info": {
   "codemirror_mode": {
    "name": "ipython",
    "version": 3
   },
   "file_extension": ".py",
   "mimetype": "text/x-python",
   "name": "python",
   "nbconvert_exporter": "python",
   "pygments_lexer": "ipython3",
   "version": "3.9.2"
  }
 },
 "nbformat": 4,
 "nbformat_minor": 5
}
