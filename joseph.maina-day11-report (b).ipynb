{
 "cells": [
  {
   "cell_type": "markdown",
   "id": "201f5fb1-797a-4996-90e1-8d1300d02ebd",
   "metadata": {},
   "source": [
    "# Exercise 17\n",
    "Exercise 17:\n",
    "Create a 3x3 matrix and multiply it element-wise by another 3x3 matrix."
   ]
  },
  {
   "cell_type": "code",
   "execution_count": 14,
   "id": "8a797a42-fbca-4ff3-88a4-b1089cb83e7f",
   "metadata": {},
   "outputs": [
    {
     "name": "stdout",
     "output_type": "stream",
     "text": [
      "[[6 4 7]\n",
      " [6 2 6]\n",
      " [5 1 3]]\n",
      "[[10 15  9]\n",
      " [ 6  4 17]\n",
      " [10  9  2]]\n",
      "[[ 60  60  63]\n",
      " [ 36   8 102]\n",
      " [ 50   9   6]]\n"
     ]
    }
   ],
   "source": [
    "import numpy as np\n",
    "d=np.random.randint(20,size=(3,3))\n",
    "s=np.random.randint(10,size=(3,3))\n",
    "print(s)\n",
    "print(d)\n",
    "print(np.multiply(d,s))\n"
   ]
  },
  {
   "cell_type": "markdown",
   "id": "ad1c24e8-21bb-41d5-9ddb-753cfa3d11cb",
   "metadata": {},
   "source": [
    "# Exercise 18:\n",
    "Create a diagonal matrix from a given 1D array.\n"
   ]
  },
  {
   "cell_type": "code",
   "execution_count": 29,
   "id": "95e4a925-8809-4d6f-81af-a91e6a55d9d6",
   "metadata": {},
   "outputs": [
    {
     "name": "stdout",
     "output_type": "stream",
     "text": [
      "[[1 0 0]\n",
      " [0 2 0]\n",
      " [0 0 3]]\n"
     ]
    }
   ],
   "source": [
    "D=np.array([1,2,3])\n",
    "A=np.diag(D)\n",
    "print(A)"
   ]
  },
  {
   "cell_type": "markdown",
   "id": "b80d1b56-594f-45ed-932e-4625e6104b43",
   "metadata": {},
   "source": [
    "# Exercise 19\n",
    "Perform matrix multiplication on two 2D NumPy arrays."
   ]
  },
  {
   "cell_type": "code",
   "execution_count": 46,
   "id": "091b45b5-6688-4473-9ee0-f3de2317e518",
   "metadata": {},
   "outputs": [
    {
     "name": "stdout",
     "output_type": "stream",
     "text": [
      "[[1 2]\n",
      " [0 1]]\n",
      "[[5 2]\n",
      " [2 2]]\n",
      "[[5 4]\n",
      " [0 2]]\n"
     ]
    }
   ],
   "source": [
    "f=np.random.randint(4,size=(2,2))\n",
    "g=np.random.randint(8,size=(2,2))\n",
    "print(f)\n",
    "print(g)\n",
    "mut=f*g\n",
    "#print(mut)\n",
    "print(np.multiply(f,g))"
   ]
  },
  {
   "cell_type": "markdown",
   "id": "91d812d4-b42b-4fea-bf3e-71e77bf68e85",
   "metadata": {},
   "source": [
    "# Exercise 20\n",
    "Flatten a 2D NumPy array into a 1D array."
   ]
  },
  {
   "cell_type": "code",
   "execution_count": 68,
   "id": "e05e9658-47e5-4073-b063-b2316a7562e7",
   "metadata": {},
   "outputs": [
    {
     "name": "stdout",
     "output_type": "stream",
     "text": [
      "[[0 2]\n",
      " [0 1]]\n",
      "[0 2 0 1]\n"
     ]
    }
   ],
   "source": [
    "a=np.random.randint(4,size=(2,2))\n",
    "print(a)\n",
    "ar=a.flatten()\n",
    "print(ar)"
   ]
  },
  {
   "cell_type": "markdown",
   "id": "d03dfb92-13f7-4691-8c9e-9dfdf6b12979",
   "metadata": {},
   "source": [
    "# Exercise 21:\n",
    "Stack two NumPy arrays vertically."
   ]
  },
  {
   "cell_type": "code",
   "execution_count": 84,
   "id": "d002c411-d595-4776-8515-c892403057d0",
   "metadata": {},
   "outputs": [
    {
     "name": "stdout",
     "output_type": "stream",
     "text": [
      "[[1 2 3]\n",
      " [3 4 5]]\n"
     ]
    }
   ],
   "source": [
    "array1=np.array([1,2,3])\n",
    "array2=np.array([3,4,5])\n",
    "#stac=np.hstack((array1,array2))\n",
    "stac2=np.vstack((array1,array2))\n",
    "print(stac2)"
   ]
  },
  {
   "cell_type": "markdown",
   "id": "6d4ee7b0-0dff-4353-a9e2-7c27119f9576",
   "metadata": {},
   "source": [
    "# Exercise 22:\n",
    "Stack two NumPy arrays horizontally."
   ]
  },
  {
   "cell_type": "code",
   "execution_count": 87,
   "id": "5402176e-d1a6-4949-9128-cc519771e657",
   "metadata": {},
   "outputs": [
    {
     "name": "stdout",
     "output_type": "stream",
     "text": [
      "[1 2 3 3 4 5]\n"
     ]
    }
   ],
   "source": [
    "array1=np.array([1,2,3])\n",
    "array2=np.array([3,4,5])\n",
    "stac=np.hstack((array1,array2))\n",
    "print(stac)"
   ]
  },
  {
   "cell_type": "markdown",
   "id": "21445031-7e63-46dc-8c46-5dbf3f8006ef",
   "metadata": {},
   "source": [
    "# Exercise 23:\n",
    "Split a NumPy array into multiple sub-arrays."
   ]
  },
  {
   "cell_type": "code",
   "execution_count": 112,
   "id": "1a8dbd0e-8ac0-4548-a30b-bb0ec4fe68b7",
   "metadata": {},
   "outputs": [
    {
     "name": "stdout",
     "output_type": "stream",
     "text": [
      "[array([0, 1, 2]), array([3, 4, 5]), array([6, 7, 8])]\n"
     ]
    }
   ],
   "source": [
    "n=np.arange(9)\n",
    "sub=np.array_split(n,3)\n",
    "print(sub)"
   ]
  },
  {
   "cell_type": "markdown",
   "id": "682f5b9d-2ec6-4ea8-b5fd-eca8a8f56a1d",
   "metadata": {},
   "source": [
    "# Exercise 24:\n",
    "Generate a random NumPy array and round each element to two decimal places."
   ]
  },
  {
   "cell_type": "code",
   "execution_count": 132,
   "id": "4ff279ab-e805-484c-b6e8-ed98cb7067db",
   "metadata": {},
   "outputs": [
    {
     "name": "stdout",
     "output_type": "stream",
     "text": [
      "[0.13 0.08 0.59 0.82 0.85 0.69 0.62 0.33 0.19 0.83]\n"
     ]
    }
   ],
   "source": [
    "dec=np.random.random(10)\n",
    "s=print(np.round(dec,2))"
   ]
  },
  {
   "cell_type": "markdown",
   "id": "ffd980d3-1bed-4687-b8d9-950d778fe241",
   "metadata": {},
   "source": [
    "# Exercise 25:\n",
    "Find the unique elements of a NumPy array."
   ]
  },
  {
   "cell_type": "code",
   "execution_count": 138,
   "id": "33c73510-1295-42e7-b965-72369c5d2cde",
   "metadata": {},
   "outputs": [
    {
     "name": "stdout",
     "output_type": "stream",
     "text": [
      "[0.13080087 0.0830632  0.58942973 0.82058574 0.84971328 0.68752853\n",
      " 0.62394085 0.32820548 0.19482824 0.83050848]\n",
      "[0.0830632  0.13080087 0.19482824 0.32820548 0.58942973 0.62394085\n",
      " 0.68752853 0.82058574 0.83050848 0.84971328]\n"
     ]
    }
   ],
   "source": [
    "print(dec)\n",
    "print(np.unique(dec))"
   ]
  },
  {
   "cell_type": "markdown",
   "id": "bbd36abd-5f5a-41d0-bef3-01e8841752a4",
   "metadata": {},
   "source": [
    "# Exercise 26:\n",
    "Replace all elements in a NumPy array that are less than a specific value \n",
    "with that value."
   ]
  },
  {
   "cell_type": "code",
   "execution_count": 151,
   "id": "41cd74d1-3588-4fd0-b2d5-272554f62033",
   "metadata": {},
   "outputs": [
    {
     "name": "stdout",
     "output_type": "stream",
     "text": [
      "[[1 2 4]\n",
      " [5 6 7]]\n",
      "---------------\n",
      "[[3 3 4]\n",
      " [5 6 7]]\n"
     ]
    }
   ],
   "source": [
    "array=np.array([[1,2,4],[5,6,7]])\n",
    "my_value=3\n",
    "print(array)\n",
    "print('---------------')\n",
    "array[array<my_value]=my_value\n",
    "print(array)"
   ]
  },
  {
   "cell_type": "markdown",
   "id": "6b7f1ec8-7641-41ec-8838-65b3f7b51661",
   "metadata": {},
   "source": [
    "# Exercise 27:\n",
    "Find the cumulative sum of the elements in a NumPy array."
   ]
  },
  {
   "cell_type": "code",
   "execution_count": 156,
   "id": "5baa98bf-1487-4c1e-bb49-03debb3c26a9",
   "metadata": {},
   "outputs": [
    {
     "data": {
      "text/plain": [
       "array([ 8,  9, 11])"
      ]
     },
     "execution_count": 156,
     "metadata": {},
     "output_type": "execute_result"
    }
   ],
   "source": [
    "np.sum(array,axis=0)"
   ]
  },
  {
   "cell_type": "markdown",
   "id": "40cfbdda-5b9a-487c-9c8d-b1601b98cfd6",
   "metadata": {},
   "source": [
    "# Exercise 28\n",
    "Create a NumPy array and find the number of non-zero elements in it."
   ]
  },
  {
   "cell_type": "code",
   "execution_count": 163,
   "id": "c19231e6-5238-44f1-9143-c8f9362a5b27",
   "metadata": {},
   "outputs": [
    {
     "name": "stdout",
     "output_type": "stream",
     "text": [
      "6\n"
     ]
    }
   ],
   "source": [
    "arr=np.array([[1,2,4,0],[1,0,5,8]])\n",
    "print(np.count_nonzero(arr))"
   ]
  },
  {
   "cell_type": "markdown",
   "id": "e7a66ca9-378d-4839-98fa-03df5b1af135",
   "metadata": {},
   "source": [
    "# Exercise 29:\n",
    "Create a NumPy array of random integers and sort it in ascending order."
   ]
  },
  {
   "cell_type": "code",
   "execution_count": 176,
   "id": "22c997e2-68b8-4aad-93a8-66c60ce1e3d7",
   "metadata": {},
   "outputs": [
    {
     "name": "stdout",
     "output_type": "stream",
     "text": [
      "[[13  4 19]\n",
      " [10  8  9]\n",
      " [14 11 14]]\n",
      "........................\n",
      "[[ 4 13 19]\n",
      " [ 8  9 10]\n",
      " [11 14 14]]\n"
     ]
    }
   ],
   "source": [
    "dfg=np.random.randint(20,size=(3,3))\n",
    "print(dfg)\n",
    "print(\"........................\")\n",
    "print(np.sort(dfg))"
   ]
  },
  {
   "cell_type": "code",
   "execution_count": 184,
   "id": "1e1c70f8-852a-4b57-9abe-dce955c2a055",
   "metadata": {},
   "outputs": [
    {
     "name": "stdout",
     "output_type": "stream",
     "text": [
      "[[11 14 14]\n",
      " [ 8  9 10]\n",
      " [ 4 13 19]]\n"
     ]
    }
   ],
   "source": [
    "h=np.sort(dfg)[::-1]\n",
    "print(h)"
   ]
  },
  {
   "cell_type": "markdown",
   "id": "9e8cc497-256e-426a-a7c0-ef047f01ddc0",
   "metadata": {},
   "source": [
    "# Exercise 30:\n",
    "Find the row-wise and column-wise sum of a 3x3 matrix."
   ]
  },
  {
   "cell_type": "code",
   "execution_count": 197,
   "id": "50385e6f-7991-4c06-bdf8-95d62aea3cba",
   "metadata": {},
   "outputs": [
    {
     "name": "stdout",
     "output_type": "stream",
     "text": [
      "[[18 13  7]\n",
      " [ 8  3 12]\n",
      " [ 0  6 19]]\n",
      "===================================\n",
      "[38 23 25]\n",
      "===================================\n",
      "[26 22 38]\n"
     ]
    }
   ],
   "source": [
    "rand=np.random.randint(20,size=(3,3))\n",
    "print(rand)\n",
    "print(\"===================================\")\n",
    "print(np.sum(rand,axis=1)) ## for row wise\n",
    "print(\"===================================\")\n",
    "print(np.sum(rand,axis=0))#column wise"
   ]
  },
  {
   "cell_type": "markdown",
   "id": "7f99ce00-6518-453c-b107-4cd815e46ead",
   "metadata": {},
   "source": [
    "# Exercise 31:\n",
    "Generate a 2D NumPy array with random values and \n",
    "normalize it (scale the values between 0 and 1)."
   ]
  },
  {
   "cell_type": "code",
   "execution_count": 208,
   "id": "26d20bff-b796-46b9-8be5-3018f5b4f7ca",
   "metadata": {},
   "outputs": [
    {
     "name": "stdout",
     "output_type": "stream",
     "text": [
      "[[3 2]\n",
      " [5 4]]\n",
      "[[0.33333333 0.        ]\n",
      " [1.         0.66666667]]\n"
     ]
    }
   ],
   "source": [
    "b=np.random.randint(7,size=(2,2))\n",
    "print(b)\n",
    "min_b=np.min(b)\n",
    "max_b=np.max(b)\n",
    "nom=(b-min_b)/(max_b-min_b)\n",
    "print(nom)\n"
   ]
  },
  {
   "cell_type": "code",
   "execution_count": null,
   "id": "4fe2996f-69d7-4db8-9bcd-01e2570704ef",
   "metadata": {},
   "outputs": [],
   "source": []
  },
  {
   "cell_type": "code",
   "execution_count": null,
   "id": "c9720112-cd6a-4ab1-bbb0-591343886f4f",
   "metadata": {},
   "outputs": [],
   "source": []
  }
 ],
 "metadata": {
  "kernelspec": {
   "display_name": "Python 3 (ipykernel)",
   "language": "python",
   "name": "python3"
  },
  "language_info": {
   "codemirror_mode": {
    "name": "ipython",
    "version": 3
   },
   "file_extension": ".py",
   "mimetype": "text/x-python",
   "name": "python",
   "nbconvert_exporter": "python",
   "pygments_lexer": "ipython3",
   "version": "3.9.19"
  }
 },
 "nbformat": 4,
 "nbformat_minor": 5
}
