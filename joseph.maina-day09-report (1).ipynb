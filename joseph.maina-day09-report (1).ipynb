{
 "cells": [
  {
   "cell_type": "markdown",
   "id": "8d3dc977-a246-4e0b-8ab9-4b972cfae576",
   "metadata": {},
   "source": [
    "### QUESTION 1"
   ]
  },
  {
   "cell_type": "code",
   "execution_count": 21,
   "id": "bebad49f",
   "metadata": {},
   "outputs": [
    {
     "name": "stdin",
     "output_type": "stream",
     "text": [
      "enter x: 1\n",
      "enter y: 2\n"
     ]
    },
    {
     "name": "stdout",
     "output_type": "stream",
     "text": [
      "the greater value is 2\n"
     ]
    }
   ],
   "source": [
    "x=int(input(\"enter x:\"))\n",
    "y=int(input(\"enter y:\"))\n",
    "\"\"\" this code finds a number that is greater\"\"\"\n",
    "def findmax():\n",
    "    if x>y:\n",
    "       print(f\"the less value is {x}\")\n",
    "    else:\n",
    "        print(f\"the greater value is {y}\")\n",
    "fun1()"
   ]
  },
  {
   "cell_type": "markdown",
   "id": "f90edb4a-5759-4d63-be35-40962a91ac27",
   "metadata": {},
   "source": [
    "### QUESTION 2"
   ]
  },
  {
   "cell_type": "code",
   "execution_count": 35,
   "id": "b69685f7-7e6c-41de-897e-fde27aa275db",
   "metadata": {},
   "outputs": [
    {
     "data": {
      "text/plain": [
       "3"
      ]
     },
     "execution_count": 35,
     "metadata": {},
     "output_type": "execute_result"
    }
   ],
   "source": [
    "\"\"\"finding a maximum among three numbers\"\"\"\n",
    "import math\n",
    "def max_of_three(a,b,c):\n",
    "    return max(a,b,c)\n",
    "max_of_three(1,2,3)\n"
   ]
  },
  {
   "cell_type": "markdown",
   "id": "294eac10-920e-4296-a6e0-25df120f1935",
   "metadata": {},
   "source": [
    "### QUESTION 3"
   ]
  },
  {
   "cell_type": "code",
   "execution_count": 80,
   "id": "2a6d55b0-2989-43ec-9a51-ed5c5222b1c7",
   "metadata": {},
   "outputs": [],
   "source": [
    "\n",
    "\"\"\"this function prints out a length of a list\"\"\"\n",
    "count=0\n",
    "def fun():\n",
    "name=[\"j\",\"m\",\"n\"]\n",
    "    for i in  name:\n",
    "        index=name[0]\n",
    "    print(f\"the length of{name} is:\")\n",
    "\n",
    "    \n",
    "    "
   ]
  },
  {
   "cell_type": "code",
   "execution_count": 98,
   "id": "05642672-4e62-4ef6-a97a-404c8bdf30bf",
   "metadata": {},
   "outputs": [
    {
     "data": {
      "text/plain": [
       "12"
      ]
     },
     "execution_count": 98,
     "metadata": {},
     "output_type": "execute_result"
    }
   ],
   "source": [
    "def string_length(s):\n",
    "    count = 0\n",
    "    for char in s:\n",
    "        count += 1\n",
    "    return count\n",
    "string_length(\"maina joseph\")"
   ]
  },
  {
   "cell_type": "markdown",
   "id": "ae678fa6-dcfa-418e-bd88-28fd7f944a62",
   "metadata": {},
   "source": [
    "### QUESTION 4"
   ]
  },
  {
   "cell_type": "code",
   "execution_count": 122,
   "id": "c18cd962-b63f-4519-a541-0d28b20d1d1e",
   "metadata": {},
   "outputs": [
    {
     "data": {
      "text/plain": [
       "True"
      ]
     },
     "execution_count": 122,
     "metadata": {},
     "output_type": "execute_result"
    }
   ],
   "source": [
    "\"\"\"this function checks if the vowels exist in a word or letter\"\"\"\n",
    "def is_vowel(v):\n",
    "    vowels='aeiouAEIOU'\n",
    "    return v in vowels\n",
    "is_vowel('a')\n",
    "    "
   ]
  },
  {
   "cell_type": "markdown",
   "id": "87fe7a6c-f09c-457d-b639-09abb531370d",
   "metadata": {},
   "source": [
    "##  Question 5"
   ]
  },
  {
   "cell_type": "code",
   "execution_count": 131,
   "id": "53cc729a-0a41-45d0-9d45-7c2c4eef1642",
   "metadata": {},
   "outputs": [
    {
     "name": "stdout",
     "output_type": "stream",
     "text": [
      "hohelollolo\n",
      "wowororloldod\n"
     ]
    }
   ],
   "source": [
    "def transform(input_string):\n",
    "    vowel_set = 'aeiouAEIOU'\n",
    "    transformed_string = ''\n",
    "    \n",
    "    for character in input_string:\n",
    "        if character.lower() not in vowel_set and character.isalpha():\n",
    "            transformed_string += character + 'o' + character.lower()\n",
    "        else:\n",
    "            transformed_string += character\n",
    "    \n",
    "    return transformed_string\n",
    "print(transform(\"hello\")) \n",
    "print(transform(\"world\")) "
   ]
  },
  {
   "cell_type": "markdown",
   "id": "209ac224-264e-4469-9842-0c92f5c2ad59",
   "metadata": {},
   "source": [
    "## Question 6"
   ]
  },
  {
   "cell_type": "code",
   "execution_count": 134,
   "id": "6ecba1d9-501b-4cc3-ae38-ca6249dae34b",
   "metadata": {},
   "outputs": [
    {
     "name": "stdout",
     "output_type": "stream",
     "text": [
      "10\n"
     ]
    }
   ],
   "source": [
    "\n",
    "def total_items(item_list):\n",
    "    return sum(item_list)\n",
    "\"\"\"this prints out a total in that list\"\"\"\n",
    "print(total_items([1, 2, 3, 4])) "
   ]
  },
  {
   "cell_type": "code",
   "execution_count": 141,
   "id": "518197d6-d3be-4683-a03e-40b1dc88278a",
   "metadata": {
    "scrolled": true
   },
   "outputs": [
    {
     "name": "stdout",
     "output_type": "stream",
     "text": [
      "10\n"
     ]
    }
   ],
   "source": [
    "list1=[1,2,3,4]\n",
    "def total_list(list1):\n",
    "    return sum(list1)\n",
    "print(total_list(list1))"
   ]
  },
  {
   "cell_type": "markdown",
   "id": "fbcb4bd9-1dfe-41e6-b1a0-bb5e80bb34e0",
   "metadata": {},
   "source": [
    "##### part b"
   ]
  },
  {
   "cell_type": "code",
   "execution_count": 144,
   "id": "d477ee69-eb78-43a5-bdf4-9fd9861fb68e",
   "metadata": {},
   "outputs": [],
   "source": [
    "item_list=[1,2,3,4]\n",
    "from functools import reduce\n",
    "def multiply_items(item_list):\n",
    "    return reduce(lambda first, second: first * second, item_list)\n",
    "print(mutiply_items())"
   ]
  },
  {
   "cell_type": "markdown",
   "id": "4c8a4e08-6648-4364-bd1e-7a4540c62214",
   "metadata": {},
   "source": [
    "## Question 7"
   ]
  },
  {
   "cell_type": "code",
   "execution_count": null,
   "id": "6812b08c-63a0-4eaa-bfeb-e79683c2cbd6",
   "metadata": {},
   "outputs": [],
   "source": [
    "def isPalindrome(string): \n",
    "    if (string == string[::-1]) : \n",
    "        return \"The string is a palindrome.\" \n",
    "    else: \n",
    "        return \"The string is not a palindrome.\" \n",
    " \n",
    "#Enter input string \n",
    "string = input (\"Enter string: \") \n",
    " \n",
    "print(isPalindrome(string))\n",
    "\n",
    "    "
   ]
  },
  {
   "cell_type": "code",
   "execution_count": 20,
   "id": "0cc55006-2b4d-40ed-9ca3-d8346a41b79e",
   "metadata": {},
   "outputs": [
    {
     "name": "stdin",
     "output_type": "stream",
     "text": [
      "enter a string ghf\n"
     ]
    },
    {
     "name": "stdout",
     "output_type": "stream",
     "text": [
      "this is a palidrome string\n"
     ]
    }
   ],
   "source": [
    "def isPalindrome(string):\n",
    "    if (string ==string[::1]):\n",
    "        return \"this is a palidrome string\"\n",
    "    else:\n",
    "        return \"its not a palidrome\"\n",
    "string=input(\"enter a string\")\n",
    "print(isPalindrome(string))"
   ]
  },
  {
   "cell_type": "code",
   "execution_count": 115,
   "id": "ac77fb19-689c-4525-8b81-c72bf327c7d9",
   "metadata": {},
   "outputs": [
    {
     "name": "stdout",
     "output_type": "stream",
     "text": [
      "this is a reverse of my name\n"
     ]
    }
   ],
   "source": [
    "def ispal(my_name):\n",
    "    if (my_name ==my_name[::1]):\n",
    "        return \"this is a reverse of my name\"\n",
    "    else:\n",
    "        return \"this is my name\"\n",
    "my_name=\"jhjk\"\n",
    "print(ispal(my_name))"
   ]
  },
  {
   "cell_type": "markdown",
   "id": "e6b19446-12ba-4e5a-b393-49e3d4f834f5",
   "metadata": {},
   "source": [
    "## Question 8"
   ]
  },
  {
   "cell_type": "code",
   "execution_count": 93,
   "id": "3185175d-96b5-4a02-9daa-7c053a0bec77",
   "metadata": {},
   "outputs": [
    {
     "data": {
      "text/plain": [
       "'i belong in list'"
      ]
     },
     "execution_count": 93,
     "metadata": {},
     "output_type": "execute_result"
    }
   ],
   "source": [
    "list=[\"g\",\"f\",\"i\",\"p\",\"k\"]\n",
    "\"\"\"this checks if a charcater or letter belongs in list\"\"\"\n",
    "def check_membership1(list):\n",
    "    check=\"j\" \n",
    "    if check in list:\n",
    "        return\"i belong in list\"\n",
    "    else:\n",
    "        return \"dont belong in list\"\n",
    "check_membership1(\"j\")"
   ]
  },
  {
   "cell_type": "code",
   "execution_count": 95,
   "id": "4c4dc5ee-0a88-4fce-b902-b67b31e73116",
   "metadata": {},
   "outputs": [
    {
     "data": {
      "text/plain": [
       "'i dont belong in the laptop types here'"
      ]
     },
     "execution_count": 95,
     "metadata": {},
     "output_type": "execute_result"
    }
   ],
   "source": [
    "char=[\"dell\",\"hp\",\"samsung\",\"apple\"]\n",
    "def check_laptop(list):\n",
    "    look_for=\"nokia\"\n",
    "    if look_for in char:\n",
    "        return \"i belong to the list of laptops here\"\n",
    "    else:\n",
    "        return\"i dont belong in the laptop types here\"\n",
    "check_laptop(\"nokia\")"
   ]
  },
  {
   "cell_type": "markdown",
   "id": "affa5423-dd2e-4532-9cde-c7eb212c7bbc",
   "metadata": {},
   "source": [
    "### Question 9 : Write check_overlap() to identify if two lists share any elements."
   ]
  },
  {
   "cell_type": "code",
   "execution_count": 128,
   "id": "0a1383db-0292-4100-b215-5ee706a7c955",
   "metadata": {},
   "outputs": [
    {
     "data": {
      "text/plain": [
       "' we share a common number'"
      ]
     },
     "execution_count": 128,
     "metadata": {},
     "output_type": "execute_result"
    }
   ],
   "source": [
    "list1=[1,2,3,4,5,6]\n",
    "list2=[1,7,8,9]\n",
    "def check_overlap():\n",
    "    for i in list1:\n",
    "        if i in list2:\n",
    "            return \" we share a common number\"\n",
    "        else:\n",
    "            return\" we dont share any common number\"\n",
    "check_overlap() "
   ]
  },
  {
   "cell_type": "markdown",
   "id": "cb997d6d-553c-4fa6-beff-afaf38a443a8",
   "metadata": {},
   "source": [
    "### Question 10: Implement repeat_char() that generates a string\n",
    "### with a specified character repeated n times."
   ]
  },
  {
   "cell_type": "markdown",
   "id": "7ab2998b-c9e5-43cb-a54b-52a780ec28e8",
   "metadata": {},
   "source": [
    "## Importing Modules"
   ]
  },
  {
   "cell_type": "code",
   "execution_count": 141,
   "id": "b70a5d9e-e18e-4fe0-81e3-cf51a47da6ed",
   "metadata": {},
   "outputs": [
    {
     "name": "stdout",
     "output_type": "stream",
     "text": [
      "Hello, Alice!\n",
      "12\n"
     ]
    }
   ],
   "source": [
    "import mymodule\n",
    "print(mymodule.greet(\"Alice\"))  # Output: Hello, Alice!\n",
    "print(mymodule.add(5, 7)) \n"
   ]
  },
  {
   "cell_type": "code",
   "execution_count": 7,
   "id": "48eef698-8622-4171-a1c6-cb8f977fc404",
   "metadata": {},
   "outputs": [
    {
     "name": "stdout",
     "output_type": "stream",
     "text": [
      "Hello, joseph!\n",
      "96\n"
     ]
    }
   ],
   "source": [
    "import mymodule\n",
    "print(mymodule.greet(\"joseph\"))  # Output: Hello, Alice!\n",
    "print(mymodule.add(89, 7)) "
   ]
  },
  {
   "cell_type": "code",
   "execution_count": 17,
   "id": "8e420a4a-3703-49dd-b959-030417c67c66",
   "metadata": {},
   "outputs": [
    {
     "name": "stdout",
     "output_type": "stream",
     "text": [
      "cube of 1 = 1 cube of 2 = 8 cube of 3 = 27 "
     ]
    }
   ],
   "source": [
    "from cube1_m import cube\n",
    "for i in range(1, 4):\n",
    "    print(\"cube of\", i, \"=\", cube(i), end=\" \")\n"
   ]
  },
  {
   "cell_type": "code",
   "execution_count": 19,
   "id": "2cabbf82-37b6-443d-af11-dbf7c1ad7019",
   "metadata": {},
   "outputs": [
    {
     "name": "stdout",
     "output_type": "stream",
     "text": [
      "cube of 1 = 1 cube of 2 = 8 cube of 3 = 27 "
     ]
    }
   ],
   "source": [
    "from cube1_m import cube\n",
    "\n",
    "for i in range(1, 4):\n",
    "    print(\"cube of\", i, \"=\", cube(i), end=\" \")"
   ]
  },
  {
   "cell_type": "code",
   "execution_count": 28,
   "id": "7a094c16-0e6b-4697-b01f-c7a97c20646a",
   "metadata": {
    "scrolled": true
   },
   "outputs": [
    {
     "name": "stdout",
     "output_type": "stream",
     "text": [
      "cube of 2 = 8\n",
      "cube of 3 = 27\n",
      "cube of 4 = 64\n",
      "cube of 5 = 125\n",
      "cube of 6 = 216\n",
      "cube of 7 = 343\n"
     ]
    }
   ],
   "source": [
    "from cube1_m import cube\n",
    "for i in range(2,8):\n",
    "    print(\"cube of\",i,\"=\",cube(i))"
   ]
  },
  {
   "cell_type": "code",
   "execution_count": null,
   "id": "e8c7d6fa-dcc3-4069-86d1-b693dfca4aed",
   "metadata": {},
   "outputs": [],
   "source": []
  }
 ],
 "metadata": {
  "kernelspec": {
   "display_name": "Python 3 (ipykernel)",
   "language": "python",
   "name": "python3"
  },
  "language_info": {
   "codemirror_mode": {
    "name": "ipython",
    "version": 3
   },
   "file_extension": ".py",
   "mimetype": "text/x-python",
   "name": "python",
   "nbconvert_exporter": "python",
   "pygments_lexer": "ipython3",
   "version": "3.9.19"
  }
 },
 "nbformat": 4,
 "nbformat_minor": 5
}
