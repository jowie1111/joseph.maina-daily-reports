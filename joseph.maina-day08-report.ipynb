{
 "cells": [
  {
   "cell_type": "markdown",
   "id": "8d3dc977-a246-4e0b-8ab9-4b972cfae576",
   "metadata": {},
   "source": [
    "### QUESTION 1"
   ]
  },
  {
   "cell_type": "code",
   "execution_count": 21,
   "id": "bebad49f",
   "metadata": {},
   "outputs": [
    {
     "name": "stdin",
     "output_type": "stream",
     "text": [
      "enter x: 1\n",
      "enter y: 2\n"
     ]
    },
    {
     "name": "stdout",
     "output_type": "stream",
     "text": [
      "the greater value is 2\n"
     ]
    }
   ],
   "source": [
    "x=int(input(\"enter x:\"))\n",
    "y=int(input(\"enter y:\"))\n",
    "\"\"\" this code finds a number that is greater\"\"\"\n",
    "def findmax():\n",
    "    if x>y:\n",
    "       print(f\"the less value is {x}\")\n",
    "    else:\n",
    "        print(f\"the greater value is {y}\")\n",
    "fun1()"
   ]
  },
  {
   "cell_type": "markdown",
   "id": "f90edb4a-5759-4d63-be35-40962a91ac27",
   "metadata": {},
   "source": [
    "### QUESTION 2"
   ]
  },
  {
   "cell_type": "code",
   "execution_count": 35,
   "id": "b69685f7-7e6c-41de-897e-fde27aa275db",
   "metadata": {},
   "outputs": [
    {
     "data": {
      "text/plain": [
       "3"
      ]
     },
     "execution_count": 35,
     "metadata": {},
     "output_type": "execute_result"
    }
   ],
   "source": [
    "\"\"\"finding a maximum among three numbers\"\"\"\n",
    "import math\n",
    "def max_of_three(a,b,c):\n",
    "    return max(a,b,c)\n",
    "max_of_three(1,2,3)\n"
   ]
  },
  {
   "cell_type": "markdown",
   "id": "294eac10-920e-4296-a6e0-25df120f1935",
   "metadata": {},
   "source": [
    "### QUESTION 3"
   ]
  },
  {
   "cell_type": "code",
   "execution_count": 80,
   "id": "2a6d55b0-2989-43ec-9a51-ed5c5222b1c7",
   "metadata": {},
   "outputs": [],
   "source": [
    "\n",
    "\"\"\"this function prints out a length of a list\"\"\"\n",
    "count=0\n",
    "def fun():\n",
    "name=[\"j\",\"m\",\"n\"]\n",
    "    for i in  name:\n",
    "        index=name[0]\n",
    "    print(f\"the length of{name} is:\")\n",
    "\n",
    "    \n",
    "    "
   ]
  },
  {
   "cell_type": "code",
   "execution_count": 98,
   "id": "05642672-4e62-4ef6-a97a-404c8bdf30bf",
   "metadata": {},
   "outputs": [
    {
     "data": {
      "text/plain": [
       "12"
      ]
     },
     "execution_count": 98,
     "metadata": {},
     "output_type": "execute_result"
    }
   ],
   "source": [
    "def string_length(s):\n",
    "    count = 0\n",
    "    for char in s:\n",
    "        count += 1\n",
    "    return count\n",
    "string_length(\"maina joseph\")"
   ]
  },
  {
   "cell_type": "markdown",
   "id": "ae678fa6-dcfa-418e-bd88-28fd7f944a62",
   "metadata": {},
   "source": [
    "### QUESTION 4"
   ]
  },
  {
   "cell_type": "code",
   "execution_count": 122,
   "id": "c18cd962-b63f-4519-a541-0d28b20d1d1e",
   "metadata": {},
   "outputs": [
    {
     "data": {
      "text/plain": [
       "True"
      ]
     },
     "execution_count": 122,
     "metadata": {},
     "output_type": "execute_result"
    }
   ],
   "source": [
    "\"\"\"this function checks if the vowels exist in a word or letter\"\"\"\n",
    "def is_vowel(v):\n",
    "    vowels='aeiouAEIOU'\n",
    "    return v in vowels\n",
    "is_vowel('a')\n",
    "    "
   ]
  },
  {
   "cell_type": "markdown",
   "id": "87fe7a6c-f09c-457d-b639-09abb531370d",
   "metadata": {},
   "source": [
    "##  Question 5"
   ]
  },
  {
   "cell_type": "code",
   "execution_count": 131,
   "id": "53cc729a-0a41-45d0-9d45-7c2c4eef1642",
   "metadata": {},
   "outputs": [
    {
     "name": "stdout",
     "output_type": "stream",
     "text": [
      "hohelollolo\n",
      "wowororloldod\n"
     ]
    }
   ],
   "source": [
    "def transform(input_string):\n",
    "    vowel_set = 'aeiouAEIOU'\n",
    "    transformed_string = ''\n",
    "    \n",
    "    for character in input_string:\n",
    "        if character.lower() not in vowel_set and character.isalpha():\n",
    "            transformed_string += character + 'o' + character.lower()\n",
    "        else:\n",
    "            transformed_string += character\n",
    "    \n",
    "    return transformed_string\n",
    "print(transform(\"hello\")) \n",
    "print(transform(\"world\")) "
   ]
  },
  {
   "cell_type": "markdown",
   "id": "209ac224-264e-4469-9842-0c92f5c2ad59",
   "metadata": {},
   "source": [
    "## Question 6"
   ]
  },
  {
   "cell_type": "code",
   "execution_count": 134,
   "id": "6ecba1d9-501b-4cc3-ae38-ca6249dae34b",
   "metadata": {},
   "outputs": [
    {
     "name": "stdout",
     "output_type": "stream",
     "text": [
      "10\n"
     ]
    }
   ],
   "source": [
    "\n",
    "def total_items(item_list):\n",
    "    return sum(item_list)\n",
    "\"\"\"this prints out a total in that list\"\"\"\n",
    "print(total_items([1, 2, 3, 4])) "
   ]
  },
  {
   "cell_type": "code",
   "execution_count": 141,
   "id": "518197d6-d3be-4683-a03e-40b1dc88278a",
   "metadata": {
    "scrolled": true
   },
   "outputs": [
    {
     "name": "stdout",
     "output_type": "stream",
     "text": [
      "10\n"
     ]
    }
   ],
   "source": [
    "list1=[1,2,3,4]\n",
    "def total_list(list1):\n",
    "    return sum(list1)\n",
    "print(total_list(list1))"
   ]
  },
  {
   "cell_type": "markdown",
   "id": "fbcb4bd9-1dfe-41e6-b1a0-bb5e80bb34e0",
   "metadata": {},
   "source": [
    "##### part b"
   ]
  },
  {
   "cell_type": "code",
   "execution_count": 144,
   "id": "d477ee69-eb78-43a5-bdf4-9fd9861fb68e",
   "metadata": {},
   "outputs": [],
   "source": [
    "item_list=[1,2,3,4]\n",
    "from functools import reduce\n",
    "def multiply_items(item_list):\n",
    "    return reduce(lambda first, second: first * second, item_list)\n",
    "print(mutiply_items())"
   ]
  }
 ],
 "metadata": {
  "kernelspec": {
   "display_name": "Python 3 (ipykernel)",
   "language": "python",
   "name": "python3"
  },
  "language_info": {
   "codemirror_mode": {
    "name": "ipython",
    "version": 3
   },
   "file_extension": ".py",
   "mimetype": "text/x-python",
   "name": "python",
   "nbconvert_exporter": "python",
   "pygments_lexer": "ipython3",
   "version": "3.9.19"
  }
 },
 "nbformat": 4,
 "nbformat_minor": 5
}
