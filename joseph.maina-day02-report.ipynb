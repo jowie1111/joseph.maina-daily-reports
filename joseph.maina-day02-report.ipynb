{
 "cells": [
  {
   "cell_type": "code",
   "execution_count": null,
   "metadata": {},
   "outputs": [],
   "source": [
    "****\n",
    "\n",
    "# <center> <b> <span style=\"color:orange;\"> Python Proficiency for Scientific Computing and Data Science (PyPro-SCiDaS)  </span> </b></center>\n",
    "\n",
    "### <center> <b> <span style=\"color:green;\">An Initiation to Programming using Python (Init2Py) </span> </b></center>\n",
    "    \n"
   ]
  },
  {
   "cell_type": "markdown",
   "metadata": {},
   "source": [
    "****\n",
    "\n",
    "# <center> <b> <span style=\"color:blue;\">Lecture 2: Strings & Files</span> </b></center>\n",
    "\n",
    "<!--NAVIGATION-->\n",
    "<  [1.Variables and assignements](01.Lecture01.ipynb)| [ToC](Index.ipynb) |  [3.Iterables or containers](03.Lecture03.ipynb)>\n",
    "\n",
    "****"
   ]
  },
  {
   "cell_type": "markdown",
   "metadata": {},
   "source": [
    "### <left> <b> <span style=\"color:brown;\">Instructeur : </span> </b></left>[Yaé Ulrich Gaba](https://github.com/gabayae)\n",
    "\n",
    "> **Summary:** This lecture aims to present `strings`, reviewing some of the most commonly encountered operations, particularly in text processing tasks. We will also examine the string class in greater detail, including how to use the `open()` function to open, read, and write to `files`.\n",
    "\n",
    "****\n",
    "\n",
    "\n"
   ]
  },
  {
   "cell_type": "markdown",
   "metadata": {},
   "source": [
    "## 0. Introduction\n",
    "\n",
    "\n",
    "\n",
    "Strings in Python are not merely standalone objects; rather, they are sequences of characters that represent text data. Similar to numerical data types, which consist of sequences of digits, strings consist of sequences of characters. These sequences are fundamental in Python programming, as they are often used to construct and manipulate more complex data structures like lists, tuples, and dictionaries.\n",
    "\n",
    "Python treats strings as immutable sequences, meaning that once a string is created, its contents cannot be changed. However, various operations can be performed on strings to generate new strings or extract specific information. These operations include concatenation, slicing, formatting, and various methods for searching and transforming the text. Understanding how to effectively manipulate strings is crucial, as strings are one of the most commonly used data types in Python, especially in tasks involving data processing, file handling, and user input.\n",
    "\n",
    "Moreover, strings serve as the foundation for more advanced objects and data structures. For instance, strings can be used to represent elements within lists or tuples, and they play a critical role in tasks ranging from basic text processing to complex data analysis. As we delve deeper into Python, we will explore the extensive functionality provided by string operations and how they integrate with other Python data types.\n",
    "\n",
    "In addition to handling strings, Python provides robust support for working with files, which is essential for tasks like reading input data, storing output, or simply managing data over the course of a program's execution. Python uses the `open()` function to handle files, allowing you to open, read, write, and close them efficiently. \n",
    "\n",
    "The `open()` function is versatile, enabling you to open a file in various modes, such as reading ('r'), writing ('w'), appending ('a'), or even reading and writing in binary mode ('rb', 'wb'). Once a file is opened, you can perform operations like reading the entire file content into a string, reading it line by line, or writing data back into the file. After completing these operations, it is important to close the file using the `close()` method to free up system resources and ensure data integrity.\n",
    "\n",
    "Understanding how to work with files in Python is critical, especially when dealing with real-world data that often needs to be read from or written to external files. This capability, combined with string manipulation techniques, forms the backbone of many Python programs, enabling efficient data processing, storage, and retrieval.\n"
   ]
  },
  {
   "cell_type": "markdown",
   "metadata": {},
   "source": [
    "## 1. Strings\n",
    "\n",
    "### 1.0. Definition of a string variable\n",
    "\n",
    "A string variable is defined in the traditional manner by direct assignment using the equality symbol (as discussed in the section on variable creation). The only distinction between string variables and numerical variables is that the values of string variables must be enclosed in quotation marks during assignment. The three examples below illustrate this."
   ]
  },
  {
   "cell_type": "code",
   "execution_count": 14,
   "metadata": {},
   "outputs": [
    {
     "name": "stdout",
     "output_type": "stream",
     "text": [
      "Will you be at the meeting tonight?\n",
      "================================================\n",
      "\t\n",
      "\"Yes,\" he replies.\n",
      "================================================\n",
      "\t\n",
      "Alright, I would appreciate it.\n",
      "================================================\n",
      "\t\n",
      "This sentence is a long string containing all types of quotes: \" ' « » as well as many special characters.\n"
     ]
    }
   ],
   "source": [
    "ch1 = 'Will you be at the meeting tonight?'\n",
    "ch2 = '\"Yes,\" he replies.'\n",
    "ch3 = \"Alright, I would appreciate it.\"\n",
    "ch4 = \"\"\"This sentence is a long string containing all types of quotes: \" ' « » as well as many special characters.\"\"\"\n",
    "\n",
    "print(ch1)\n",
    "print(\"================================================\")\n",
    "print('\\t')\n",
    "\n",
    "print(ch2)\n",
    "print(\"================================================\")\n",
    "print('\\t')\n",
    "\n",
    "print(ch3)\n",
    "print(\"================================================\")\n",
    "print('\\t')\n",
    "\n",
    "print(ch4)\n"
   ]
  },
  {
   "cell_type": "code",
   "execution_count": 32,
   "metadata": {},
   "outputs": [
    {
     "name": "stdout",
     "output_type": "stream",
     "text": [
      "i will love to study math because its nice anyways\n"
     ]
    }
   ],
   "source": [
    "my_char= 'i will love to study math'\n",
    "my_char1=\"because its nice\"\n",
    "my_char2=\"anyways\"\n",
    "print(my_char +\" \"+my_char1 +\" \"+my_char2)"
   ]
  },
  {
   "cell_type": "code",
   "execution_count": null,
   "metadata": {},
   "outputs": [],
   "source": [
    "x=\"\""
   ]
  },
  {
   "cell_type": "markdown",
   "metadata": {},
   "source": [
    "These four examples demonstrate different uses of quotation marks when defining a string variable.\n",
    "\n",
    "- In the first example (`ch1`), single quotes are used because there is no issue with the string specified. Double quotes could also be used.\n",
    "- In the second example (`ch2`), single quotes are used because the specified string already contains double quotes as values.\n",
    "- In the third example (`ch3`), double quotes are used because the text contains apostrophes, which are actually single quotes.\n",
    "- In the fourth example (`ch4`), triple quotes are used because the text contains not only single quotes, apostrophes, and double quotes but also spans multiple lines. In this case, triple quotes are necessary."
   ]
  },
  {
   "cell_type": "markdown",
   "metadata": {},
   "source": [
    "### 1.1. Indexing strings and slicing\n",
    "\n",
    "A string is a sequence of ordered and indexed values. This means you can access each element in the sequence by specifying its index, similar to lists. Portions of a string can also be extracted using slices, with the general notation `[start=0]:[stop=len][:step=1]`. Indexing in Python starts at 0: the 1st element of a list is at index 0, the 2nd is at index 1, and so on. Thus, the n elements of a list are indexed from *0* to *n-1*. The examples below illustrate this.\n",
    "\n",
    "\n",
    "**Indexing:**\n",
    "\n",
    "To access a specific character in a string, you use the index inside square brackets. For example:\n",
    "- `ch[0]` returns the first character of the string `ch`.\n",
    "- `ch[2]` returns the third character.\n",
    "- `ch[-1]` returns the last character of the string.\n",
    "\n",
    "**Slicing:**\n",
    "\n",
    "Slicing allows you to extract a portion of the string. The syntax for slicing is `[start:stop:step]`, where:\n",
    "- `start` is the index of the first character you want to include in the slice.\n",
    "- `stop` is the index of the character just after the last character you want to include.\n",
    "- `step` specifies the interval between characters in the slice (optional; default is 1).\n",
    "\n",
    "Examples of slicing:\n",
    "- `ch[:6]` returns a substring from the beginning of `ch` up to, but not including, index 6.\n",
    "- `ch[6:]` returns a substring from index 6 to the end of the string.\n",
    "- `ch[0:10:2]` returns every second character from index 0 to 10.\n",
    "\n",
    "**Examples:**\n",
    "\n",
    "```python\n",
    "ch = \"Christelle\"\n",
    "print(ch[0])    # Returns 'C'\n",
    "print(ch[2])    # Returns 'r'\n",
    "print(ch[-1])   # Returns 'e', the last character\n",
    "print(ch[:6])   # Returns 'Christ'\n",
    "print(ch[6:])   # Returns 'elle'\n",
    "print(ch[0:10:2]) # Returns 'Crsel'\n",
    "```\n",
    "\n",
    "These operations make it easy to manipulate and extract data from strings, which is crucial for text processing and data manipulation in Python.\n",
    "\n",
    "---"
   ]
  },
  {
   "cell_type": "code",
   "execution_count": 1,
   "metadata": {},
   "outputs": [
    {
     "name": "stdout",
     "output_type": "stream",
     "text": [
      "C\n",
      "r\n",
      "e\n",
      "Christ\n",
      "elle\n",
      "Crsel\n"
     ]
    }
   ],
   "source": [
    "ch=\"Christelle\"\n",
    "print(ch[0]) # returns 'C'\n",
    "print(ch[2]) # returns 'r'\n",
    "print(ch[-1]) # returns 'e', the last element of ch\n",
    "print(ch[:6]) # returns 'Christ'\n",
    "print(ch[6 :]) # returns 'elle'\n",
    "print(ch[0:10:2]) # returns 'Crsel'"
   ]
  },
  {
   "cell_type": "markdown",
   "metadata": {},
   "source": [
    "The elements of a string are not defined by words separated by spaces but by the characters that make up the string. In fact, even if the string consists of a sentence with multiple words, indexing is done solely based on the individual characters that form the entire string."
   ]
  },
  {
   "cell_type": "markdown",
   "metadata": {},
   "source": [
    "<left> <b> <span style=\"color:brown;\">You can manipulate a string (and generally any sequence) using functions (procedural concept) or methods (object-oriented concept). We will discuss this further below.</span> </b></left>"
   ]
  },
  {
   "cell_type": "markdown",
   "metadata": {},
   "source": [
    "### 1.2.  Length of a string**\n",
    "\n",
    "To determine the length of a string, the `len()` function is used."
   ]
  },
  {
   "cell_type": "code",
   "execution_count": null,
   "metadata": {},
   "outputs": [],
   "source": [
    "ch = \"Ceci est une chaîne de plusieurs mots\"\n",
    "print(len(ch))  # returns 37; The string 'ch' consists of 37 characters, including spaces."
   ]
  },
  {
   "cell_type": "markdown",
   "metadata": {},
   "source": [
    "### 1.3. Addition of strings (**Concatenation**)\n",
    "\n",
    "String addition refers to the process of placing strings together, one after the other, to form a single string. This operation is known as **concatenation**. To perform concatenation, the `+` symbol is used between the string variable names. The resulting string is then assigned to a new variable. Examples:\n",
    "\n",
    "```python\n",
    "str1 = \"Hello\"\n",
    "str2 = \"World\"\n",
    "result = str1 + \" \" + str2  # Concatenates 'Hello' and 'World' with a space in between\n",
    "print(result)  # Outputs: Hello World\n",
    "```"
   ]
  },
  {
   "cell_type": "code",
   "execution_count": 21,
   "metadata": {},
   "outputs": [
    {
     "name": "stdout",
     "output_type": "stream",
     "text": [
      "Un petit pas pour l'homme, un grand pas pour l'humanité\n"
     ]
    }
   ],
   "source": [
    "x = \"Un petit pas pour l'homme,\"\n",
    "y = \"un grand pas pour l'humanité\"\n",
    "z = x+\" \"+y  # Concatenates the two strings with a space in between\n",
    "print(z)  # Outputs: 'Un petit pas pour l'homme, un grand pas pour l'humanité'\n"
   ]
  },
  {
   "cell_type": "markdown",
   "metadata": {},
   "source": [
    "Be cautious when using the concatenation operator to combine a numeric value with a string to form a single string. For example:\n",
    "\n",
    "```python\n",
    "x = 'Le prix du stylo est'\n",
    "y = 5\n",
    "z = 'euros'\n",
    "```\n",
    "\n",
    "If you want to concatenate `x`, `y`, and `z` to obtain the sentence 'Le prix du stylo est 5 euros', you can't directly do `x + y + z` because `y` is a numeric type. You need to first convert `y` to a string using the `str()` function. Here's how it should be done:\n",
    "\n",
    "```python\n",
    "result = x + \" \" + str(y) + \" \" + z\n",
    "print(result)  # Outputs: 'Le prix du stylo est 5 euros'\n",
    "```"
   ]
  },
  {
   "cell_type": "code",
   "execution_count": null,
   "metadata": {},
   "outputs": [],
   "source": [
    "x = 'Le prix du stylo est'\n",
    "y = 5\n",
    "z = 'euros'\n",
    "ch = x + \" \" + \" \" + str(y) + \" \" + z\n",
    "print(ch) # returns 'Le prix du stylo est5euros'"
   ]
  },
  {
   "cell_type": "code",
   "execution_count": 33,
   "metadata": {},
   "outputs": [
    {
     "name": "stdout",
     "output_type": "stream",
     "text": [
      "he is so tall 7\n"
     ]
    }
   ],
   "source": [
    "Y=\"he is so tall\"\n",
    "x=7\n",
    "CH=Y +\" \"+str(x)\n",
    "print(CH)"
   ]
  },
  {
   "cell_type": "markdown",
   "metadata": {},
   "source": [
    "### 1.4.  Methods\n",
    "\n",
    "Strings come with [numerous features](https://docs.python.org/2/library/stdtypes.html#string-methods)—referred to as `methods` in Object-Oriented Programming (OOP)—that facilitate their manipulation. The `dir()` function lists all available methods for strings. Among these, the most commonly used are `upper()`, `lower()`, `capitalize()`, `find()`, `replace()`, `count()`, `startswith()`, `endswith()`, and the `in` keyword. \n",
    "\n",
    "These methods allow for operations such as converting text to different cases, searching for and replacing substrings, and checking string content for specific patterns. They are crucial for text processing and data manipulation tasks, enabling efficient handling and transformation of string data. Understanding and utilizing these methods effectively can greatly enhance the capability to work with and analyze text-based information in Python."
   ]
  },
  {
   "cell_type": "code",
   "execution_count": 34,
   "metadata": {},
   "outputs": [
    {
     "name": "stdout",
     "output_type": "stream",
     "text": [
      "Help on built-in function replace:\n",
      "\n",
      "replace(old, new, count=-1, /) method of builtins.str instance\n",
      "    Return a copy with all occurrences of substring old replaced by new.\n",
      "    \n",
      "      count\n",
      "        Maximum number of occurrences to replace.\n",
      "        -1 (the default value) means replace all occurrences.\n",
      "    \n",
      "    If the optional argument count is given, only the first count occurrences are\n",
      "    replaced.\n",
      "\n"
     ]
    }
   ],
   "source": [
    "title = \"Python course\"\n",
    "help(title.replace)"
   ]
  },
  {
   "cell_type": "code",
   "execution_count": 37,
   "metadata": {},
   "outputs": [
    {
     "ename": "SyntaxError",
     "evalue": "invalid syntax (1822263971.py, line 13)",
     "output_type": "error",
     "traceback": [
      "\u001b[1;36m  File \u001b[1;32m\"C:\\Users\\User\\AppData\\Local\\Temp\\ipykernel_8288\\1822263971.py\"\u001b[1;36m, line \u001b[1;32m13\u001b[0m\n\u001b[1;33m    print(\"================================================\")\u001b[0m\n\u001b[1;37m    ^\u001b[0m\n\u001b[1;31mSyntaxError\u001b[0m\u001b[1;31m:\u001b[0m invalid syntax\n"
     ]
    }
   ],
   "source": [
    "enfant, peluche = \"Calvin\", 'Hobbes'  # Multiple assignment\n",
    "\n",
    "titre = enfant + ' et ' + peluche  # +: String concatenation\n",
    "print(titre)\n",
    "print(\"================================================\")\n",
    "print('\\t')\n",
    "\n",
    "print(titre.replace('et', '&'))  # Substring replacement: 'Calvin & Hobbes'\n",
    "print(\"================================================\")\n",
    "print('\\t')\n",
    "\n",
    "print(' & '.join(titre.split(' et'))  # Splitting and joining\n",
    "print(\"================================================\")\n",
    "print('\\t')\n",
    "\n",
    "print('Hobbes' in titre)  # in: Inclusion test\n",
    "print(\"================================================\")\n",
    "print('\\t')\n",
    "\n",
    "print(titre.find(\"Hobbes\"))  # str.find: Substring search\n",
    "\n",
    "print(titre.center(30, '-'))  # '-------Calvin et Hobbes-------'\n",
    "\n",
    "dir(str)  # Lists all string methods\n"
   ]
  },
  {
   "cell_type": "code",
   "execution_count": 45,
   "metadata": {},
   "outputs": [
    {
     "ename": "NameError",
     "evalue": "name 'et' is not defined",
     "output_type": "error",
     "traceback": [
      "\u001b[1;31m---------------------------------------------------------------------------\u001b[0m",
      "\u001b[1;31mNameError\u001b[0m                                 Traceback (most recent call last)",
      "\u001b[1;32m~\\AppData\\Local\\Temp\\ipykernel_8288\\2773780212.py\u001b[0m in \u001b[0;36m<module>\u001b[1;34m\u001b[0m\n\u001b[1;32m----> 1\u001b[1;33m \u001b[0mhelp\u001b[0m\u001b[1;33m(\u001b[0m\u001b[0met\u001b[0m\u001b[1;33m)\u001b[0m\u001b[1;33m\u001b[0m\u001b[1;33m\u001b[0m\u001b[0m\n\u001b[0m",
      "\u001b[1;31mNameError\u001b[0m: name 'et' is not defined"
     ]
    }
   ],
   "source": [
    "help(et)"
   ]
  },
  {
   "cell_type": "code",
   "execution_count": 46,
   "metadata": {},
   "outputs": [
    {
     "name": "stdout",
     "output_type": "stream",
     "text": [
      "Help on built-in function split:\n",
      "\n",
      "split(sep=None, maxsplit=-1) method of builtins.str instance\n",
      "    Return a list of the words in the string, using sep as the delimiter string.\n",
      "    \n",
      "    sep\n",
      "      The delimiter according which to split the string.\n",
      "      None (the default value) means split according to any whitespace,\n",
      "      and discard empty strings from the result.\n",
      "    maxsplit\n",
      "      Maximum number of splits to do.\n",
      "      -1 (the default value) means no limit.\n",
      "\n"
     ]
    }
   ],
   "source": [
    "help(title.split)"
   ]
  },
  {
   "cell_type": "code",
   "execution_count": 74,
   "metadata": {},
   "outputs": [
    {
     "name": "stdout",
     "output_type": "stream",
     "text": [
      "my_firstnames middle my_secondname\n",
      "my_firstnames is my_secondname\n",
      "my_firstnames is my_secondname\n",
      "True\n",
      "21\n",
      "Help on built-in function find:\n",
      "\n",
      "find(...) method of builtins.str instance\n",
      "    S.find(sub[, start[, end]]) -> int\n",
      "    \n",
      "    Return the lowest index in S where substring sub is found,\n",
      "    such that sub is contained within S[start:end].  Optional\n",
      "    arguments start and end are interpreted as in slice notation.\n",
      "    \n",
      "    Return -1 on failure.\n",
      "\n",
      "------------------my_firstnames middle my_secondname------------------\n",
      "Help on list object:\n",
      "\n",
      "class list(object)\n",
      " |  list(iterable=(), /)\n",
      " |  \n",
      " |  Built-in mutable sequence.\n",
      " |  \n",
      " |  If no argument is given, the constructor creates a new empty list.\n",
      " |  The argument must be an iterable if specified.\n",
      " |  \n",
      " |  Methods defined here:\n",
      " |  \n",
      " |  __add__(self, value, /)\n",
      " |      Return self+value.\n",
      " |  \n",
      " |  __contains__(self, key, /)\n",
      " |      Return key in self.\n",
      " |  \n",
      " |  __delitem__(self, key, /)\n",
      " |      Delete self[key].\n",
      " |  \n",
      " |  __eq__(self, value, /)\n",
      " |      Return self==value.\n",
      " |  \n",
      " |  __ge__(self, value, /)\n",
      " |      Return self>=value.\n",
      " |  \n",
      " |  __getattribute__(self, name, /)\n",
      " |      Return getattr(self, name).\n",
      " |  \n",
      " |  __getitem__(...)\n",
      " |      x.__getitem__(y) <==> x[y]\n",
      " |  \n",
      " |  __gt__(self, value, /)\n",
      " |      Return self>value.\n",
      " |  \n",
      " |  __iadd__(self, value, /)\n",
      " |      Implement self+=value.\n",
      " |  \n",
      " |  __imul__(self, value, /)\n",
      " |      Implement self*=value.\n",
      " |  \n",
      " |  __init__(self, /, *args, **kwargs)\n",
      " |      Initialize self.  See help(type(self)) for accurate signature.\n",
      " |  \n",
      " |  __iter__(self, /)\n",
      " |      Implement iter(self).\n",
      " |  \n",
      " |  __le__(self, value, /)\n",
      " |      Return self<=value.\n",
      " |  \n",
      " |  __len__(self, /)\n",
      " |      Return len(self).\n",
      " |  \n",
      " |  __lt__(self, value, /)\n",
      " |      Return self<value.\n",
      " |  \n",
      " |  __mul__(self, value, /)\n",
      " |      Return self*value.\n",
      " |  \n",
      " |  __ne__(self, value, /)\n",
      " |      Return self!=value.\n",
      " |  \n",
      " |  __repr__(self, /)\n",
      " |      Return repr(self).\n",
      " |  \n",
      " |  __reversed__(self, /)\n",
      " |      Return a reverse iterator over the list.\n",
      " |  \n",
      " |  __rmul__(self, value, /)\n",
      " |      Return value*self.\n",
      " |  \n",
      " |  __setitem__(self, key, value, /)\n",
      " |      Set self[key] to value.\n",
      " |  \n",
      " |  __sizeof__(self, /)\n",
      " |      Return the size of the list in memory, in bytes.\n",
      " |  \n",
      " |  append(self, object, /)\n",
      " |      Append object to the end of the list.\n",
      " |  \n",
      " |  clear(self, /)\n",
      " |      Remove all items from list.\n",
      " |  \n",
      " |  copy(self, /)\n",
      " |      Return a shallow copy of the list.\n",
      " |  \n",
      " |  count(self, value, /)\n",
      " |      Return number of occurrences of value.\n",
      " |  \n",
      " |  extend(self, iterable, /)\n",
      " |      Extend list by appending elements from the iterable.\n",
      " |  \n",
      " |  index(self, value, start=0, stop=9223372036854775807, /)\n",
      " |      Return first index of value.\n",
      " |      \n",
      " |      Raises ValueError if the value is not present.\n",
      " |  \n",
      " |  insert(self, index, object, /)\n",
      " |      Insert object before index.\n",
      " |  \n",
      " |  pop(self, index=-1, /)\n",
      " |      Remove and return item at index (default last).\n",
      " |      \n",
      " |      Raises IndexError if list is empty or index is out of range.\n",
      " |  \n",
      " |  remove(self, value, /)\n",
      " |      Remove first occurrence of value.\n",
      " |      \n",
      " |      Raises ValueError if the value is not present.\n",
      " |  \n",
      " |  reverse(self, /)\n",
      " |      Reverse *IN PLACE*.\n",
      " |  \n",
      " |  sort(self, /, *, key=None, reverse=False)\n",
      " |      Sort the list in ascending order and return None.\n",
      " |      \n",
      " |      The sort is in-place (i.e. the list itself is modified) and stable (i.e. the\n",
      " |      order of two equal elements is maintained).\n",
      " |      \n",
      " |      If a key function is given, apply it once to each list item and sort them,\n",
      " |      ascending or descending, according to their function values.\n",
      " |      \n",
      " |      The reverse flag can be set to sort in descending order.\n",
      " |  \n",
      " |  ----------------------------------------------------------------------\n",
      " |  Class methods defined here:\n",
      " |  \n",
      " |  __class_getitem__(...) from builtins.type\n",
      " |      See PEP 585\n",
      " |  \n",
      " |  ----------------------------------------------------------------------\n",
      " |  Static methods defined here:\n",
      " |  \n",
      " |  __new__(*args, **kwargs) from builtins.type\n",
      " |      Create and return a new object.  See help(type) for accurate signature.\n",
      " |  \n",
      " |  ----------------------------------------------------------------------\n",
      " |  Data and other attributes defined here:\n",
      " |  \n",
      " |  __hash__ = None\n",
      "\n"
     ]
    }
   ],
   "source": [
    "joseph,maina=\"my_firstnames\",\"my_secondname\"\n",
    "combo=joseph + \" middle \" + maina\n",
    "print(combo)\n",
    "print(combo.replace(\"middle\",\"is\"))\n",
    "print(\"is\" .join(combo.split('middle')))\n",
    "print('my_firstnames' in combo)\n",
    "print(combo.find(\"my_secondname\"))\n",
    "help(combo.find)\n",
    "print(combo.center(70,\"-\"))\n",
    "help(dir())"
   ]
  },
  {
   "cell_type": "code",
   "execution_count": 49,
   "metadata": {},
   "outputs": [
    {
     "name": "stdout",
     "output_type": "stream",
     "text": [
      "Calvin et Hobbes\n",
      "================================================\n",
      "\t\n",
      "Calvin & Hobbes\n",
      "================================================\n",
      "\t\n",
      "Calvin & Hobbes\n",
      "================================================\n",
      "\t\n",
      "True\n",
      "================================================\n",
      "\t\n",
      "10\n",
      "-------Calvin et Hobbes-------\n"
     ]
    }
   ],
   "source": [
    "enfant, peluche = \"Calvin\", 'Hobbes'  # Multiple assignment\n",
    "titre = enfant + ' et ' + peluche  # +: String concatenation\n",
    "print(titre)\n",
    "print(\"================================================\")\n",
    "print('\\t')\n",
    "\n",
    "print(titre.replace('et', '&'))  # Substring replacement: 'Calvin & Hobbes'\n",
    "print(\"================================================\")\n",
    "print('\\t')\n",
    "\n",
    "print(' & '.join(titre.split(' et ')))  # Splitting and joining\n",
    "print(\"================================================\")\n",
    "print('\\t')\n",
    "\n",
    "print('Hobbes' in titre)  # in: Inclusion test\n",
    "print(\"================================================\")\n",
    "print('\\t')\n",
    "\n",
    "print(titre.find(\"Hobbes\"))  # str.find: Substring search\n",
    "\n",
    "print(titre.center(30, '-'))  # '-------Calvin et Hobbes-------'\n",
    "\n",
    "#dir(str)  # Lists all string methods"
   ]
  },
  {
   "cell_type": "code",
   "execution_count": 44,
   "metadata": {},
   "outputs": [
    {
     "name": "stdout",
     "output_type": "stream",
     "text": [
      "Calvin et Hobbes\n",
      "================================================\n",
      "\t\n",
      "Calvin & Hobbes\n",
      "================================================\n",
      "\t\n",
      "Calvin & Hobbes\n",
      "================================================\n",
      "\t\n",
      "True\n",
      "================================================\n",
      "\t\n",
      "10\n",
      "-------Calvin et Hobbes-------\n"
     ]
    },
    {
     "data": {
      "text/plain": [
       "['__add__',\n",
       " '__class__',\n",
       " '__contains__',\n",
       " '__delattr__',\n",
       " '__dir__',\n",
       " '__doc__',\n",
       " '__eq__',\n",
       " '__format__',\n",
       " '__ge__',\n",
       " '__getattribute__',\n",
       " '__getitem__',\n",
       " '__getnewargs__',\n",
       " '__gt__',\n",
       " '__hash__',\n",
       " '__init__',\n",
       " '__init_subclass__',\n",
       " '__iter__',\n",
       " '__le__',\n",
       " '__len__',\n",
       " '__lt__',\n",
       " '__mod__',\n",
       " '__mul__',\n",
       " '__ne__',\n",
       " '__new__',\n",
       " '__reduce__',\n",
       " '__reduce_ex__',\n",
       " '__repr__',\n",
       " '__rmod__',\n",
       " '__rmul__',\n",
       " '__setattr__',\n",
       " '__sizeof__',\n",
       " '__str__',\n",
       " '__subclasshook__',\n",
       " 'capitalize',\n",
       " 'casefold',\n",
       " 'center',\n",
       " 'count',\n",
       " 'encode',\n",
       " 'endswith',\n",
       " 'expandtabs',\n",
       " 'find',\n",
       " 'format',\n",
       " 'format_map',\n",
       " 'index',\n",
       " 'isalnum',\n",
       " 'isalpha',\n",
       " 'isascii',\n",
       " 'isdecimal',\n",
       " 'isdigit',\n",
       " 'isidentifier',\n",
       " 'islower',\n",
       " 'isnumeric',\n",
       " 'isprintable',\n",
       " 'isspace',\n",
       " 'istitle',\n",
       " 'isupper',\n",
       " 'join',\n",
       " 'ljust',\n",
       " 'lower',\n",
       " 'lstrip',\n",
       " 'maketrans',\n",
       " 'partition',\n",
       " 'removeprefix',\n",
       " 'removesuffix',\n",
       " 'replace',\n",
       " 'rfind',\n",
       " 'rindex',\n",
       " 'rjust',\n",
       " 'rpartition',\n",
       " 'rsplit',\n",
       " 'rstrip',\n",
       " 'split',\n",
       " 'splitlines',\n",
       " 'startswith',\n",
       " 'strip',\n",
       " 'swapcase',\n",
       " 'title',\n",
       " 'translate',\n",
       " 'upper',\n",
       " 'zfill']"
      ]
     },
     "execution_count": 44,
     "metadata": {},
     "output_type": "execute_result"
    }
   ],
   "source": [
    "enfant, peluche = \"Calvin\", 'Hobbes'  # Multiple assignment\n",
    "\n",
    "titre = enfant + ' et ' + peluche  # +: String concatenation\n",
    "print(titre)\n",
    "print(\"================================================\")\n",
    "print('\\t')\n",
    "\n",
    "print(titre.replace('et', '&'))  # Substring replacement: 'Calvin & Hobbes'\n",
    "print(\"================================================\")\n",
    "print('\\t')\n",
    "\n",
    "print(' & '.join(titre.split(' et ')))  # Splitting and joining\n",
    "print(\"================================================\")\n",
    "print('\\t')\n",
    "\n",
    "print('Hobbes' in titre)  # in: Inclusion test\n",
    "print(\"================================================\")\n",
    "print('\\t')\n",
    "\n",
    "print(titre.find(\"Hobbes\"))  # str.find: Substring search\n",
    "\n",
    "print(titre.center(30, '-'))  # '-------Calvin et Hobbes-------'\n",
    "\n",
    "dir(str)  # Lists all string methods"
   ]
  },
  {
   "cell_type": "markdown",
   "metadata": {},
   "source": [
    "###  1.5. Formatting\n",
    "\n",
    "It is often necessary to retrieve the value of a variable and incorporate it into a string to form a new, usable string for other purposes. For instance, consider a variable `prix` defined as follows:\n",
    "\n",
    "```python\n",
    "prix = 2\n",
    "```\n",
    "\n",
    "We want to display a message like `\"The price of the pen is 2 euros\"`.\n",
    "\n",
    "The goal of formatting is to embed the value of a variable within a string. There are three primary methods to achieve this:\n",
    "\n",
    "- Using the concatenation operator `+`\n",
    "- Using the formatting operator `%`\n",
    "- Using the `str.format()` method\n",
    "\n",
    "We will illustrate just one example using the `str.format()` method. The formatting system allows for precise control over the conversion of variables into strings. It primarily relies on the `str.format()` method, which enables detailed specification of how variables should be inserted and formatted within a string. For more information, you can refer to the [formatting documentation](https://docs.python.org/2/library/string.html#formatstrings)."
   ]
  },
  {
   "cell_type": "code",
   "execution_count": 75,
   "metadata": {
    "scrolled": true
   },
   "outputs": [
    {
     "name": "stdout",
     "output_type": "stream",
     "text": [
      "Calvin a 6 ans\n",
      "================================================\n",
      "\t\n",
      "Calvin a 6 ans\n",
      "================================================\n",
      "\t\n",
      "3.141593 3.14 3141592653.589793 3.14159e+09\n"
     ]
    }
   ],
   "source": [
    "print(\"{nom} a {age} ans\".format(nom='Calvin', age=6)) # 'Calvin a 6 ans'\n",
    "print(\"================================================\")\n",
    "print('\\t')\n",
    "\n",
    "print(\"{} a {} ans\".format('Calvin', 6)) # Shortcut 'Calvin a 6 ans'\n",
    "print(\"================================================\")\n",
    "print('\\t')\n",
    "\n",
    "pi = 3.1415926535897931\n",
    "print(\"{x:f} {x:.2f} {y:f} {y:g}\".format(x=pi, y=pi*1e9)) # '3.141593 3.14 3141592653.589793 3.14159e+09'\n",
    "help"
   ]
  },
  {
   "cell_type": "code",
   "execution_count": 78,
   "metadata": {
    "scrolled": true
   },
   "outputs": [
    {
     "name": "stdout",
     "output_type": "stream",
     "text": [
      "joseph is 26 years\n"
     ]
    }
   ],
   "source": [
    "print(\"{name} is {age} years\".format(name=\"joseph\",age=26))"
   ]
  },
  {
   "cell_type": "code",
   "execution_count": 83,
   "metadata": {},
   "outputs": [
    {
     "name": "stdout",
     "output_type": "stream",
     "text": [
      "female beautiful 56\n"
     ]
    }
   ],
   "source": [
    "print(\"{gender} beautiful {age}\".format(gender=\"female\",age=56))"
   ]
  },
  {
   "cell_type": "markdown",
   "metadata": {},
   "source": [
    "\n",
    "\n",
    "**Explanation:**\n",
    "\n",
    "- **Named Fields**: In the first example, `\"{nom} a {age} ans\".format(nom='Calvin', age=6)` uses named fields in the format string. The placeholders `{nom}` and `{age}` are replaced by the values provided in the `format` method. \n",
    "\n",
    "- **Positional Fields**: The second example, `\"{} a {} ans\".format('Calvin', 6)`, uses positional placeholders `{}`. The values are inserted in the order they appear in the `format` method.\n",
    "\n",
    "- **Formatting Numbers**: The third example demonstrates formatting numerical values. `\"{x:f} {x:.2f} {y:f} {y:g}\".format(x=pi, y=pi*1e9)` formats the floating-point number `pi` in various ways: \n",
    "  - `{x:f}` displays `pi` with six decimal places.\n",
    "  - `{x:.2f}` formats `pi` to two decimal places.\n",
    "  - `{y:f}` shows `pi*1e9` with six decimal places.\n",
    "  - `{y:g}` formats `pi*1e9` in a more compact form using scientific notation."
   ]
  },
  {
   "cell_type": "code",
   "execution_count": 89,
   "metadata": {},
   "outputs": [
    {
     "name": "stdout",
     "output_type": "stream",
     "text": [
      "Calvin and Hobbes\n",
      "Scientific progress goes 'boink'\n"
     ]
    }
   ],
   "source": [
    "print(\"Calvin and Hobbes  \\nScientific progress goes 'boink'\") # Calvin and Hobbes Scientific progress goes 'boink'"
   ]
  },
  {
   "cell_type": "code",
   "execution_count": 94,
   "metadata": {},
   "outputs": [
    {
     "name": "stdout",
     "output_type": "stream",
     "text": [
      "3 fois 4 font 12\n"
     ]
    }
   ],
   "source": [
    "print(\"{0} fois {1} font {2}\".format(3, 4, 3*4)) # Formatting and display\n",
    "# Output: 3 fois 4 font 12\n",
    "# A small exercise in this section is to display a multiplication table."
   ]
  },
  {
   "cell_type": "code",
   "execution_count": 95,
   "metadata": {},
   "outputs": [
    {
     "name": "stdout",
     "output_type": "stream",
     "text": [
      "3 fois 4 font 12\n"
     ]
    }
   ],
   "source": [
    "print(\"{0} fois {1} font {2}\".format(3,4,3*4))"
   ]
  },
  {
   "cell_type": "code",
   "execution_count": 105,
   "metadata": {},
   "outputs": [
    {
     "name": "stdout",
     "output_type": "stream",
     "text": [
      "5 fois 6 font 90\n"
     ]
    }
   ],
   "source": [
    "print(\"{1} fois {2} font {3}\".format(3,5,6,3*5*6))"
   ]
  },
  {
   "cell_type": "code",
   "execution_count": 112,
   "metadata": {},
   "outputs": [
    {
     "name": "stdout",
     "output_type": "stream",
     "text": [
      "4 mutiply_example 25 answer is100\n"
     ]
    }
   ],
   "source": [
    "print(\"{1} mutiply_example {2} answer is {3}\".format(0,4,25,25*4))"
   ]
  },
  {
   "cell_type": "code",
   "execution_count": 115,
   "metadata": {},
   "outputs": [
    {
     "name": "stdout",
     "output_type": "stream",
     "text": [
      "1 mutiply 1 equals 1\n",
      "1 mutiply 2 equals 2\n",
      "1 mutiply 3 equals 3\n",
      "1 mutiply 4 equals 4\n",
      "1 mutiply 5 equals 5\n",
      "1 mutiply 6 equals 6\n",
      "1 mutiply 7 equals 7\n",
      "1 mutiply 8 equals 8\n",
      "1 mutiply 9 equals 9\n",
      "1 mutiply 10 equals 10\n",
      "\n",
      "2 mutiply 1 equals 2\n",
      "2 mutiply 2 equals 4\n",
      "2 mutiply 3 equals 6\n",
      "2 mutiply 4 equals 8\n",
      "2 mutiply 5 equals 10\n",
      "2 mutiply 6 equals 12\n",
      "2 mutiply 7 equals 14\n",
      "2 mutiply 8 equals 16\n",
      "2 mutiply 9 equals 18\n",
      "2 mutiply 10 equals 20\n",
      "\n",
      "3 mutiply 1 equals 3\n",
      "3 mutiply 2 equals 6\n",
      "3 mutiply 3 equals 9\n",
      "3 mutiply 4 equals 12\n",
      "3 mutiply 5 equals 15\n",
      "3 mutiply 6 equals 18\n",
      "3 mutiply 7 equals 21\n",
      "3 mutiply 8 equals 24\n",
      "3 mutiply 9 equals 27\n",
      "3 mutiply 10 equals 30\n",
      "\n",
      "4 mutiply 1 equals 4\n",
      "4 mutiply 2 equals 8\n",
      "4 mutiply 3 equals 12\n",
      "4 mutiply 4 equals 16\n",
      "4 mutiply 5 equals 20\n",
      "4 mutiply 6 equals 24\n",
      "4 mutiply 7 equals 28\n",
      "4 mutiply 8 equals 32\n",
      "4 mutiply 9 equals 36\n",
      "4 mutiply 10 equals 40\n",
      "\n",
      "5 mutiply 1 equals 5\n",
      "5 mutiply 2 equals 10\n",
      "5 mutiply 3 equals 15\n",
      "5 mutiply 4 equals 20\n",
      "5 mutiply 5 equals 25\n",
      "5 mutiply 6 equals 30\n",
      "5 mutiply 7 equals 35\n",
      "5 mutiply 8 equals 40\n",
      "5 mutiply 9 equals 45\n",
      "5 mutiply 10 equals 50\n",
      "\n",
      "6 mutiply 1 equals 6\n",
      "6 mutiply 2 equals 12\n",
      "6 mutiply 3 equals 18\n",
      "6 mutiply 4 equals 24\n",
      "6 mutiply 5 equals 30\n",
      "6 mutiply 6 equals 36\n",
      "6 mutiply 7 equals 42\n",
      "6 mutiply 8 equals 48\n",
      "6 mutiply 9 equals 54\n",
      "6 mutiply 10 equals 60\n",
      "\n",
      "7 mutiply 1 equals 7\n",
      "7 mutiply 2 equals 14\n",
      "7 mutiply 3 equals 21\n",
      "7 mutiply 4 equals 28\n",
      "7 mutiply 5 equals 35\n",
      "7 mutiply 6 equals 42\n",
      "7 mutiply 7 equals 49\n",
      "7 mutiply 8 equals 56\n",
      "7 mutiply 9 equals 63\n",
      "7 mutiply 10 equals 70\n",
      "\n",
      "8 mutiply 1 equals 8\n",
      "8 mutiply 2 equals 16\n",
      "8 mutiply 3 equals 24\n",
      "8 mutiply 4 equals 32\n",
      "8 mutiply 5 equals 40\n",
      "8 mutiply 6 equals 48\n",
      "8 mutiply 7 equals 56\n",
      "8 mutiply 8 equals 64\n",
      "8 mutiply 9 equals 72\n",
      "8 mutiply 10 equals 80\n",
      "\n",
      "9 mutiply 1 equals 9\n",
      "9 mutiply 2 equals 18\n",
      "9 mutiply 3 equals 27\n",
      "9 mutiply 4 equals 36\n",
      "9 mutiply 5 equals 45\n",
      "9 mutiply 6 equals 54\n",
      "9 mutiply 7 equals 63\n",
      "9 mutiply 8 equals 72\n",
      "9 mutiply 9 equals 81\n",
      "9 mutiply 10 equals 90\n",
      "\n",
      "10 mutiply 1 equals 10\n",
      "10 mutiply 2 equals 20\n",
      "10 mutiply 3 equals 30\n",
      "10 mutiply 4 equals 40\n",
      "10 mutiply 5 equals 50\n",
      "10 mutiply 6 equals 60\n",
      "10 mutiply 7 equals 70\n",
      "10 mutiply 8 equals 80\n",
      "10 mutiply 9 equals 90\n",
      "10 mutiply 10 equals 100\n",
      "\n"
     ]
    }
   ],
   "source": [
    "for i in range(1, 11):\n",
    "    for j in range(1, 11):\n",
    "        print(\"{0} mutiply {1} equals {2}\".format(i, j, i*j))\n",
    "    print() \n"
   ]
  },
  {
   "cell_type": "code",
   "execution_count": 119,
   "metadata": {},
   "outputs": [
    {
     "name": "stdout",
     "output_type": "stream",
     "text": [
      "1 mutiply 1 equals 1\n",
      "1 mutiply 2 equals 2\n",
      "1 mutiply 3 equals 3\n",
      "1 mutiply 4 equals 4\n",
      "1 mutiply 5 equals 5\n",
      "1 mutiply 6 equals 6\n",
      "1 mutiply 7 equals 7\n",
      "1 mutiply 8 equals 8\n",
      "1 mutiply 9 equals 9\n",
      "1 mutiply 10 equals 10\n",
      "1 mutiply 11 equals 11\n",
      "1 mutiply 12 equals 12\n",
      "1 mutiply 13 equals 13\n",
      "1 mutiply 14 equals 14\n",
      "1 mutiply 15 equals 15\n",
      "1 mutiply 16 equals 16\n",
      "1 mutiply 17 equals 17\n",
      "1 mutiply 18 equals 18\n",
      "1 mutiply 19 equals 19\n",
      "\n",
      "2 mutiply 1 equals 2\n",
      "2 mutiply 2 equals 4\n",
      "2 mutiply 3 equals 6\n",
      "2 mutiply 4 equals 8\n",
      "2 mutiply 5 equals 10\n",
      "2 mutiply 6 equals 12\n",
      "2 mutiply 7 equals 14\n",
      "2 mutiply 8 equals 16\n",
      "2 mutiply 9 equals 18\n",
      "2 mutiply 10 equals 20\n",
      "2 mutiply 11 equals 22\n",
      "2 mutiply 12 equals 24\n",
      "2 mutiply 13 equals 26\n",
      "2 mutiply 14 equals 28\n",
      "2 mutiply 15 equals 30\n",
      "2 mutiply 16 equals 32\n",
      "2 mutiply 17 equals 34\n",
      "2 mutiply 18 equals 36\n",
      "2 mutiply 19 equals 38\n",
      "\n",
      "3 mutiply 1 equals 3\n",
      "3 mutiply 2 equals 6\n",
      "3 mutiply 3 equals 9\n",
      "3 mutiply 4 equals 12\n",
      "3 mutiply 5 equals 15\n",
      "3 mutiply 6 equals 18\n",
      "3 mutiply 7 equals 21\n",
      "3 mutiply 8 equals 24\n",
      "3 mutiply 9 equals 27\n",
      "3 mutiply 10 equals 30\n",
      "3 mutiply 11 equals 33\n",
      "3 mutiply 12 equals 36\n",
      "3 mutiply 13 equals 39\n",
      "3 mutiply 14 equals 42\n",
      "3 mutiply 15 equals 45\n",
      "3 mutiply 16 equals 48\n",
      "3 mutiply 17 equals 51\n",
      "3 mutiply 18 equals 54\n",
      "3 mutiply 19 equals 57\n",
      "\n",
      "4 mutiply 1 equals 4\n",
      "4 mutiply 2 equals 8\n",
      "4 mutiply 3 equals 12\n",
      "4 mutiply 4 equals 16\n",
      "4 mutiply 5 equals 20\n",
      "4 mutiply 6 equals 24\n",
      "4 mutiply 7 equals 28\n",
      "4 mutiply 8 equals 32\n",
      "4 mutiply 9 equals 36\n",
      "4 mutiply 10 equals 40\n",
      "4 mutiply 11 equals 44\n",
      "4 mutiply 12 equals 48\n",
      "4 mutiply 13 equals 52\n",
      "4 mutiply 14 equals 56\n",
      "4 mutiply 15 equals 60\n",
      "4 mutiply 16 equals 64\n",
      "4 mutiply 17 equals 68\n",
      "4 mutiply 18 equals 72\n",
      "4 mutiply 19 equals 76\n",
      "\n",
      "5 mutiply 1 equals 5\n",
      "5 mutiply 2 equals 10\n",
      "5 mutiply 3 equals 15\n",
      "5 mutiply 4 equals 20\n",
      "5 mutiply 5 equals 25\n",
      "5 mutiply 6 equals 30\n",
      "5 mutiply 7 equals 35\n",
      "5 mutiply 8 equals 40\n",
      "5 mutiply 9 equals 45\n",
      "5 mutiply 10 equals 50\n",
      "5 mutiply 11 equals 55\n",
      "5 mutiply 12 equals 60\n",
      "5 mutiply 13 equals 65\n",
      "5 mutiply 14 equals 70\n",
      "5 mutiply 15 equals 75\n",
      "5 mutiply 16 equals 80\n",
      "5 mutiply 17 equals 85\n",
      "5 mutiply 18 equals 90\n",
      "5 mutiply 19 equals 95\n",
      "\n",
      "6 mutiply 1 equals 6\n",
      "6 mutiply 2 equals 12\n",
      "6 mutiply 3 equals 18\n",
      "6 mutiply 4 equals 24\n",
      "6 mutiply 5 equals 30\n",
      "6 mutiply 6 equals 36\n",
      "6 mutiply 7 equals 42\n",
      "6 mutiply 8 equals 48\n",
      "6 mutiply 9 equals 54\n",
      "6 mutiply 10 equals 60\n",
      "6 mutiply 11 equals 66\n",
      "6 mutiply 12 equals 72\n",
      "6 mutiply 13 equals 78\n",
      "6 mutiply 14 equals 84\n",
      "6 mutiply 15 equals 90\n",
      "6 mutiply 16 equals 96\n",
      "6 mutiply 17 equals 102\n",
      "6 mutiply 18 equals 108\n",
      "6 mutiply 19 equals 114\n",
      "\n",
      "7 mutiply 1 equals 7\n",
      "7 mutiply 2 equals 14\n",
      "7 mutiply 3 equals 21\n",
      "7 mutiply 4 equals 28\n",
      "7 mutiply 5 equals 35\n",
      "7 mutiply 6 equals 42\n",
      "7 mutiply 7 equals 49\n",
      "7 mutiply 8 equals 56\n",
      "7 mutiply 9 equals 63\n",
      "7 mutiply 10 equals 70\n",
      "7 mutiply 11 equals 77\n",
      "7 mutiply 12 equals 84\n",
      "7 mutiply 13 equals 91\n",
      "7 mutiply 14 equals 98\n",
      "7 mutiply 15 equals 105\n",
      "7 mutiply 16 equals 112\n",
      "7 mutiply 17 equals 119\n",
      "7 mutiply 18 equals 126\n",
      "7 mutiply 19 equals 133\n",
      "\n",
      "8 mutiply 1 equals 8\n",
      "8 mutiply 2 equals 16\n",
      "8 mutiply 3 equals 24\n",
      "8 mutiply 4 equals 32\n",
      "8 mutiply 5 equals 40\n",
      "8 mutiply 6 equals 48\n",
      "8 mutiply 7 equals 56\n",
      "8 mutiply 8 equals 64\n",
      "8 mutiply 9 equals 72\n",
      "8 mutiply 10 equals 80\n",
      "8 mutiply 11 equals 88\n",
      "8 mutiply 12 equals 96\n",
      "8 mutiply 13 equals 104\n",
      "8 mutiply 14 equals 112\n",
      "8 mutiply 15 equals 120\n",
      "8 mutiply 16 equals 128\n",
      "8 mutiply 17 equals 136\n",
      "8 mutiply 18 equals 144\n",
      "8 mutiply 19 equals 152\n",
      "\n",
      "9 mutiply 1 equals 9\n",
      "9 mutiply 2 equals 18\n",
      "9 mutiply 3 equals 27\n",
      "9 mutiply 4 equals 36\n",
      "9 mutiply 5 equals 45\n",
      "9 mutiply 6 equals 54\n",
      "9 mutiply 7 equals 63\n",
      "9 mutiply 8 equals 72\n",
      "9 mutiply 9 equals 81\n",
      "9 mutiply 10 equals 90\n",
      "9 mutiply 11 equals 99\n",
      "9 mutiply 12 equals 108\n",
      "9 mutiply 13 equals 117\n",
      "9 mutiply 14 equals 126\n",
      "9 mutiply 15 equals 135\n",
      "9 mutiply 16 equals 144\n",
      "9 mutiply 17 equals 153\n",
      "9 mutiply 18 equals 162\n",
      "9 mutiply 19 equals 171\n",
      "\n",
      "10 mutiply 1 equals 10\n",
      "10 mutiply 2 equals 20\n",
      "10 mutiply 3 equals 30\n",
      "10 mutiply 4 equals 40\n",
      "10 mutiply 5 equals 50\n",
      "10 mutiply 6 equals 60\n",
      "10 mutiply 7 equals 70\n",
      "10 mutiply 8 equals 80\n",
      "10 mutiply 9 equals 90\n",
      "10 mutiply 10 equals 100\n",
      "10 mutiply 11 equals 110\n",
      "10 mutiply 12 equals 120\n",
      "10 mutiply 13 equals 130\n",
      "10 mutiply 14 equals 140\n",
      "10 mutiply 15 equals 150\n",
      "10 mutiply 16 equals 160\n",
      "10 mutiply 17 equals 170\n",
      "10 mutiply 18 equals 180\n",
      "10 mutiply 19 equals 190\n",
      "\n",
      "11 mutiply 1 equals 11\n",
      "11 mutiply 2 equals 22\n",
      "11 mutiply 3 equals 33\n",
      "11 mutiply 4 equals 44\n",
      "11 mutiply 5 equals 55\n",
      "11 mutiply 6 equals 66\n",
      "11 mutiply 7 equals 77\n",
      "11 mutiply 8 equals 88\n",
      "11 mutiply 9 equals 99\n",
      "11 mutiply 10 equals 110\n",
      "11 mutiply 11 equals 121\n",
      "11 mutiply 12 equals 132\n",
      "11 mutiply 13 equals 143\n",
      "11 mutiply 14 equals 154\n",
      "11 mutiply 15 equals 165\n",
      "11 mutiply 16 equals 176\n",
      "11 mutiply 17 equals 187\n",
      "11 mutiply 18 equals 198\n",
      "11 mutiply 19 equals 209\n",
      "\n",
      "12 mutiply 1 equals 12\n",
      "12 mutiply 2 equals 24\n",
      "12 mutiply 3 equals 36\n",
      "12 mutiply 4 equals 48\n",
      "12 mutiply 5 equals 60\n",
      "12 mutiply 6 equals 72\n",
      "12 mutiply 7 equals 84\n",
      "12 mutiply 8 equals 96\n",
      "12 mutiply 9 equals 108\n",
      "12 mutiply 10 equals 120\n",
      "12 mutiply 11 equals 132\n",
      "12 mutiply 12 equals 144\n",
      "12 mutiply 13 equals 156\n",
      "12 mutiply 14 equals 168\n",
      "12 mutiply 15 equals 180\n",
      "12 mutiply 16 equals 192\n",
      "12 mutiply 17 equals 204\n",
      "12 mutiply 18 equals 216\n",
      "12 mutiply 19 equals 228\n",
      "\n",
      "13 mutiply 1 equals 13\n",
      "13 mutiply 2 equals 26\n",
      "13 mutiply 3 equals 39\n",
      "13 mutiply 4 equals 52\n",
      "13 mutiply 5 equals 65\n",
      "13 mutiply 6 equals 78\n",
      "13 mutiply 7 equals 91\n",
      "13 mutiply 8 equals 104\n",
      "13 mutiply 9 equals 117\n",
      "13 mutiply 10 equals 130\n",
      "13 mutiply 11 equals 143\n",
      "13 mutiply 12 equals 156\n",
      "13 mutiply 13 equals 169\n",
      "13 mutiply 14 equals 182\n",
      "13 mutiply 15 equals 195\n",
      "13 mutiply 16 equals 208\n",
      "13 mutiply 17 equals 221\n",
      "13 mutiply 18 equals 234\n",
      "13 mutiply 19 equals 247\n",
      "\n",
      "14 mutiply 1 equals 14\n",
      "14 mutiply 2 equals 28\n",
      "14 mutiply 3 equals 42\n",
      "14 mutiply 4 equals 56\n",
      "14 mutiply 5 equals 70\n",
      "14 mutiply 6 equals 84\n",
      "14 mutiply 7 equals 98\n",
      "14 mutiply 8 equals 112\n",
      "14 mutiply 9 equals 126\n",
      "14 mutiply 10 equals 140\n",
      "14 mutiply 11 equals 154\n",
      "14 mutiply 12 equals 168\n",
      "14 mutiply 13 equals 182\n",
      "14 mutiply 14 equals 196\n",
      "14 mutiply 15 equals 210\n",
      "14 mutiply 16 equals 224\n",
      "14 mutiply 17 equals 238\n",
      "14 mutiply 18 equals 252\n",
      "14 mutiply 19 equals 266\n",
      "\n",
      "15 mutiply 1 equals 15\n",
      "15 mutiply 2 equals 30\n",
      "15 mutiply 3 equals 45\n",
      "15 mutiply 4 equals 60\n",
      "15 mutiply 5 equals 75\n",
      "15 mutiply 6 equals 90\n",
      "15 mutiply 7 equals 105\n",
      "15 mutiply 8 equals 120\n",
      "15 mutiply 9 equals 135\n",
      "15 mutiply 10 equals 150\n",
      "15 mutiply 11 equals 165\n",
      "15 mutiply 12 equals 180\n",
      "15 mutiply 13 equals 195\n",
      "15 mutiply 14 equals 210\n",
      "15 mutiply 15 equals 225\n",
      "15 mutiply 16 equals 240\n",
      "15 mutiply 17 equals 255\n",
      "15 mutiply 18 equals 270\n",
      "15 mutiply 19 equals 285\n",
      "\n",
      "16 mutiply 1 equals 16\n",
      "16 mutiply 2 equals 32\n",
      "16 mutiply 3 equals 48\n",
      "16 mutiply 4 equals 64\n",
      "16 mutiply 5 equals 80\n",
      "16 mutiply 6 equals 96\n",
      "16 mutiply 7 equals 112\n",
      "16 mutiply 8 equals 128\n",
      "16 mutiply 9 equals 144\n",
      "16 mutiply 10 equals 160\n",
      "16 mutiply 11 equals 176\n",
      "16 mutiply 12 equals 192\n",
      "16 mutiply 13 equals 208\n",
      "16 mutiply 14 equals 224\n",
      "16 mutiply 15 equals 240\n",
      "16 mutiply 16 equals 256\n",
      "16 mutiply 17 equals 272\n",
      "16 mutiply 18 equals 288\n",
      "16 mutiply 19 equals 304\n",
      "\n",
      "17 mutiply 1 equals 17\n",
      "17 mutiply 2 equals 34\n",
      "17 mutiply 3 equals 51\n",
      "17 mutiply 4 equals 68\n",
      "17 mutiply 5 equals 85\n",
      "17 mutiply 6 equals 102\n",
      "17 mutiply 7 equals 119\n",
      "17 mutiply 8 equals 136\n",
      "17 mutiply 9 equals 153\n",
      "17 mutiply 10 equals 170\n",
      "17 mutiply 11 equals 187\n",
      "17 mutiply 12 equals 204\n",
      "17 mutiply 13 equals 221\n",
      "17 mutiply 14 equals 238\n",
      "17 mutiply 15 equals 255\n",
      "17 mutiply 16 equals 272\n",
      "17 mutiply 17 equals 289\n",
      "17 mutiply 18 equals 306\n",
      "17 mutiply 19 equals 323\n",
      "\n",
      "18 mutiply 1 equals 18\n",
      "18 mutiply 2 equals 36\n",
      "18 mutiply 3 equals 54\n",
      "18 mutiply 4 equals 72\n",
      "18 mutiply 5 equals 90\n",
      "18 mutiply 6 equals 108\n",
      "18 mutiply 7 equals 126\n",
      "18 mutiply 8 equals 144\n",
      "18 mutiply 9 equals 162\n",
      "18 mutiply 10 equals 180\n",
      "18 mutiply 11 equals 198\n",
      "18 mutiply 12 equals 216\n",
      "18 mutiply 13 equals 234\n",
      "18 mutiply 14 equals 252\n",
      "18 mutiply 15 equals 270\n",
      "18 mutiply 16 equals 288\n",
      "18 mutiply 17 equals 306\n",
      "18 mutiply 18 equals 324\n",
      "18 mutiply 19 equals 342\n",
      "\n",
      "19 mutiply 1 equals 19\n",
      "19 mutiply 2 equals 38\n",
      "19 mutiply 3 equals 57\n",
      "19 mutiply 4 equals 76\n",
      "19 mutiply 5 equals 95\n",
      "19 mutiply 6 equals 114\n",
      "19 mutiply 7 equals 133\n",
      "19 mutiply 8 equals 152\n",
      "19 mutiply 9 equals 171\n",
      "19 mutiply 10 equals 190\n",
      "19 mutiply 11 equals 209\n",
      "19 mutiply 12 equals 228\n",
      "19 mutiply 13 equals 247\n",
      "19 mutiply 14 equals 266\n",
      "19 mutiply 15 equals 285\n",
      "19 mutiply 16 equals 304\n",
      "19 mutiply 17 equals 323\n",
      "19 mutiply 18 equals 342\n",
      "19 mutiply 19 equals 361\n",
      "\n"
     ]
    }
   ],
   "source": [
    "for i in range(1,20):\n",
    "    for j in range(1,20):\n",
    "        print(\"{0} mutiply {1} equals {2}\".format(i,j,i*j))\n",
    "    print()\n"
   ]
  },
  {
   "cell_type": "markdown",
   "metadata": {},
   "source": [
    "**Explanation:**\n",
    "\n",
    "- **Indexed Fields**: In the example `\"{0} fois {1} font {2}\".format(3, 4, 3*4)`, the `{0}`, `{1}`, and `{2}` are positional placeholders. They are replaced by the values `3`, `4`, and `3*4` (which evaluates to `12`) respectively. This results in the output: `3 fois 4 font 12`.\n",
    "\n",
    "- **Multiplication Table Exercise**: The comment suggests a small exercise where one can display a multiplication table, which would involve iterating through numbers and formatting them into a table structure using similar formatting techniques."
   ]
  },
  {
   "cell_type": "markdown",
   "metadata": {},
   "source": [
    "In concluding this section, we mention the study of regular expressions (regex or `re`), which will not be discussed in this course. As a guide, we can say that regular expressions are extensions of the `str()` function that allow for more complex pattern-matching operations than what the `str()` functions alone can achieve."
   ]
  },
  {
   "cell_type": "markdown",
   "metadata": {},
   "source": [
    "**Practical**\n",
    "\n",
    "Explore the functions:\n",
    "\n",
    " 1. [`upper()`, `lower()`, and `capitalize()`](https://docs.python.org/3/library/stdtypes.html#str.upper)\n",
    " 2. [`find()`](https://docs.python.org/3/library/stdtypes.html#str.find)\n",
    " 3. [`replace()`](https://docs.python.org/3/library/stdtypes.html#str.replace)\n",
    " 4. [`count()`](https://docs.python.org/3/library/stdtypes.html#str.count)\n",
    " 5. [`split()`](https://docs.python.org/3/library/stdtypes.html#str.split)\n",
    " 6. [`startswith()` and `endswith()`](https://docs.python.org/3/library/stdtypes.html#str.startswith)\n",
    " 7. [`islower()` and `isupper()`](https://docs.python.org/3/library/stdtypes.html#str.islower)\n",
    " 8. [`istitle()`](https://docs.python.org/3/library/stdtypes.html#str.istitle)\n",
    " 9. [`isalpha()` and `isalnum()`](https://docs.python.org/3/library/stdtypes.html#str.isalpha)\n",
    "10.[`isdigit()`](https://docs.python.org/3/library/stdtypes.html#str.isdigit)"
   ]
  },
  {
   "cell_type": "markdown",
   "metadata": {},
   "source": [
    "**Note:** It is important to distinguish between a character value and an alphabetical value. An alphabetical value is always a string, whereas a string is not necessarily an alphabetical value. In Python, a character value is always enclosed in quotes (single, double, or triple), while a numeric value is expressed without quotes. There are two main types of data: numeric data and character data. It is worth noting that a numeric value enclosed in quotes is automatically treated as a character value, even if it is not alphabetical. Keeping these details in mind is crucial when handling sequences of values in Python (see the example below):\n",
    "\n",
    "```python\n",
    "x = 12 # x is a numeric variable\n",
    "y = \"12\" # y is a string formed by digits\n",
    "z = \"mon texte\" # z is a string formed by alphabetical values\n",
    "k = \"Ce stylo coûte 5 euros\" # k is a string formed by alphanumeric values\n",
    "```"
   ]
  },
  {
   "cell_type": "markdown",
   "metadata": {},
   "source": [
    "For more details on string processing, refer to [this page](http://www.tutorialspoint.com/python/python_strings.htm)."
   ]
  },
  {
   "cell_type": "markdown",
   "metadata": {},
   "source": [
    "## 2. File I/O\n",
    "\n",
    "File I/O (Input/Output) in Python involves reading from and writing to files. Python provides several built-in functions and methods to handle files. The primary function for file manipulation is `open()`, which allows you to open a file and returns a file object. This file object provides methods for reading and writing data. Here's a detailed overview with various examples:\n",
    "\n",
    "### Basic File Operations\n",
    "\n",
    "1. **Opening and Closing a File**\n",
    "   - To open a file, use the `open()` function. The basic syntax is `open(filename, mode)`, where `filename` is the name of the file and `mode` is the mode of operation (`'r'` for read, `'w'` for write, `'a'` for append, etc.).\n",
    "   - To close a file, use the `close()` method of the file object.\n",
    "\n",
    "   ```python\n",
    "   # Opening a file in read mode\n",
    "   file = open('example.txt', 'r')\n",
    "   # Perform operations on the file\n",
    "   file.close()\n",
    "   ```\n",
    "\n",
    "2. **Reading from a File**\n",
    "   - **Read the entire file**: `read()` method reads the entire content of the file.\n",
    "   - **Read line by line**: `readline()` method reads a single line from the file, and `readlines()` method reads all lines into a list.\n",
    "\n",
    "   ```python\n",
    "   # Read entire file\n",
    "   file = open('example.txt', 'r')\n",
    "   content = file.read()\n",
    "   print(content)\n",
    "   file.close()\n",
    "\n",
    "   # Read line by line\n",
    "   file = open('example.txt', 'r')\n",
    "   line = file.readline()\n",
    "   while line:\n",
    "       print(line, end='')\n",
    "       line = file.readline()\n",
    "   file.close()\n",
    "\n",
    "   # Read all lines into a list\n",
    "   file = open('example.txt', 'r')\n",
    "   lines = file.readlines()\n",
    "   print(lines)\n",
    "   file.close()\n",
    "   ```\n",
    "\n",
    "3. **Writing to a File**\n",
    "   - **Write a string**: `write()` method writes a string to the file.\n",
    "   - **Write multiple lines**: `writelines()` method writes a list of strings to the file.\n",
    "\n",
    "   ```python\n",
    "   # Write a string to a file\n",
    "   file = open('example.txt', 'w')\n",
    "   file.write('Hello, World!')\n",
    "   file.close()\n",
    "\n",
    "   # Write multiple lines to a file\n",
    "   lines = ['First line\\n', 'Second line\\n', 'Third line\\n']\n",
    "   file = open('example.txt', 'w')\n",
    "   file.writelines(lines)\n",
    "   file.close()\n",
    "   ```\n",
    "\n",
    "4. **Appending to a File**\n",
    "   - To append data to an existing file, open the file in append mode (`'a'`).\n",
    "\n",
    "   ```python\n",
    "   file = open('example.txt', 'a')\n",
    "   file.write('This is an appended line.\\n')\n",
    "   file.close()\n",
    "   ```\n",
    "\n",
    "5. **Using `with` Statement**\n",
    "   - The `with` statement is used for resource management. It ensures that the file is properly closed after its suite finishes, even if an exception is raised.\n",
    "\n",
    "   ```python\n",
    "   # Reading a file using with statement\n",
    "   with open('example.txt', 'r') as file:\n",
    "       content = file.read()\n",
    "       print(content)\n",
    "\n",
    "   # Writing to a file using with statement\n",
    "   with open('example.txt', 'w') as file:\n",
    "       file.write('This is a new content.')\n",
    "   ```\n",
    "\n",
    "6. **File Modes**\n",
    "   - `'r'`: Read (default mode, opens the file for reading)\n",
    "   - `'w'`: Write (creates a new file or truncates an existing file)\n",
    "   - `'a'`: Append (opens the file for appending)\n",
    "   - `'b'`: Binary (reads or writes in binary mode, e.g., `'rb'` or `'wb'`)\n",
    "   - `'t'`: Text (default mode, opens the file in text mode, e.g., `'rt'` or `'wt'`)\n",
    "\n",
    "   ```python\n",
    "   # Binary mode example\n",
    "   with open('example.jpg', 'rb') as file:\n",
    "       content = file.read()\n",
    "       # Process binary data\n",
    "   ```\n",
    "\n",
    "7. **File Positioning**\n",
    "   - `seek(offset, whence)`: Moves the file pointer to a specific position.\n",
    "   - `tell()`: Returns the current file pointer position.\n",
    "\n",
    "   ```python\n",
    "   with open('example.txt', 'r') as file:\n",
    "       file.seek(10)  # Move to the 10th byte\n",
    "       print(file.tell())  # Print the current file pointer position\n",
    "       content = file.read(20)  # Read 20 bytes from the current position\n",
    "       print(content)\n",
    "   ```\n",
    "\n",
    "8. **Working with File Paths**\n",
    "   - Use the `os` and `pathlib` modules to handle file paths.\n",
    "\n",
    "   ```python\n",
    "   import os\n",
    "   from pathlib import Path\n",
    "\n",
    "   # Get current working directory\n",
    "   print(os.getcwd())\n",
    "\n",
    "   # Join paths\n",
    "   file_path = os.path.join('folder', 'example.txt')\n",
    "\n",
    "   # Using pathlib\n",
    "   path = Path('folder') / 'example.txt'\n",
    "   ```\n",
    "\n",
    "9. **Handling File Exceptions**\n",
    "   - Use `try` and `except` blocks to handle file-related exceptions.\n",
    "\n",
    "   ```python\n",
    "   try:\n",
    "       with open('example.txt', 'r') as file:\n",
    "           content = file.read()\n",
    "   except FileNotFoundError:\n",
    "       print('File not found.')\n",
    "   except IOError:\n",
    "       print('An IOError occurred.')\n",
    "   ```\n",
    "\n",
    "These examples cover a wide range of file operations in Python. Whether you are reading from, writing to, or managing files, Python’s file I/O capabilities provide a flexible and powerful way to handle file data."
   ]
  },
  {
   "cell_type": "markdown",
   "metadata": {},
   "source": [
    "The help information for open is below:"
   ]
  },
  {
   "cell_type": "code",
   "execution_count": 178,
   "metadata": {},
   "outputs": [
    {
     "name": "stdout",
     "output_type": "stream",
     "text": [
      "hey there\n",
      "i would like to go there sometime\n",
      "but i fear being laughed at\n"
     ]
    }
   ],
   "source": [
    "this_file=open('esc1.txt','r')\n",
    "the_content=this_file.read()\n",
    "print(the_content)\n",
    "this_file.close()\n"
   ]
  },
  {
   "cell_type": "code",
   "execution_count": 176,
   "metadata": {},
   "outputs": [
    {
     "name": "stdout",
     "output_type": "stream",
     "text": [
      "hey there\n",
      "i would like to go there sometime\n",
      "but i fear being laughed at"
     ]
    }
   ],
   "source": [
    "file = open('esc1.txt', 'r')\n",
    "line = file.readline()\n",
    "while line:\n",
    "    print(line, end='')\n",
    "    line = file.readline()\n",
    "file.close()"
   ]
  },
  {
   "cell_type": "code",
   "execution_count": 179,
   "metadata": {},
   "outputs": [
    {
     "name": "stdout",
     "output_type": "stream",
     "text": [
      "['hey there\\n', 'i would like to go there sometime\\n', 'but i fear being laughed at']\n"
     ]
    }
   ],
   "source": [
    "file = open('esc1.txt', 'r')\n",
    "lines = file.readlines()\n",
    "print(lines)\n",
    "file.close()"
   ]
  },
  {
   "cell_type": "code",
   "execution_count": 187,
   "metadata": {},
   "outputs": [
    {
     "name": "stderr",
     "output_type": "stream",
     "text": [
      "IOPub data rate exceeded.\n",
      "The notebook server will temporarily stop sending output\n",
      "to the client in order to avoid crashing it.\n",
      "To change this limit, set the config variable\n",
      "`--NotebookApp.iopub_data_rate_limit`.\n",
      "\n",
      "Current values:\n",
      "NotebookApp.iopub_data_rate_limit=1000000.0 (bytes/sec)\n",
      "NotebookApp.rate_limit_window=3.0 (secs)\n",
      "\n"
     ]
    }
   ],
   "source": [
    "# Open the file correctly and use the right file object\n",
    "data = open('data.txt', 'r')  # Open the file\n",
    "content1 = data.read()  # Read the content from the file\n",
    "print(content1)  # Print the content\n",
    "data.close()  # Close the file after reading\n"
   ]
  },
  {
   "cell_type": "code",
   "execution_count": 127,
   "metadata": {},
   "outputs": [],
   "source": [
    "#help(open)"
   ]
  },
  {
   "cell_type": "code",
   "execution_count": 192,
   "metadata": {},
   "outputs": [
    {
     "ename": "SyntaxError",
     "evalue": "invalid syntax (3322770070.py, line 1)",
     "output_type": "error",
     "traceback": [
      "\u001b[1;36m  File \u001b[1;32m\"C:\\Users\\User\\AppData\\Local\\Temp\\ipykernel_8288\\3322770070.py\"\u001b[1;36m, line \u001b[1;32m1\u001b[0m\n\u001b[1;33m    On your machine, in the folder `python_course_colab_notebooks` (see [here](https://github.com/ai-technipreneurs/python_course_colab_notebooks/tree/main)), create a file name `testfile.txt` and populate it withthis info:\u001b[0m\n\u001b[1;37m       ^\u001b[0m\n\u001b[1;31mSyntaxError\u001b[0m\u001b[1;31m:\u001b[0m invalid syntax\n"
     ]
    }
   ],
   "source": [
    "On your machine, in the folder `python_course_colab_notebooks` (see [here](https://github.com/ai-technipreneurs/python_course_colab_notebooks/tree/main)), create a file name `testfile.txt` and populate it withthis info:\n",
    "\n",
    "    fghij\n",
    "    aims class\n",
    "    Rwanda 2024\n",
    "    this is really cool\n",
    "\n"
   ]
  },
  {
   "cell_type": "code",
   "execution_count": null,
   "metadata": {},
   "outputs": [],
   "source": []
  },
  {
   "cell_type": "markdown",
   "metadata": {},
   "source": [
    "In the code below, I've opened that file, it contains one line:\n",
    "\n",
    "    $ cat testfile.txt\n",
    "    abcde\n",
    "    fghij\n",
    "    aims class\n",
    "    Rwanda 2024\n",
    "    this is really cool\n",
    "\n",
    "Now let's open this file in Python:"
   ]
  },
  {
   "cell_type": "code",
   "execution_count": 193,
   "metadata": {},
   "outputs": [
    {
     "name": "stdout",
     "output_type": "stream",
     "text": [
      "fghij\n",
      "aims class\n",
      "Rwanda 2024\n",
      "this is really cool\n"
     ]
    }
   ],
   "source": [
    "file = open('testfile.txt', 'r') \n",
    "d = file.read()  \n",
    "print(d)  \n",
    "file.close() "
   ]
  },
  {
   "cell_type": "code",
   "execution_count": 180,
   "metadata": {},
   "outputs": [
    {
     "name": "stdout",
     "output_type": "stream",
     "text": [
      "hey there\n",
      "i would like to go there sometime\n",
      "but i fear being laughed at\n"
     ]
    }
   ],
   "source": [
    "\n",
    "read_filr = open('esc1.txt', 'r')  \n",
    "read = read_filr.read()\n",
    "print(read)\n",
    "read_filr.close() \n"
   ]
  },
  {
   "cell_type": "code",
   "execution_count": 181,
   "metadata": {},
   "outputs": [
    {
     "name": "stdout",
     "output_type": "stream",
     "text": [
      "my name is joseph.\n"
     ]
    }
   ],
   "source": [
    "# Read entire file\n",
    "file = open('file.txt', 'r')\n",
    "content = file.read()\n",
    "print(content)\n",
    "file.close()\n"
   ]
  },
  {
   "cell_type": "code",
   "execution_count": 203,
   "metadata": {},
   "outputs": [],
   "source": [
    "f = open('testfile.txt','r')\n",
    "\n"
   ]
  },
  {
   "cell_type": "code",
   "execution_count": 211,
   "metadata": {},
   "outputs": [
    {
     "name": "stdout",
     "output_type": "stream",
     "text": [
      "\n",
      "Rw\n"
     ]
    }
   ],
   "source": [
    "s = f.read(3)\n",
    "print(s)"
   ]
  },
  {
   "cell_type": "markdown",
   "metadata": {},
   "source": [
    "We read the first three characters, where each character is a byte long.\n",
    "We can see that the file handle points to the 4th byte (index number 3)\n",
    "in the file:"
   ]
  },
  {
   "cell_type": "code",
   "execution_count": 205,
   "metadata": {},
   "outputs": [
    {
     "data": {
      "text/plain": [
       "3"
      ]
     },
     "execution_count": 205,
     "metadata": {},
     "output_type": "execute_result"
    }
   ],
   "source": [
    "f.tell()"
   ]
  },
  {
   "cell_type": "code",
   "execution_count": 206,
   "metadata": {},
   "outputs": [
    {
     "data": {
      "text/plain": [
       "'i'"
      ]
     },
     "execution_count": 206,
     "metadata": {},
     "output_type": "execute_result"
    }
   ],
   "source": [
    "f.read(1)"
   ]
  },
  {
   "cell_type": "code",
   "execution_count": 228,
   "metadata": {},
   "outputs": [],
   "source": [
    "f.close() # close the old handle"
   ]
  },
  {
   "cell_type": "code",
   "execution_count": 229,
   "metadata": {},
   "outputs": [
    {
     "ename": "ValueError",
     "evalue": "I/O operation on closed file.",
     "output_type": "error",
     "traceback": [
      "\u001b[1;31m---------------------------------------------------------------------------\u001b[0m",
      "\u001b[1;31mValueError\u001b[0m                                Traceback (most recent call last)",
      "\u001b[1;32m~\\AppData\\Local\\Temp\\ipykernel_8288\\1060723511.py\u001b[0m in \u001b[0;36m<module>\u001b[1;34m\u001b[0m\n\u001b[1;32m----> 1\u001b[1;33m \u001b[0mf\u001b[0m\u001b[1;33m.\u001b[0m\u001b[0mread\u001b[0m\u001b[1;33m(\u001b[0m\u001b[1;33m)\u001b[0m  \u001b[1;31m# can't read anymore because the file is closed.\u001b[0m\u001b[1;33m\u001b[0m\u001b[1;33m\u001b[0m\u001b[0m\n\u001b[0m",
      "\u001b[1;31mValueError\u001b[0m: I/O operation on closed file."
     ]
    }
   ],
   "source": [
    "f.read()  # can't read anymore because the file is closed."
   ]
  },
  {
   "cell_type": "markdown",
   "metadata": {},
   "source": [
    "The file we are using is a long series of characters, but two of the characters are new line characters. If we looked at the file in sequence, it would look like \"abcdenfghijn\". Separating a file into lines is popular enough that there are two ways to read whole lines in a file. The first is to use the `readlines()` method:"
   ]
  },
  {
   "cell_type": "code",
   "execution_count": 227,
   "metadata": {},
   "outputs": [
    {
     "name": "stdout",
     "output_type": "stream",
     "text": [
      "['fghij\\n', 'aims class\\n', 'Rwanda 2024\\n', 'this is really cool']\n"
     ]
    }
   ],
   "source": [
    "f = open('testfile.txt','r')\n",
    "lines = f.readlines()\n",
    "print(lines)\n",
    "f.close()  # Always close the file when you are done with it"
   ]
  },
  {
   "cell_type": "markdown",
   "metadata": {},
   "source": [
    "A very important point about the readline method is that it *keeps* the\n",
    "newline character at the end of each line. You can use the strip()\n",
    "method to get rid of the string.\n",
    "\n",
    "File handles are also iterable, which means we can use them in for loops\n",
    "or list extensions:"
   ]
  },
  {
   "cell_type": "code",
   "execution_count": 225,
   "metadata": {},
   "outputs": [
    {
     "name": "stdout",
     "output_type": "stream",
     "text": [
      "['fghij', 'aims class', 'Rwanda 2024', 'this is really cool']\n"
     ]
    }
   ],
   "source": [
    "f = open('testfile.txt','r')\n",
    "lines = [line.strip() for line in f]\n",
    "f.close()\n",
    "print(lines)"
   ]
  },
  {
   "cell_type": "code",
   "execution_count": 226,
   "metadata": {},
   "outputs": [
    {
     "name": "stdout",
     "output_type": "stream",
     "text": [
      "['fghij', 'aims class', 'Rwanda 2024', 'this is really cool']\n"
     ]
    }
   ],
   "source": [
    "lines = []\n",
    "f = open('testfile.txt','r')\n",
    "for line in f:\n",
    "    lines.append(line.strip())\n",
    "f.close()\n",
    "print(lines)"
   ]
  },
  {
   "cell_type": "markdown",
   "metadata": {},
   "source": [
    "These are equivalent operations. It's often best to handle a file one line at a time, particularly when the file is so large it might not fit in memory.\n",
    "\n",
    "The other half of the story is writing output to files. We'll talk about two techniques: writing to the shell and writing to files directly.\n",
    "\n",
    "If your program only creates one stream of output, it's often a good idea to write to the shell using the print function. There are several advantages to this strategy, including the fact that it allows the user to select where they want to store the output without worrying about any command line flags. You can use `\\>` to direct the output of your program to a file or use `|` to pipe it to another program.\n",
    "\n",
    "Sometimes, you need to direct your output directly to a file handle. For instance, if your program produces two output streams, you may want to assign two open file handles. Opening a file for reading simply requires changing the second option from `r` to `w` or `a`.\n",
    "\n",
    "*Caution!* Opening a file with the 'w' option means start writing *at the beginning*, which may overwrite old material. If you want to append to the file without losing what is already there, open it with 'a'.\n",
    "\n",
    "Writing to a file uses the `write()` command, which accepts a string."
   ]
  },
  {
   "cell_type": "code",
   "execution_count": 224,
   "metadata": {},
   "outputs": [],
   "source": [
    "outfile = open('outfile.txt','w')\n",
    "outfile.write('This is the first line!')\n",
    "outfile.close()"
   ]
  },
  {
   "cell_type": "code",
   "execution_count": null,
   "metadata": {},
   "outputs": [],
   "source": []
  },
  {
   "cell_type": "markdown",
   "metadata": {},
   "source": [
    "Another way to write to a file is to use `writelines()`, which accepts a\n",
    "list of strings and writes them in order. *Caution!* `writelines` does not\n",
    "append newlines. If you really want to write a newline at the end of\n",
    "each string in the list, add it yourself."
   ]
  },
  {
   "cell_type": "markdown",
   "metadata": {},
   "source": [
    "# Practical_2: String and files\n",
    "#Exercise 1:\n",
    "#Create a string variable text and assign it the value \"Python is amazing!\""
   ]
  },
  {
   "cell_type": "markdown",
   "metadata": {},
   "source": [
    "#Exercise 1:\n",
    "#Create a string variable text and assign it the value \"Python is amazing!\""
   ]
  },
  {
   "cell_type": "code",
   "execution_count": 230,
   "metadata": {},
   "outputs": [
    {
     "name": "stdout",
     "output_type": "stream",
     "text": [
      "python is amazing <class 'str'>\n"
     ]
    }
   ],
   "source": [
    "text=\"python is amazing\"\n",
    "print(text,type(text))"
   ]
  },
  {
   "cell_type": "markdown",
   "metadata": {},
   "source": [
    "#Exercise 2:\n",
    "Find the length of the string \"Hello, World!\" and store it in a variable length."
   ]
  },
  {
   "cell_type": "code",
   "execution_count": 232,
   "metadata": {},
   "outputs": [
    {
     "name": "stdout",
     "output_type": "stream",
     "text": [
      "Hello, World!\n"
     ]
    },
    {
     "data": {
      "text/plain": [
       "13"
      ]
     },
     "execution_count": 232,
     "metadata": {},
     "output_type": "execute_result"
    }
   ],
   "source": [
    "length=\"Hello, World!\"\n",
    "print(length)\n",
    "len(length)"
   ]
  },
  {
   "cell_type": "markdown",
   "metadata": {},
   "source": [
    "#Exercise 3:\n",
    "Convert the string \"python programming\" to uppercase and store it in a variable upper_text."
   ]
  },
  {
   "cell_type": "code",
   "execution_count": 236,
   "metadata": {},
   "outputs": [
    {
     "name": "stdout",
     "output_type": "stream",
     "text": [
      "python programming\n"
     ]
    },
    {
     "data": {
      "text/plain": [
       "'PYTHON PROGRAMMING'"
      ]
     },
     "execution_count": 236,
     "metadata": {},
     "output_type": "execute_result"
    }
   ],
   "source": [
    "upper_text=\"python programming\" \n",
    "print(upper_text)\n",
    "upper_text.upper()"
   ]
  },
  {
   "cell_type": "markdown",
   "metadata": {},
   "source": [
    "# Exercise 6:\n",
    "#Replace1 the word \"dog\" with \"cat\" in the string \"The quick brown dog jumps over the lazy dog.\"."
   ]
  },
  {
   "cell_type": "code",
   "execution_count": 240,
   "metadata": {
    "scrolled": true
   },
   "outputs": [
    {
     "name": "stdout",
     "output_type": "stream",
     "text": [
      "The quick brown dog jumps over the lazy dog.\n"
     ]
    },
    {
     "data": {
      "text/plain": [
       "'The quick brown cat jumps over the lazy cat.'"
      ]
     },
     "execution_count": 240,
     "metadata": {},
     "output_type": "execute_result"
    }
   ],
   "source": [
    "rep=\"The quick brown dog jumps over the lazy dog.\"\n",
    "print(rep)\n",
    "rep.replace(\"dog\",\"cat\")"
   ]
  },
  {
   "cell_type": "markdown",
   "metadata": {},
   "source": [
    "# Exercise 7\n",
    "Exercise 7:\n",
    "Split the string \"apple,banana,orange\" by commas and store the result in a list fruits_list."
   ]
  },
  {
   "cell_type": "code",
   "execution_count": 306,
   "metadata": {},
   "outputs": [
    {
     "name": "stdout",
     "output_type": "stream",
     "text": [
      "['apple', 'banana', 'orange']\n"
     ]
    },
    {
     "data": {
      "text/plain": [
       "list"
      ]
     },
     "execution_count": 306,
     "metadata": {},
     "output_type": "execute_result"
    }
   ],
   "source": [
    "list_fruits= \"apple,banana,orange\"\n",
    "list1=list_fruits.split(\",\")\n",
    "print(list1)\n",
    "type(list1)\n",
    "\n",
    "\n"
   ]
  },
  {
   "cell_type": "markdown",
   "metadata": {},
   "source": [
    "# Exercise 8:\n",
    "Use string formatting to create the sentence \"My name is Alice and I am 25 years old.\", where the name and age are variables."
   ]
  },
  {
   "cell_type": "code",
   "execution_count": 248,
   "metadata": {},
   "outputs": [
    {
     "name": "stdout",
     "output_type": "stream",
     "text": [
      "my name is Alice and i am 25 years old\n"
     ]
    }
   ],
   "source": [
    "print(\"{name} and {age}\".format(name='my name is Alice' , age ='i am 25 years old'))"
   ]
  },
  {
   "cell_type": "markdown",
   "metadata": {},
   "source": [
    "# Exercise 9:\n",
    "Check if the string \"python\" is present in the sentence \"I love python programming\"."
   ]
  },
  {
   "cell_type": "code",
   "execution_count": 321,
   "metadata": {},
   "outputs": [
    {
     "name": "stdout",
     "output_type": "stream",
     "text": [
      "True\n"
     ]
    }
   ],
   "source": [
    "sentence=\"I love python programming\"\n",
    "word=\"python\"\n",
    "check= word in sentence\n",
    "print(check)"
   ]
  },
  {
   "cell_type": "markdown",
   "metadata": {},
   "source": [
    "# Exercise 10\n",
    "Exercise 10:\n",
    "Count the number of occurrences of the letter \"e\" in the string \"Elephant is an elegant animal\"."
   ]
  },
  {
   "cell_type": "code",
   "execution_count": 256,
   "metadata": {},
   "outputs": [
    {
     "name": "stdout",
     "output_type": "stream",
     "text": [
      "elephant is an elegant animal\n"
     ]
    },
    {
     "data": {
      "text/plain": [
       "4"
      ]
     },
     "execution_count": 256,
     "metadata": {},
     "output_type": "execute_result"
    }
   ],
   "source": [
    "coun=\"elephant is an elegant animal\"\n",
    "print(coun)\n",
    "coun.count(\"e\")"
   ]
  },
  {
   "cell_type": "markdown",
   "metadata": {},
   "source": [
    "# Exercise 11\n",
    "Exercise 11:\n",
    "Remove any leading and trailing spaces from the string \"   Data Science   \"."
   ]
  },
  {
   "cell_type": "code",
   "execution_count": 283,
   "metadata": {},
   "outputs": [
    {
     "name": "stdout",
     "output_type": "stream",
     "text": [
      "   Data Science   \n",
      "   Data Science    \n",
      "['Data', 'Science']\n"
     ]
    }
   ],
   "source": [
    "rem = \"   Data Science   \"\n",
    "print(rem)\n",
    "print(rem,'')\n",
    "print(rem.split())"
   ]
  },
  {
   "cell_type": "markdown",
   "metadata": {},
   "source": [
    "# Exercise 12\n",
    "Exercise 12:Convert the string \"100\" into an integer and store it in a variable int_value."
   ]
  },
  {
   "cell_type": "code",
   "execution_count": 284,
   "metadata": {},
   "outputs": [
    {
     "name": "stdout",
     "output_type": "stream",
     "text": [
      "100 <class 'str'>\n",
      "100 <class 'int'>\n"
     ]
    }
   ],
   "source": [
    "convert=\"100\"\n",
    "print(convert,type(convert))\n",
    "int_value=100\n",
    "print(int_value,type(int_value))"
   ]
  },
  {
   "cell_type": "markdown",
   "metadata": {},
   "source": [
    "# Exercise 13\n",
    "Exercise 13:\n",
    "Extract the substring \"pro\" from the string \"programming\".\n"
   ]
  },
  {
   "cell_type": "code",
   "execution_count": 307,
   "metadata": {},
   "outputs": [
    {
     "name": "stdout",
     "output_type": "stream",
     "text": [
      "pro\n"
     ]
    }
   ],
   "source": [
    "extr=\"programming\"\n",
    "print(extr[0:3])\n"
   ]
  },
  {
   "cell_type": "markdown",
   "metadata": {},
   "source": [
    "# Exercise 14\n",
    "Exercise 14:\n",
    "Check if the string \"data\" starts with \"da\" and ends with \"ta\"."
   ]
  },
  {
   "cell_type": "code",
   "execution_count": 318,
   "metadata": {},
   "outputs": [
    {
     "name": "stdout",
     "output_type": "stream",
     "text": [
      "start with:'da':True\n",
      "end with:\"ta\":True\n"
     ]
    }
   ],
   "source": [
    "string=\"data\"\n",
    "start=string.startswith(\"da\")\n",
    "end=string.endswith(\"ta\")\n",
    "print(f\"start with:'da':{start}\")\n",
    "print(f'end with:\"ta\":{end}')"
   ]
  },
  {
   "cell_type": "markdown",
   "metadata": {},
   "source": [
    "# Exercise 15\n",
    "Exercise 15:\n",
    "Reverse the string \"machine learning\" and store the result in reversed_text.\n"
   ]
  },
  {
   "cell_type": "code",
   "execution_count": 326,
   "metadata": {},
   "outputs": [
    {
     "name": "stdout",
     "output_type": "stream",
     "text": [
      "gninrael enihcam\n"
     ]
    }
   ],
   "source": [
    "rev=\"machine learning\" \n",
    "print(rev[::-1])"
   ]
  },
  {
   "cell_type": "markdown",
   "metadata": {},
   "source": [
    "# Exercise 16\n",
    "Exercise 16:\n",
    "Convert the first letter of each word in the string \"machine learning is fun\" to uppercase."
   ]
  },
  {
   "cell_type": "code",
   "execution_count": 329,
   "metadata": {},
   "outputs": [
    {
     "name": "stdout",
     "output_type": "stream",
     "text": [
      "MACHINE LEARNING IS FUN\n"
     ]
    }
   ],
   "source": [
    "con=\"machine learning is fun\" \n",
    "print(con.upper())"
   ]
  },
  {
   "cell_type": "markdown",
   "metadata": {},
   "source": [
    "# Exercise 17\n",
    "Exercise 17:\n",
    "Create a multiline string representing a poem and store it in a variable poem."
   ]
  },
  {
   "cell_type": "code",
   "execution_count": 337,
   "metadata": {},
   "outputs": [
    {
     "name": "stdout",
     "output_type": "stream",
     "text": [
      "Nature's first green is gold,\n",
      "Her hardest hue to hold.\n",
      "Her early leaf's a flower;\n",
      "But only so an hour.\n"
     ]
    }
   ],
   "source": [
    "poem = \"\"\"Nature's first green is gold,\n",
    "Her hardest hue to hold.\n",
    "Her early leaf's a flower;\n",
    "But only so an hour.\"\"\"\n",
    "print(poem)\n",
    "\n"
   ]
  },
  {
   "cell_type": "markdown",
   "metadata": {},
   "source": [
    "# Exercise 17\n",
    "Exercise 18:\n",
    "Write a string to a file named \"output.txt\"._"
   ]
  },
  {
   "cell_type": "code",
   "execution_count": null,
   "metadata": {},
   "outputs": [],
   "source": [
    "file=open('output.txt','w')\n"
   ]
  },
  {
   "cell_type": "code",
   "execution_count": null,
   "metadata": {},
   "outputs": [],
   "source": [
    "# Exercise 18\n",
    "Exercise 19:\n",
    "Read the contents of a file named \"data.txt\" and print it line by line."
   ]
  },
  {
   "cell_type": "code",
   "execution_count": 345,
   "metadata": {},
   "outputs": [
    {
     "name": "stdout",
     "output_type": "stream",
     "text": [
      "this is a string file,"
     ]
    }
   ],
   "source": [
    "file = open('output.txt', 'r')\n",
    "line = file.readline()  # Read the first line\n",
    "\n",
    "while line:  # While there is a line to read\n",
    "    print(line, end=\",\")  # Print the line with a comma\n",
    "    line = file.readline()  # Read the next line\n",
    "\n",
    "file.close()  # Always close the file when done\n",
    "\n"
   ]
  },
  {
   "cell_type": "code",
   "execution_count": null,
   "metadata": {},
   "outputs": [],
   "source": []
  },
  {
   "cell_type": "markdown",
   "metadata": {},
   "source": [
    "# Exercise 19\n",
    "Exercise 20:\n",
    "Check if a file \"example.txt\" exists before opening it."
   ]
  },
  {
   "cell_type": "code",
   "execution_count": null,
   "metadata": {},
   "outputs": [],
   "source": []
  },
  {
   "cell_type": "code",
   "execution_count": null,
   "metadata": {},
   "outputs": [],
   "source": [
    "# Exercise 20\n",
    "Exercise 21:\n",
    "Append a new line \"This is a new line\" to an existing file \"notes.txt\".\n",
    "\n",
    "# Exercise 21\n",
    "Exercise 22:\n",
    "Read the contents of a file \"log.txt\" and store each line in a list log_lines.\n",
    "\n",
    "# Exercise 22\n",
    "Exercise 23:\n",
    "Create a new file \"report.txt\" and write the string \"Data analysis report\" to it.\n",
    "\n",
    "# Exercise 23\n",
    "Exercise 24:\n",
    "Replace the word \"error\" with \"issue\" in a file \"log.txt\".\n",
    "\n",
    "# Exercise 24\n",
    "Exercise 25:\n",
    "Count the number of words in a text file \"document.txt\".\n",
    "\n",
    "# Exercise 25\n",
    "Exercise 26:\n",
    "Write a Python script that reads a file \"essay.txt\" and prints the total number of lines, words, and characters.\n",
    "\n",
    "# Exercise 26\n",
    "Exercise 27:\n",
    "Copy the contents of one file \"source.txt\" to another file \"destination.txt\".\n",
    "\n",
    "# Exercise 27\n",
    "Exercise 28:\n",
    "Write a Python function that takes a filename as input and returns the number of lines in the file.\n",
    "\n",
    "# Exercise 28\n",
    "Exercise 29:\n",
    "Extract all the words from a text file \"article.txt\" that contain more than 5 characters.\n",
    "\n",
    "# Exercise 29\n",
    "Exercise 30:\n",
    "Convert the contents of a file \"notes.txt\" to uppercase and save the result in another file \"uppercase_notes.txt\".\n",
    "\n",
    "# Exercise 30\n",
    "Exercise 31:\n",
    "Write a Python script that reads a file and removes all empty lines.\n",
    "\n",
    "# Exercise 31\n",
    "Exercise 32:\n",
    "Open a file \"config.txt\" in both read and write mode.\n",
    "\n",
    "# Exercise 32\n",
    "Exercise 33:\n",
    "Write a Python function that reads a file and prints the longest line in the file.\n",
    "\n",
    "# Exercise 33\n",
    "Exercise 34:\n",
    "Write a Python script to count the frequency of each letter in a text file \"message.txt\".\n",
    "\n",
    "# Exercise 34\n",
    "Exercise 35:\n",
    "Write a Python script that reads a file and prints the total number of characters, excluding spaces.\n",
    "\n",
    "# Exercise 35\n",
    "Exercise 36:\n",
    "Create a Python script to check whether a file is empty or not.\n",
    "\n",
    "# Exercise 36\n",
    "Exercise 37:\n",
    "Write a Python function that reads a file and removes all punctuation marks from the text.\n",
    "\n",
    "# Exercise 37\n",
    "Exercise 38:\n",
    "Create a Python function that writes a list of strings to a file, each string on a new line.\n",
    "\n",
    "# Exercise 38\n",
    "Exercise 39:\n",
    "Write a Python script to count the number of lines that start with a specific letter (e.g., \"A\") in a text file.\n",
    "\n",
    "# Exercise 39\n",
    "Exercise 40:\n",
    "Write a Python function that takes a string as input and writes it to a file \"output.txt\" in reverse order.\n",
    "\n",
    "# Exercise 40\n",
    "Exercise 41:\n",
    "Write a Python script that reads a file and prints all the lines that contain the word \"Python\".\n",
    "\n",
    "# Exercise 41\n",
    "Exercise 42:\n",
    "Write a Python script that opens a file and removes all numeric digits from the file's content.\n",
    "\n",
    "# Exercise 42\n",
    "Exercise 43:\n",
    "Write a Python script to find the most frequent word in a text file \"book.txt\".\n",
    "\n",
    "# Exercise 43\n",
    "Exercise 44:\n",
    "Write a Python script that reads a file and prints all the lines that contain exactly 5 words.\n",
    "\n",
    "# Exercise 44\n",
    "Exercise 45:\n",
    "Write a Python script to read a file and print the first and last line of the file.\n",
    "\n",
    "# Exercise 45\n",
    "Exercise 46:\n",
    "Write a Python script that checks if a file \"students.txt\" is writable.\n",
    "\n",
    "# Exercise 46\n",
    "Exercise 47:\n",
    "Create a Python function that opens a file and returns the number of unique words in the file.\n",
    "\n",
    "# Exercise 47\n",
    "Exercise 48:\n",
    "Write a Python script that reads a file and prints all lines in reverse order.\n",
    "\n",
    "# Exercise 48\n",
    "Exercise 49:\n",
    "Write a Python function that reads a file and returns the most common letter in the text.\n",
    "\n",
    "# Exercise 49\n",
    "Exercise 50:\n",
    "Write a Python script that reads a file and replaces every occurrence of \"Python\" with \"Java\".\n",
    "\n",
    "# Exercise 50"
   ]
  },
  {
   "cell_type": "markdown",
   "metadata": {},
   "source": [
    "<!--NAVIGATION-->\n",
    "<  [1. Variables et Affectations](01_Lecture01.ipynb)| [Sommaire](Index.ipynb) |  [3. Objets itérables ou conteneurs](03_Lecture03.ipynb) >\n"
   ]
  },
  {
   "cell_type": "code",
   "execution_count": 95,
   "metadata": {},
   "outputs": [
    {
     "name": "stdout",
     "output_type": "stream",
     "text": [
      "3 fois 4 font 12\n"
     ]
    }
   ],
   "source": [
    "print(\"{0} fois {1} font {2}\".format(3,4,3*4))"
   ]
  },
  {
   "cell_type": "code",
   "execution_count": 95,
   "metadata": {},
   "outputs": [
    {
     "name": "stdout",
     "output_type": "stream",
     "text": [
      "3 fois 4 font 12\n"
     ]
    }
   ],
   "source": [
    "print(\"{0} fois {1} font {2}\".format(3,4,3*4))"
   ]
  }
 ],
 "metadata": {
  "kernelspec": {
   "display_name": "Python 3 (ipykernel)",
   "language": "python",
   "name": "python3"
  },
  "language_info": {
   "codemirror_mode": {
    "name": "ipython",
    "version": 3
   },
   "file_extension": ".py",
   "mimetype": "text/x-python",
   "name": "python",
   "nbconvert_exporter": "python",
   "pygments_lexer": "ipython3",
   "version": "3.9.13"
  }
 },
 "nbformat": 4,
 "nbformat_minor": 2
}
